{
 "cells": [
  {
   "cell_type": "markdown",
   "id": "eae3c496",
   "metadata": {},
   "source": [
    "<h1><center><font size=10>Good Cardio Fitness Project</center></font></h1>"
   ]
  },
  {
   "cell_type": "markdown",
   "id": "0dab1724",
   "metadata": {},
   "source": [
    "### **Context**\n",
    "The data is about customers of the treadmill product(s) of a retail store called Cardio Good Fitness. A treadmill is a device generally used for walking, running, or climbing while staying in the same place. It can be purchased and placed at home or can be accessed in most GYMs. Today most advanced Treadmills offer very advanced subscription to their users in order to get them to purhcase while interacting with interactive apps built around the treadmills. Regardless of how advanced Treadmills are in tech sorrounding them, they are popular amongst all age groups, especially the young. Lets explore that assumtpion further by applying various other factors and categories to it based on the data we have."
   ]
  },
  {
   "cell_type": "markdown",
   "id": "f7edeedf",
   "metadata": {},
   "source": [
    "### **Data Description:**\n",
    "* Product - The model no. of the treadmill\n",
    "* Age -  Age of the customer in no of years\n",
    "* Gender - Gender of the customer\n",
    "* Education - Education of the customer in no. of years\n",
    "* Marital Status - Marital status of the customer\n",
    "* Usage - Avg. # times the customer wants to use the treadmill every week\n",
    "* Fitness - Self rated fitness score of the customer (5 - very fit, 1 - very unfit)\n",
    "* Income - Income of the customer\n",
    "* Miles- Miles that a customer expects to run"
   ]
  },
  {
   "cell_type": "markdown",
   "id": "c91510ef",
   "metadata": {},
   "source": [
    "### **Importing the necessary packages**"
   ]
  },
  {
   "cell_type": "code",
   "execution_count": 2,
   "id": "dbe7bb35",
   "metadata": {},
   "outputs": [],
   "source": [
    "# For reading and manipulating data\n",
    "import pandas as pd\n",
    "import numpy as np \n",
    "# Libraries used data visualization\n",
    "import seaborn as sns \n",
    "import matplotlib.pyplot as plt\n",
    "\n",
    "# Command to tell Python to actually display the graphs\n",
    "%matplotlib inline\n",
    "\n",
    "pd.set_option(\"display.float_format\", lambda x: \"%.2f\" % x) #to display values upto 2 decimal places\n",
    "\n"
   ]
  },
  {
   "cell_type": "markdown",
   "id": "ddcdfbeb",
   "metadata": {},
   "source": [
    "### **Reading the DataSet**"
   ]
  },
  {
   "cell_type": "code",
   "execution_count": 3,
   "id": "d79bd492",
   "metadata": {},
   "outputs": [],
   "source": [
    "# Importing the Dataset\n",
    "data=pd.read_csv(\"https://raw.githubusercontent.com/miricoder/projects/main/datasets/CardioGoodFitness.csv\")"
   ]
  },
  {
   "cell_type": "code",
   "execution_count": 4,
   "id": "c79d49ca",
   "metadata": {},
   "outputs": [],
   "source": [
    "# copying data to another variable to avoid any changes to original data\n",
    "df = data.copy()"
   ]
  },
  {
   "cell_type": "markdown",
   "id": "b00a2b3e",
   "metadata": {},
   "source": [
    "### **Data Overview and Sanity Check**"
   ]
  },
  {
   "cell_type": "markdown",
   "id": "769c682e",
   "metadata": {},
   "source": [
    "#### **Displaying the first few rows of the dataset**"
   ]
  },
  {
   "cell_type": "code",
   "execution_count": 5,
   "id": "aa6f8951",
   "metadata": {},
   "outputs": [
    {
     "data": {
      "text/html": [
       "<div>\n",
       "<style scoped>\n",
       "    .dataframe tbody tr th:only-of-type {\n",
       "        vertical-align: middle;\n",
       "    }\n",
       "\n",
       "    .dataframe tbody tr th {\n",
       "        vertical-align: top;\n",
       "    }\n",
       "\n",
       "    .dataframe thead th {\n",
       "        text-align: right;\n",
       "    }\n",
       "</style>\n",
       "<table border=\"1\" class=\"dataframe\">\n",
       "  <thead>\n",
       "    <tr style=\"text-align: right;\">\n",
       "      <th></th>\n",
       "      <th>Product</th>\n",
       "      <th>Age</th>\n",
       "      <th>Gender</th>\n",
       "      <th>Education</th>\n",
       "      <th>MaritalStatus</th>\n",
       "      <th>Usage</th>\n",
       "      <th>Fitness</th>\n",
       "      <th>Income</th>\n",
       "      <th>Miles</th>\n",
       "    </tr>\n",
       "  </thead>\n",
       "  <tbody>\n",
       "    <tr>\n",
       "      <th>0</th>\n",
       "      <td>TM195</td>\n",
       "      <td>18</td>\n",
       "      <td>Male</td>\n",
       "      <td>14</td>\n",
       "      <td>Single</td>\n",
       "      <td>3</td>\n",
       "      <td>4</td>\n",
       "      <td>29562</td>\n",
       "      <td>112</td>\n",
       "    </tr>\n",
       "    <tr>\n",
       "      <th>1</th>\n",
       "      <td>TM195</td>\n",
       "      <td>19</td>\n",
       "      <td>Male</td>\n",
       "      <td>15</td>\n",
       "      <td>Single</td>\n",
       "      <td>2</td>\n",
       "      <td>3</td>\n",
       "      <td>31836</td>\n",
       "      <td>75</td>\n",
       "    </tr>\n",
       "    <tr>\n",
       "      <th>2</th>\n",
       "      <td>TM195</td>\n",
       "      <td>19</td>\n",
       "      <td>Female</td>\n",
       "      <td>14</td>\n",
       "      <td>Partnered</td>\n",
       "      <td>4</td>\n",
       "      <td>3</td>\n",
       "      <td>30699</td>\n",
       "      <td>66</td>\n",
       "    </tr>\n",
       "    <tr>\n",
       "      <th>3</th>\n",
       "      <td>TM195</td>\n",
       "      <td>19</td>\n",
       "      <td>Male</td>\n",
       "      <td>12</td>\n",
       "      <td>Single</td>\n",
       "      <td>3</td>\n",
       "      <td>3</td>\n",
       "      <td>32973</td>\n",
       "      <td>85</td>\n",
       "    </tr>\n",
       "    <tr>\n",
       "      <th>4</th>\n",
       "      <td>TM195</td>\n",
       "      <td>20</td>\n",
       "      <td>Male</td>\n",
       "      <td>13</td>\n",
       "      <td>Partnered</td>\n",
       "      <td>4</td>\n",
       "      <td>2</td>\n",
       "      <td>35247</td>\n",
       "      <td>47</td>\n",
       "    </tr>\n",
       "  </tbody>\n",
       "</table>\n",
       "</div>"
      ],
      "text/plain": [
       "  Product  Age  Gender  Education MaritalStatus  Usage  Fitness  Income  Miles\n",
       "0   TM195   18    Male         14        Single      3        4   29562    112\n",
       "1   TM195   19    Male         15        Single      2        3   31836     75\n",
       "2   TM195   19  Female         14     Partnered      4        3   30699     66\n",
       "3   TM195   19    Male         12        Single      3        3   32973     85\n",
       "4   TM195   20    Male         13     Partnered      4        2   35247     47"
      ]
     },
     "execution_count": 5,
     "metadata": {},
     "output_type": "execute_result"
    }
   ],
   "source": [
    "df.head()"
   ]
  },
  {
   "cell_type": "markdown",
   "id": "68575e5c",
   "metadata": {},
   "source": [
    "* The Dataset has been properly loaded\n",
    "* Product Column displays the categories of different Treadmill brands\n",
    "* Gender Column is categorized into Males and Females\n",
    "* MaritalStatus Column is categorized into Singe and Partnered individuals \n",
    "* There're no float values in the DatasSet"
   ]
  },
  {
   "cell_type": "markdown",
   "id": "0580959d",
   "metadata": {},
   "source": [
    "#### **Checking the shape of the dataset**"
   ]
  },
  {
   "cell_type": "code",
   "execution_count": 6,
   "id": "6d6dc4cb",
   "metadata": {},
   "outputs": [
    {
     "data": {
      "text/plain": [
       "(180, 9)"
      ]
     },
     "execution_count": 6,
     "metadata": {},
     "output_type": "execute_result"
    }
   ],
   "source": [
    "df.shape"
   ]
  },
  {
   "cell_type": "markdown",
   "id": "5bfc2ab3",
   "metadata": {},
   "source": [
    "* There're 180 Rows and 9 columns in our DataSet"
   ]
  },
  {
   "cell_type": "markdown",
   "id": "167d1e6e",
   "metadata": {},
   "source": [
    "####**Checking the data types of the columns for the dataset**"
   ]
  },
  {
   "cell_type": "code",
   "execution_count": 7,
   "id": "18bb2312",
   "metadata": {},
   "outputs": [
    {
     "name": "stdout",
     "output_type": "stream",
     "text": [
      "<class 'pandas.core.frame.DataFrame'>\n",
      "RangeIndex: 180 entries, 0 to 179\n",
      "Data columns (total 9 columns):\n",
      " #   Column         Non-Null Count  Dtype \n",
      "---  ------         --------------  ----- \n",
      " 0   Product        180 non-null    object\n",
      " 1   Age            180 non-null    int64 \n",
      " 2   Gender         180 non-null    object\n",
      " 3   Education      180 non-null    int64 \n",
      " 4   MaritalStatus  180 non-null    object\n",
      " 5   Usage          180 non-null    int64 \n",
      " 6   Fitness        180 non-null    int64 \n",
      " 7   Income         180 non-null    int64 \n",
      " 8   Miles          180 non-null    int64 \n",
      "dtypes: int64(6), object(3)\n",
      "memory usage: 12.8+ KB\n"
     ]
    }
   ],
   "source": [
    "df.info()"
   ]
  },
  {
   "cell_type": "markdown",
   "id": "dd01d724",
   "metadata": {},
   "source": [
    "* There're 3 Objects Data Types\n",
    "* There're 6 Numerical Data Types"
   ]
  },
  {
   "cell_type": "markdown",
   "id": "dc82d45d",
   "metadata": {},
   "source": [
    "####**Checking statistical summary of the Data**"
   ]
  },
  {
   "cell_type": "code",
   "execution_count": 8,
   "id": "eacdf39b",
   "metadata": {},
   "outputs": [
    {
     "data": {
      "text/html": [
       "<div>\n",
       "<style scoped>\n",
       "    .dataframe tbody tr th:only-of-type {\n",
       "        vertical-align: middle;\n",
       "    }\n",
       "\n",
       "    .dataframe tbody tr th {\n",
       "        vertical-align: top;\n",
       "    }\n",
       "\n",
       "    .dataframe thead th {\n",
       "        text-align: right;\n",
       "    }\n",
       "</style>\n",
       "<table border=\"1\" class=\"dataframe\">\n",
       "  <thead>\n",
       "    <tr style=\"text-align: right;\">\n",
       "      <th></th>\n",
       "      <th>count</th>\n",
       "      <th>unique</th>\n",
       "      <th>top</th>\n",
       "      <th>freq</th>\n",
       "      <th>mean</th>\n",
       "      <th>std</th>\n",
       "      <th>min</th>\n",
       "      <th>25%</th>\n",
       "      <th>50%</th>\n",
       "      <th>75%</th>\n",
       "      <th>max</th>\n",
       "    </tr>\n",
       "  </thead>\n",
       "  <tbody>\n",
       "    <tr>\n",
       "      <th>Product</th>\n",
       "      <td>180</td>\n",
       "      <td>3</td>\n",
       "      <td>TM195</td>\n",
       "      <td>80</td>\n",
       "      <td>NaN</td>\n",
       "      <td>NaN</td>\n",
       "      <td>NaN</td>\n",
       "      <td>NaN</td>\n",
       "      <td>NaN</td>\n",
       "      <td>NaN</td>\n",
       "      <td>NaN</td>\n",
       "    </tr>\n",
       "    <tr>\n",
       "      <th>Age</th>\n",
       "      <td>180.00</td>\n",
       "      <td>NaN</td>\n",
       "      <td>NaN</td>\n",
       "      <td>NaN</td>\n",
       "      <td>28.79</td>\n",
       "      <td>6.94</td>\n",
       "      <td>18.00</td>\n",
       "      <td>24.00</td>\n",
       "      <td>26.00</td>\n",
       "      <td>33.00</td>\n",
       "      <td>50.00</td>\n",
       "    </tr>\n",
       "    <tr>\n",
       "      <th>Gender</th>\n",
       "      <td>180</td>\n",
       "      <td>2</td>\n",
       "      <td>Male</td>\n",
       "      <td>104</td>\n",
       "      <td>NaN</td>\n",
       "      <td>NaN</td>\n",
       "      <td>NaN</td>\n",
       "      <td>NaN</td>\n",
       "      <td>NaN</td>\n",
       "      <td>NaN</td>\n",
       "      <td>NaN</td>\n",
       "    </tr>\n",
       "    <tr>\n",
       "      <th>Education</th>\n",
       "      <td>180.00</td>\n",
       "      <td>NaN</td>\n",
       "      <td>NaN</td>\n",
       "      <td>NaN</td>\n",
       "      <td>15.57</td>\n",
       "      <td>1.62</td>\n",
       "      <td>12.00</td>\n",
       "      <td>14.00</td>\n",
       "      <td>16.00</td>\n",
       "      <td>16.00</td>\n",
       "      <td>21.00</td>\n",
       "    </tr>\n",
       "    <tr>\n",
       "      <th>MaritalStatus</th>\n",
       "      <td>180</td>\n",
       "      <td>2</td>\n",
       "      <td>Partnered</td>\n",
       "      <td>107</td>\n",
       "      <td>NaN</td>\n",
       "      <td>NaN</td>\n",
       "      <td>NaN</td>\n",
       "      <td>NaN</td>\n",
       "      <td>NaN</td>\n",
       "      <td>NaN</td>\n",
       "      <td>NaN</td>\n",
       "    </tr>\n",
       "    <tr>\n",
       "      <th>Usage</th>\n",
       "      <td>180.00</td>\n",
       "      <td>NaN</td>\n",
       "      <td>NaN</td>\n",
       "      <td>NaN</td>\n",
       "      <td>3.46</td>\n",
       "      <td>1.08</td>\n",
       "      <td>2.00</td>\n",
       "      <td>3.00</td>\n",
       "      <td>3.00</td>\n",
       "      <td>4.00</td>\n",
       "      <td>7.00</td>\n",
       "    </tr>\n",
       "    <tr>\n",
       "      <th>Fitness</th>\n",
       "      <td>180.00</td>\n",
       "      <td>NaN</td>\n",
       "      <td>NaN</td>\n",
       "      <td>NaN</td>\n",
       "      <td>3.31</td>\n",
       "      <td>0.96</td>\n",
       "      <td>1.00</td>\n",
       "      <td>3.00</td>\n",
       "      <td>3.00</td>\n",
       "      <td>4.00</td>\n",
       "      <td>5.00</td>\n",
       "    </tr>\n",
       "    <tr>\n",
       "      <th>Income</th>\n",
       "      <td>180.00</td>\n",
       "      <td>NaN</td>\n",
       "      <td>NaN</td>\n",
       "      <td>NaN</td>\n",
       "      <td>53719.58</td>\n",
       "      <td>16506.68</td>\n",
       "      <td>29562.00</td>\n",
       "      <td>44058.75</td>\n",
       "      <td>50596.50</td>\n",
       "      <td>58668.00</td>\n",
       "      <td>104581.00</td>\n",
       "    </tr>\n",
       "    <tr>\n",
       "      <th>Miles</th>\n",
       "      <td>180.00</td>\n",
       "      <td>NaN</td>\n",
       "      <td>NaN</td>\n",
       "      <td>NaN</td>\n",
       "      <td>103.19</td>\n",
       "      <td>51.86</td>\n",
       "      <td>21.00</td>\n",
       "      <td>66.00</td>\n",
       "      <td>94.00</td>\n",
       "      <td>114.75</td>\n",
       "      <td>360.00</td>\n",
       "    </tr>\n",
       "  </tbody>\n",
       "</table>\n",
       "</div>"
      ],
      "text/plain": [
       "               count unique        top freq     mean      std      min  \\\n",
       "Product          180      3      TM195   80      NaN      NaN      NaN   \n",
       "Age           180.00    NaN        NaN  NaN    28.79     6.94    18.00   \n",
       "Gender           180      2       Male  104      NaN      NaN      NaN   \n",
       "Education     180.00    NaN        NaN  NaN    15.57     1.62    12.00   \n",
       "MaritalStatus    180      2  Partnered  107      NaN      NaN      NaN   \n",
       "Usage         180.00    NaN        NaN  NaN     3.46     1.08     2.00   \n",
       "Fitness       180.00    NaN        NaN  NaN     3.31     0.96     1.00   \n",
       "Income        180.00    NaN        NaN  NaN 53719.58 16506.68 29562.00   \n",
       "Miles         180.00    NaN        NaN  NaN   103.19    51.86    21.00   \n",
       "\n",
       "                   25%      50%      75%       max  \n",
       "Product            NaN      NaN      NaN       NaN  \n",
       "Age              24.00    26.00    33.00     50.00  \n",
       "Gender             NaN      NaN      NaN       NaN  \n",
       "Education        14.00    16.00    16.00     21.00  \n",
       "MaritalStatus      NaN      NaN      NaN       NaN  \n",
       "Usage             3.00     3.00     4.00      7.00  \n",
       "Fitness           3.00     3.00     4.00      5.00  \n",
       "Income        44058.75 50596.50 58668.00 104581.00  \n",
       "Miles            66.00    94.00   114.75    360.00  "
      ]
     },
     "execution_count": 8,
     "metadata": {},
     "output_type": "execute_result"
    }
   ],
   "source": [
    "df.describe(include='all').T"
   ]
  },
  {
   "cell_type": "code",
   "execution_count": 9,
   "id": "096bcb14",
   "metadata": {},
   "outputs": [
    {
     "name": "stdout",
     "output_type": "stream",
     "text": [
      "Unique product list --  ['TM195' 'TM498' 'TM798']\n",
      "-----------------------------------------------------\n",
      "Most popular Product amongst the products --  0    TM195\n",
      "dtype: object\n"
     ]
    }
   ],
   "source": [
    "# Printing the most popular product as well as all unique categories of products\n",
    "unique_products=df['Product'].unique()\n",
    "mostUsed_product=df['Product'].mode()\n",
    "print(\"Unique product list -- \" ,unique_products)\n",
    "print(\"-----------------------------------------------------\")\n",
    "print(\"Most popular Product amongst the products -- \" ,mostUsed_product)"
   ]
  },
  {
   "cell_type": "markdown",
   "id": "676a0987",
   "metadata": {},
   "source": [
    "* There're 3 unique product categories with TM195 being most use or Top product \n",
    "* Mean(Average) age of users is close to 29 while age range is between 18 and 50 years old \n",
    "* Less than `75%` of user are `33 years` old where are less than `50%` of users are in their `mid 20's`\n",
    "* The standard deviation for age also big \n",
    "* There're 2 unique genders in the Data Set and 2 unique MaritalStatus's \n",
    "* Mean Education is 15.57 which is approx. 16 years of age, where education years range between `12 and 21`.\n",
    "* Median education and less than `75%` of education years is 16\n",
    "    Question Ask Instructor what does this mean? \n",
    "* Mean usage is 3.46 approx. 4 while less than `75%` of the usage is 4, where max usage is 7\n",
    "* Fitness Mean is 3.31 approx. 4 while less than 75% of the fitness level is also 4 here where max fitness level is at 5\n",
    "* Income mean is `53719.58` and it ranges between 29.5K and 104.5K with big standard deviation of `16.5K`\n",
    " - Median income of users is `50596.50` where less than `75%` makes more than `58K` and less than `25%` makes `44K`\n",
    "* Mean miles exepected to run by customer is `103`, where the range is between `21` and 360miles per week, with big standard deviation \n",
    " - Less than `75%` of users expect to run `144miles` where median expectation is set at `94Miles`.\n",
    "* Below are the unique categories in the DataSet\n",
    "   - Product = 3 , Gender = 2, MaritalStatus = 2"
   ]
  },
  {
   "cell_type": "markdown",
   "id": "98daa28a",
   "metadata": {},
   "source": [
    "#### **Missing Value Treatment**"
   ]
  },
  {
   "cell_type": "code",
   "execution_count": 10,
   "id": "aef7c121",
   "metadata": {},
   "outputs": [
    {
     "data": {
      "text/plain": [
       "Product          0\n",
       "Age              0\n",
       "Gender           0\n",
       "Education        0\n",
       "MaritalStatus    0\n",
       "Usage            0\n",
       "Fitness          0\n",
       "Income           0\n",
       "Miles            0\n",
       "dtype: int64"
      ]
     },
     "execution_count": 10,
     "metadata": {},
     "output_type": "execute_result"
    }
   ],
   "source": [
    "df.isnull().sum()"
   ]
  },
  {
   "cell_type": "markdown",
   "id": "4849f69a",
   "metadata": {},
   "source": [
    "* The dataset contains no missing values"
   ]
  },
  {
   "cell_type": "markdown",
   "id": "65c4305b",
   "metadata": {},
   "source": [
    "### **Exploritary Data Analysis**"
   ]
  },
  {
   "cell_type": "markdown",
   "id": "c4846eb7",
   "metadata": {},
   "source": [
    "#### **`Rusable Method for Histplot and boxplot`**"
   ]
  },
  {
   "cell_type": "code",
   "execution_count": 11,
   "id": "67179fa8",
   "metadata": {},
   "outputs": [],
   "source": [
    "def hist_box(data, feature, figsize=(10,5), kde=True, bins=None):\n",
    "    \"\"\"\n",
    "    Boxplot and Histogram combined within the same graph page \n",
    "    in order to make comparison and analysis more efficient \n",
    "    \n",
    "    data: dataframe\n",
    "    feature: dataframe column \n",
    "    figsize: size of the figures (default (10,5))\n",
    "    kde: whether to show the density curve (values set by user during usage - Boolean)\n",
    "    bins: number of bins for histogram (default None)\n",
    "\"\"\"\n",
    "    #f2 holds are graph withax_box2 and ax_hist2 params\n",
    "    f2, (ax_box2, ax_hist2) = plt.subplots(\n",
    "        nrows=2, #Number of rows of subplot grid=2\n",
    "        sharex=True, #x-axis will be shared among all subplots \n",
    "        gridspec_kw={\"height_ratios\": (0.25, 0.75)},\n",
    "        figsize=figsize)\n",
    "    \n",
    "    # boxplot will be created and a star will indicate the mean value of the column\n",
    "    sns.boxplot(data=data, x=feature, ax=ax_box2, showmeans=True, color=\"violet\") \n",
    "    \n",
    "    if bins:\n",
    "      sns.histplot(data=data, x=feature, kde=kde, ax=ax_hist2, bins=bins, palette=\"winter\")\n",
    "    else: \n",
    "      sns.histplot(data=data, x=feature, kde=kde, ax=ax_hist2)  # For histogram\n",
    "    \n",
    "    ax_hist2.axvline(data[feature].mean(), color=\"green\", linestyle=\"--\")  # Add mean to the histogram\n",
    "    \n",
    "    ax_hist2.axvline(data[feature].median(), color=\"black\", linestyle=\"-\")  # Add median to the histogram"
   ]
  },
  {
   "cell_type": "markdown",
   "id": "5ee71249",
   "metadata": {},
   "source": [
    "#### **`Rusable Method for Calculating A five-number summary values - printing most important ones `**"
   ]
  },
  {
   "cell_type": "code",
   "execution_count": 12,
   "id": "4c63e107",
   "metadata": {},
   "outputs": [],
   "source": [
    "def five_number_summary(column_name):\n",
    "    \"\"\"\n",
    "    column_name: name of the column that should be searched and stats described for\n",
    "    \"\"\"\n",
    "    _25p=df[column_name].quantile(.75) \n",
    "    _median=df[column_name].median()\n",
    "    _mean=df[column_name].mean()\n",
    "    _75p=df[column_name].quantile(.75)\n",
    "    std=df[column_name].std()\n",
    "    print(\"25%\",_25p,\"\\n\" \"Mean-Green\", _mean,\"\\n\" \"Median-Boxplot\"\n",
    "          , _median,\"\\n\" \"75%\",_75p,\"\\n\",\"StandarD\",std,\"\\n\")\n",
    "   "
   ]
  },
  {
   "cell_type": "markdown",
   "id": "c23ecf9a",
   "metadata": {},
   "source": [
    "#### *Univariate Analysis - Numerical Variables*  "
   ]
  },
  {
   "cell_type": "code",
   "execution_count": 13,
   "id": "a228ce11",
   "metadata": {},
   "outputs": [
    {
     "data": {
      "text/plain": [
       "Product          object\n",
       "Age               int64\n",
       "Gender           object\n",
       "Education         int64\n",
       "MaritalStatus    object\n",
       "Usage             int64\n",
       "Fitness           int64\n",
       "Income            int64\n",
       "Miles             int64\n",
       "dtype: object"
      ]
     },
     "execution_count": 13,
     "metadata": {},
     "output_type": "execute_result"
    }
   ],
   "source": [
    "# Printing Data Types in order to not to scroll up all the way each time\n",
    "df.dtypes"
   ]
  },
  {
   "cell_type": "markdown",
   "id": "8484dbaf",
   "metadata": {},
   "source": [
    "##### **Observations on Age Column**"
   ]
  },
  {
   "cell_type": "code",
   "execution_count": 14,
   "id": "f8a4971e",
   "metadata": {},
   "outputs": [
    {
     "name": "stdout",
     "output_type": "stream",
     "text": [
      "********************\n",
      "25% 33.0 \n",
      "Mean-Green 28.788888888888888 \n",
      "Median-Boxplot 26.0 \n",
      "75% 33.0 \n",
      " StandarD 6.943498135399795 \n",
      "\n",
      "********************\n"
     ]
    },
    {
     "data": {
      "image/png": "[encoded data removed]",
      "text/plain": [
       "<Figure size 720x360 with 2 Axes>"
      ]
     },
     "metadata": {
      "needs_background": "light"
     },
     "output_type": "display_data"
    }
   ],
   "source": [
    "#Calling the reusable method hist_box() for graphing \n",
    "print(\"********************\")\n",
    "five_number_summary('Age')\n",
    "print(\"********************\")\n",
    "#Callin the five_number_summary() for getting some of the 5 number summary stats\n",
    "hist_box(df,'Age')"
   ]
  },
  {
   "cell_type": "markdown",
   "id": "9667c90f",
   "metadata": {},
   "source": [
    "* Distribution of Age is highly right skewed\n",
    "* Mean is greater than the median and closer to the 75% percentile which explains the right skeweness in the distribution \n",
    "* Youngest users falls below 75% where less than 50% contains the youngest users \n",
    "* Top user age is 25\n",
    "* There're lesser and lesser users as Age increases above 26\n",
    "* There is a high standar deviation as we can also from the box plot where range is quite large"
   ]
  },
  {
   "cell_type": "code",
   "execution_count": 15,
   "id": "a6558580",
   "metadata": {},
   "outputs": [
    {
     "data": {
      "text/plain": [
       "23.333333333333332"
      ]
     },
     "execution_count": 15,
     "metadata": {},
     "output_type": "execute_result"
    }
   ],
   "source": [
    "# How many users do we have over 33 Years old\n",
    "df[df['Age'] > 33].value_counts().sum()/df.shape[0]*100 "
   ]
  },
  {
   "cell_type": "markdown",
   "id": "48921bb9",
   "metadata": {},
   "source": [
    "* Almost 24% of Users are above the age of 33 which is over 75% and which our outliers are consisted of"
   ]
  },
  {
   "cell_type": "markdown",
   "id": "83c56065",
   "metadata": {},
   "source": [
    "#### **Observations on Education Column**"
   ]
  },
  {
   "cell_type": "code",
   "execution_count": 16,
   "id": "8bf7e198",
   "metadata": {},
   "outputs": [
    {
     "name": "stdout",
     "output_type": "stream",
     "text": [
      "*******************\n",
      "25% 16.0 \n",
      "Mean-Green 15.572222222222223 \n",
      "Median-Boxplot 16.0 \n",
      "75% 16.0 \n",
      " StandarD 1.6170548978065569 \n",
      "\n",
      "********************\n"
     ]
    },
    {
     "data": {
      "image/png": "[encoded data removed]",
      "text/plain": [
       "<Figure size 720x360 with 2 Axes>"
      ]
     },
     "metadata": {
      "needs_background": "light"
     },
     "output_type": "display_data"
    }
   ],
   "source": [
    "#Calling the reusable method hist_box() for graphing \n",
    "hist_box(df,'Education')\n",
    "\n",
    "#Callin the five_number_summary() for getting some of the 5 number summary stats\n",
    "print(\"*******************\")\n",
    "five_number_summary('Education')\n",
    "print(\"********************\")"
   ]
  },
  {
   "cell_type": "markdown",
   "id": "e3c7a9f9",
   "metadata": {},
   "source": [
    "* There're two main education Groups, 16 Years and 14 Years of education\n",
    "* Outliers are on the rigt side, meaning there're some folks have higher than 16 years of education. \n",
    " - We can also see that in the hist graph where it gets skewed a little as it goes beyond 18 years of education"
   ]
  },
  {
   "cell_type": "code",
   "execution_count": 17,
   "id": "b1ae36cf",
   "metadata": {},
   "outputs": [
    {
     "name": "stdout",
     "output_type": "stream",
     "text": [
      "*******************\n",
      "Percentage of Education 16 Years of Education:   47 %\n",
      "Percentage of Education 14 Years of Education:   31 %\n",
      "********************\n"
     ]
    }
   ],
   "source": [
    "# Since Mean, is very close to the median and 75% which are the same carrying out below calc\n",
    "print(\"*******************\")\n",
    "# What is the percentage of users with  16 Years of education \n",
    "equalto_16_p  = df[df['Education'] == 16].value_counts().sum()/df.shape[0]*100\n",
    "print(\"Percentage of Education 16 Years of Education:  \", round(equalto_16_p), '%')\n",
    "\n",
    "# What is the percentage of users with  14 Years of education \n",
    "equalto_16_p  = df[df['Education'] == 14].value_counts().sum()/df.shape[0]*100\n",
    "print(\"Percentage of Education 14 Years of Education:  \", round(equalto_16_p), '%')\n",
    "print(\"********************\")"
   ]
  },
  {
   "cell_type": "markdown",
   "id": "47063ef5",
   "metadata": {},
   "source": [
    "* Ther're 2 highest education years 14 and 16 (Education years can be split into 14 and 16)\n",
    "* `79%` percent of users Education years falls between 14 and 16, 16 being the highest  "
   ]
  },
  {
   "cell_type": "markdown",
   "id": "698a4b6b",
   "metadata": {},
   "source": [
    "#### **Observations on Usage Column**"
   ]
  },
  {
   "cell_type": "code",
   "execution_count": 18,
   "id": "ffb26a76",
   "metadata": {},
   "outputs": [
    {
     "name": "stdout",
     "output_type": "stream",
     "text": [
      "*******************\n",
      "25% 4.0 \n",
      "Mean-Green 3.4555555555555557 \n",
      "Median-Boxplot 3.0 \n",
      "75% 4.0 \n",
      " StandarD 1.0847970343962436 \n",
      "\n",
      "********************\n"
     ]
    },
    {
     "data": {
      "image/png": "[encoded data removed]",
      "text/plain": [
       "<Figure size 720x360 with 2 Axes>"
      ]
     },
     "metadata": {
      "needs_background": "light"
     },
     "output_type": "display_data"
    }
   ],
   "source": [
    "#Calling the reusable method hist_box() for graphing \n",
    "hist_box(df,'Usage')\n",
    "\n",
    "#Callin the five_number_summary() for getting some of the 5 number summary stats\n",
    "print(\"*******************\")\n",
    "five_number_summary('Usage')\n",
    "print(\"********************\")"
   ]
  },
  {
   "cell_type": "markdown",
   "id": "a6551f43",
   "metadata": {},
   "source": [
    "* Equipment is more frequently used 3 or 4 times per week\n",
    "* Outliers are on the rigt side, meaning there're some folks who are using the equipment more than 5 times per week. \n",
    " - We can also see that in the hist graph where it gets skewed a little as it goes beyond 5 times per week usage\n",
    "* Mean is very close to 75% which also explains the outliers we are seeing "
   ]
  },
  {
   "cell_type": "code",
   "execution_count": 19,
   "id": "fee6106e",
   "metadata": {},
   "outputs": [
    {
     "name": "stdout",
     "output_type": "stream",
     "text": [
      "*******************\n",
      "Frequency of equipment being used  3times perWeek:   69\n",
      "Percentage of equipment being used 3times perWeek:   38 %\n",
      "-- -- -- -- -- -- -- -- -- -- --\n",
      "Frequency of equipment being used  4times perWeek:   52\n",
      "Percentage of equipment being used 4times perWeek:   29 %\n",
      "********************\n"
     ]
    }
   ],
   "source": [
    "print(\"*******************\")\n",
    "equalto_3_c  = df[df['Usage'] == 3].value_counts().sum() # Count\n",
    "equalto_3_p  = df[df['Usage'] == 3].value_counts().sum()/df.shape[0]*100 # %Percentage\n",
    "print(\"Frequency of equipment being used  3times perWeek:  \", equalto_3_c)\n",
    "print(\"Percentage of equipment being used 3times perWeek:  \", round(equalto_3_p), '%')\n",
    "print(\"-- -- -- -- -- -- -- -- -- -- --\")\n",
    "# What is the percentage of users with  14 Years of education \n",
    "equalto_4_c  = df[df['Usage'] == 4].value_counts().sum() # Count\n",
    "equalto_4_p  = df[df['Usage'] == 4].value_counts().sum()/df.shape[0]*100 # %Percentage\n",
    "print(\"Frequency of equipment being used  4times perWeek:  \", equalto_4_c)\n",
    "print(\"Percentage of equipment being used 4times perWeek:  \", round(equalto_4_p), '%')\n",
    "print(\"********************\")"
   ]
  },
  {
   "cell_type": "markdown",
   "id": "8a08082e",
   "metadata": {},
   "source": [
    "* The equipment is used more frequently between 3 or 4 times per week, which is 67% of overall usage frequency "
   ]
  },
  {
   "cell_type": "markdown",
   "id": "dc12270b",
   "metadata": {},
   "source": [
    "#### **Observations on Fitness Column**"
   ]
  },
  {
   "cell_type": "code",
   "execution_count": 20,
   "id": "912d2de9",
   "metadata": {},
   "outputs": [
    {
     "name": "stdout",
     "output_type": "stream",
     "text": [
      "*******************\n",
      "25% 4.0 \n",
      "Mean-Green 3.311111111111111 \n",
      "Median-Boxplot 3.0 \n",
      "75% 4.0 \n",
      " StandarD 0.958868565619312 \n",
      "\n",
      "********************\n"
     ]
    },
    {
     "data": {
      "image/png": "[encoded data removed]",
      "text/plain": [
       "<Figure size 720x360 with 2 Axes>"
      ]
     },
     "metadata": {
      "needs_background": "light"
     },
     "output_type": "display_data"
    }
   ],
   "source": [
    "#Calling the reusable method hist_box() for graphing \n",
    "hist_box(df,'Fitness')\n",
    "\n",
    "#Callin the five_number_summary() for getting some of the 5 number summary stats\n",
    "print(\"*******************\")\n",
    "five_number_summary('Fitness')\n",
    "print(\"********************\")"
   ]
  },
  {
   "cell_type": "code",
   "execution_count": 21,
   "id": "2756af85",
   "metadata": {},
   "outputs": [
    {
     "name": "stdout",
     "output_type": "stream",
     "text": [
      "*******************\n",
      "Count of Fitness level at 3:   97\n",
      "Percentage of Fitness level at 3:   54 %\n",
      "-- -- -- -- -- -- -- -- -- -- --\n",
      "Count of fitness level less than 2:   2\n",
      "Percentage of fitness level less than 2:   1 %\n",
      "*******************\n"
     ]
    }
   ],
   "source": [
    "print(\"*******************\")\n",
    "f_equalto_3_c  = df[df['Fitness'] == 3].value_counts().sum() # Count\n",
    "f_equalto_3_p  = df[df['Fitness'] == 3].value_counts().sum()/df.shape[0]*100 # %Percentage\n",
    "print(\"Count of Fitness level at 3:  \", f_equalto_3_c)\n",
    "print(\"Percentage of Fitness level at 3:  \", round(f_equalto_3_p), '%')\n",
    "print(\"-- -- -- -- -- -- -- -- -- -- --\")\n",
    "f_lessthan_2_c  = df[df['Fitness'] < 2].value_counts().sum() # Count\n",
    "f_lessthan_2_p  = df[df['Fitness'] < 2].value_counts().sum()/df.shape[0]*100 # %Percentage\n",
    "print(\"Count of fitness level less than 2:  \", f_lessthan_2_c)\n",
    "print(\"Percentage of fitness level less than 2:  \", round(f_lessthan_2_p), '%')\n",
    "print(\"*******************\")"
   ]
  },
  {
   "cell_type": "markdown",
   "id": "6c22f4de",
   "metadata": {},
   "source": [
    "* Median and the highest self rated fitness level is at 3 \n",
    "* There's a left skewedness as evident from Histogram \n",
    "* Outlier is also on the left side as the least fitness level is 1\n",
    "* Mean, Median are high indicating fitness level is mostly high\n"
   ]
  },
  {
   "cell_type": "markdown",
   "id": "a40f0d60",
   "metadata": {},
   "source": [
    "#### **Observations on Income Column**"
   ]
  },
  {
   "cell_type": "code",
   "execution_count": 22,
   "id": "859ac2d5",
   "metadata": {},
   "outputs": [
    {
     "name": "stdout",
     "output_type": "stream",
     "text": [
      "*******************\n",
      "25% 58668.0 \n",
      "Mean-Green 53719.57777777778 \n",
      "Median-Boxplot 50596.5 \n",
      "75% 58668.0 \n",
      " StandarD 16506.68422623862 \n",
      "\n",
      "Max Income:  104581\n",
      "********************\n"
     ]
    },
    {
     "data": {
      "image/png": "[encoded data removed]",
      "text/plain": [
       "<Figure size 720x360 with 2 Axes>"
      ]
     },
     "metadata": {
      "needs_background": "light"
     },
     "output_type": "display_data"
    }
   ],
   "source": [
    "#Calling the reusable method hist_box() for graphing \n",
    "hist_box(df,'Income')\n",
    "\n",
    "#Callin the five_number_summary() for getting some of the 5 number summary stats\n",
    "print(\"*******************\")\n",
    "five_number_summary('Income')\n",
    "print(\"Max Income: \", df['Income'].max())\n",
    "print(\"********************\")"
   ]
  },
  {
   "cell_type": "markdown",
   "id": "3e0eb15a",
   "metadata": {},
   "source": [
    "* Mean and Median are close to the each other\n",
    "* Most of the users earns between 50-53k\n",
    "* Less than 25% of users makes 58K as do less than 75% of users. \n",
    "* However there are some individuals making over 70K and max of 104581K\n",
    "   - There is high standart deviation \n",
    "* Distribution is highly right skewed as income increases & there're outliers"
   ]
  },
  {
   "cell_type": "markdown",
   "id": "a7d86677",
   "metadata": {},
   "source": [
    "#### **Observations on Miles Column**"
   ]
  },
  {
   "cell_type": "code",
   "execution_count": 23,
   "id": "66315ffe",
   "metadata": {},
   "outputs": [
    {
     "name": "stdout",
     "output_type": "stream",
     "text": [
      "*******************\n",
      "25% 114.75 \n",
      "Mean-Green 103.19444444444444 \n",
      "Median-Boxplot 94.0 \n",
      "75% 114.75 \n",
      " StandarD 51.86360466180931 \n",
      "\n",
      "Max Income:  360\n",
      "********************\n"
     ]
    },
    {
     "data": {
      "image/png": "[encoded data removed]",
      "text/plain": [
       "<Figure size 720x360 with 2 Axes>"
      ]
     },
     "metadata": {
      "needs_background": "light"
     },
     "output_type": "display_data"
    }
   ],
   "source": [
    "#Calling the reusable method hist_box() for graphing \n",
    "hist_box(df,'Miles')\n",
    "\n",
    "#Callin the five_number_summary() for getting some of the 5 number summary stats\n",
    "print(\"*******************\")\n",
    "five_number_summary('Miles')\n",
    "print(\"Max Income: \", df['Miles'].max())\n",
    "print(\"********************\")"
   ]
  },
  {
   "cell_type": "markdown",
   "id": "3576c100",
   "metadata": {},
   "source": [
    "* Mean and Median is very far from Median but very close to 75%\n",
    "* Distribution is right skewed\n",
    "* There's a high standard deviation \n",
    "* There're outliers\n",
    "* The highest customer expection in miles to run is under 100miles which less than 50%"
   ]
  },
  {
   "cell_type": "markdown",
   "id": "cf18cc5e",
   "metadata": {},
   "source": [
    "#### *Univariate Analysis - Categorical Variables*  "
   ]
  },
  {
   "cell_type": "markdown",
   "id": "60e2b784",
   "metadata": {},
   "source": [
    "#### **Observations on Product Column**"
   ]
  },
  {
   "cell_type": "code",
   "execution_count": 24,
   "id": "23025d24",
   "metadata": {},
   "outputs": [
    {
     "data": {
      "image/png": "[encoded data removed]",
      "text/plain": [
       "<Figure size 432x288 with 1 Axes>"
      ]
     },
     "metadata": {
      "needs_background": "light"
     },
     "output_type": "display_data"
    }
   ],
   "source": [
    "sns.countplot(data=df, x='Product');"
   ]
  },
  {
   "cell_type": "code",
   "execution_count": 25,
   "id": "6bceda0c",
   "metadata": {},
   "outputs": [
    {
     "data": {
      "text/plain": [
       "array(['TM195', 'TM498', 'TM798'], dtype=object)"
      ]
     },
     "execution_count": 25,
     "metadata": {},
     "output_type": "execute_result"
    }
   ],
   "source": [
    "# Get the unique Products Categories\n",
    "df['Product'].unique()"
   ]
  },
  {
   "cell_type": "markdown",
   "id": "d5a57734",
   "metadata": {},
   "source": [
    "* There're 3 unique Product Categories (TM195, TM498, TM798)\n",
    "* TM195 is more populat than TM498&TM798 models"
   ]
  },
  {
   "cell_type": "markdown",
   "id": "c54cf9a5",
   "metadata": {},
   "source": [
    "#### **Observations on Gender Column**"
   ]
  },
  {
   "cell_type": "code",
   "execution_count": 26,
   "id": "6514deee",
   "metadata": {},
   "outputs": [
    {
     "data": {
      "image/png": "[encoded data removed]",
      "text/plain": [
       "<Figure size 432x288 with 1 Axes>"
      ]
     },
     "metadata": {
      "needs_background": "light"
     },
     "output_type": "display_data"
    }
   ],
   "source": [
    "sns.countplot(data=df, x='Gender');"
   ]
  },
  {
   "cell_type": "code",
   "execution_count": 27,
   "id": "422dedf9",
   "metadata": {},
   "outputs": [
    {
     "data": {
      "text/plain": [
       "array(['Male', 'Female'], dtype=object)"
      ]
     },
     "execution_count": 27,
     "metadata": {},
     "output_type": "execute_result"
    }
   ],
   "source": [
    "# Get the unique Gender Categories\n",
    "df['Gender'].unique()"
   ]
  },
  {
   "cell_type": "code",
   "execution_count": 28,
   "id": "c821596c",
   "metadata": {},
   "outputs": [
    {
     "name": "stdout",
     "output_type": "stream",
     "text": [
      "*******************\n",
      "Count of Male Users:   104\n",
      "Percentage of Male Users:   58 %\n",
      "-- -- -- -- -- -- -- -- -- -- --\n",
      "Count of Female Users:   76\n",
      "Percentage of Female Users:   42 %\n",
      "*******************\n"
     ]
    }
   ],
   "source": [
    "print(\"*******************\")\n",
    "gender_Gender_M_c  = df[df['Gender'] == 'Male'].value_counts().sum() # Count\n",
    "gender_Gender_M_p  = df[df['Gender'] == 'Male'].value_counts().sum()/df.shape[0]*100 # %Percentage\n",
    "print(\"Count of Male Users:  \", gender_Gender_M_c)\n",
    "print(\"Percentage of Male Users:  \", round(gender_Gender_M_p), '%')\n",
    "print(\"-- -- -- -- -- -- -- -- -- -- --\")\n",
    "gender_Gender_F_c  = df[df['Gender'] == 'Female'].value_counts().sum() # Count\n",
    "gender_Gender_F_p  = df[df['Gender'] == 'Female'].value_counts().sum()/df.shape[0]*100 # %Percentage\n",
    "print(\"Count of Female Users:  \", gender_Gender_F_c)\n",
    "print(\"Percentage of Female Users:  \", round(gender_Gender_F_p), '%')\n",
    "print(\"*******************\")"
   ]
  },
  {
   "cell_type": "markdown",
   "id": "9ddfbba9",
   "metadata": {},
   "source": [
    "* There're 2 unique Gender Categories \n",
    "* Most of the users are Male at `58%`  compared to females at `42%`"
   ]
  },
  {
   "cell_type": "markdown",
   "id": "bf3492e2",
   "metadata": {},
   "source": [
    "#### **Observations on MaritalStatus Column**"
   ]
  },
  {
   "cell_type": "code",
   "execution_count": 29,
   "id": "c5efece4",
   "metadata": {},
   "outputs": [
    {
     "data": {
      "image/png": "[encoded data removed]",
      "text/plain": [
       "<Figure size 432x288 with 1 Axes>"
      ]
     },
     "metadata": {
      "needs_background": "light"
     },
     "output_type": "display_data"
    }
   ],
   "source": [
    "sns.countplot(data=df, x='MaritalStatus');"
   ]
  },
  {
   "cell_type": "code",
   "execution_count": 30,
   "id": "448f398b",
   "metadata": {},
   "outputs": [
    {
     "data": {
      "text/plain": [
       "array(['Single', 'Partnered'], dtype=object)"
      ]
     },
     "execution_count": 30,
     "metadata": {},
     "output_type": "execute_result"
    }
   ],
   "source": [
    "# Get the unique MaritalStatus Categories\n",
    "df['MaritalStatus'].unique()"
   ]
  },
  {
   "cell_type": "code",
   "execution_count": 31,
   "id": "d8258228",
   "metadata": {},
   "outputs": [
    {
     "name": "stdout",
     "output_type": "stream",
     "text": [
      "*******************\n",
      "Count of Marital Status for Single:   73\n",
      "Percentage of Marital Status for Single:   41 %\n",
      "-- -- -- -- -- -- -- -- -- -- --\n",
      "Count of Marital Status for Partnered:   107\n",
      "Percentage of Marital Status for Partnered:   59 %\n",
      "*******************\n"
     ]
    }
   ],
   "source": [
    "print(\"*******************\")\n",
    "gender_Single_c  = df[df['MaritalStatus'] == 'Single'].value_counts().sum() # Count\n",
    "gender_Single_p  = df[df['MaritalStatus'] == 'Single'].value_counts().sum()/df.shape[0]*100 # %Percentage\n",
    "print(\"Count of Marital Status for Single:  \", gender_Single_c)\n",
    "print(\"Percentage of Marital Status for Single:  \", round(gender_Single_p), '%')\n",
    "print(\"-- -- -- -- -- -- -- -- -- -- --\")\n",
    "gender_Partnered_c  = df[df['MaritalStatus'] == 'Partnered'].value_counts().sum() # Count\n",
    "gender_Partnered_p  = df[df['MaritalStatus'] == 'Partnered'].value_counts().sum()/df.shape[0]*100 # %Percentage\n",
    "print(\"Count of Marital Status for Partnered:  \", gender_Partnered_c)\n",
    "print(\"Percentage of Marital Status for Partnered:  \", round(gender_Partnered_p), '%')\n",
    "print(\"*******************\")"
   ]
  },
  {
   "cell_type": "markdown",
   "id": "42bd0699",
   "metadata": {},
   "source": [
    "* There're 2 categories of MaritalStatus Single, Partnered\n",
    "* `59%` of users are Partnered where as `41%` are Single. "
   ]
  },
  {
   "cell_type": "markdown",
   "id": "fb384765",
   "metadata": {},
   "source": [
    "### **Bivariate Analysis**"
   ]
  },
  {
   "cell_type": "markdown",
   "id": "e2dd916c",
   "metadata": {},
   "source": [
    "`Checking the Relationship between different columns`"
   ]
  },
  {
   "cell_type": "markdown",
   "id": "c7fed68e",
   "metadata": {},
   "source": [
    "1- Checking the relationship between Product and Age"
   ]
  },
  {
   "cell_type": "code",
   "execution_count": 32,
   "id": "d5d8f46f",
   "metadata": {},
   "outputs": [
    {
     "data": {
      "text/plain": [
       "Product          object\n",
       "Age               int64\n",
       "Gender           object\n",
       "Education         int64\n",
       "MaritalStatus    object\n",
       "Usage             int64\n",
       "Fitness           int64\n",
       "Income            int64\n",
       "Miles             int64\n",
       "dtype: object"
      ]
     },
     "execution_count": 32,
     "metadata": {},
     "output_type": "execute_result"
    }
   ],
   "source": [
    "df.dtypes"
   ]
  },
  {
   "cell_type": "code",
   "execution_count": 33,
   "id": "f5ad043b",
   "metadata": {},
   "outputs": [
    {
     "data": {
      "image/png": "[encoded data removed]",
      "text/plain": [
       "<Figure size 1080x504 with 2 Axes>"
      ]
     },
     "metadata": {
      "needs_background": "light"
     },
     "output_type": "display_data"
    }
   ],
   "source": [
    "# Check for correlation among numerical variables\n",
    "num_var = ['Age','Education','Usage','Fitness','Income', 'Miles']\n",
    "\n",
    "corr = df[num_var].corr()\n",
    "\n",
    "# plot the heatmap\n",
    "plt.figure(figsize=(15, 7))\n",
    "sns.heatmap(corr, annot=True, vmin=-1, vmax=1, fmt=\".2f\", cmap=\"Spectral\")\n",
    "plt.show()"
   ]
  },
  {
   "cell_type": "markdown",
   "id": "8ad0f56a",
   "metadata": {},
   "source": [
    "* Income increases as does the years of Education, as well as below\n",
    " - `Income`   & `Education` are Strongly correlated   `0.63`\n",
    "   + What is the positive Relationship between Income and Age?\n",
    "     - `Income`   & `Age` are Strongly correlated         `0.51`\n",
    "* Increases in income also positivly affects weekly usage rate\n",
    " - `Income`   & `Usage` are Strongly correlated       `0.52`\n",
    " - `Income`   & `Fitness` also postivly correlated as expected `0.54`\n",
    "   - `Income`   & `Miles` also postivly correlated as expected `0.54`\n",
    "* As Usage increases so does Miles and Fitness Level"
   ]
  },
  {
   "cell_type": "code",
   "execution_count": 34,
   "id": "6e8f1d54",
   "metadata": {},
   "outputs": [
    {
     "name": "stderr",
     "output_type": "stream",
     "text": [
      "/opt/anaconda3/envs/tf2/lib/python3.8/site-packages/seaborn/matrix.py:309: UserWarning: Attempting to set identical left == right == 0 results in singular transformations; automatically expanding.\n",
      "  ax.set(xlim=(0, self.data.shape[1]), ylim=(0, self.data.shape[0]))\n",
      "/opt/anaconda3/envs/tf2/lib/python3.8/site-packages/seaborn/matrix.py:309: UserWarning: Attempting to set identical bottom == top == 0 results in singular transformations; automatically expanding.\n",
      "  ax.set(xlim=(0, self.data.shape[1]), ylim=(0, self.data.shape[0]))\n"
     ]
    },
    {
     "data": {
      "image/png": "[encoded data removed]",
      "text/plain": [
       "<Figure size 1080x504 with 2 Axes>"
      ]
     },
     "metadata": {
      "needs_background": "light"
     },
     "output_type": "display_data"
    }
   ],
   "source": [
    "# Check for correlation among numerical variables\n",
    "num_car = ['Product','Gender','MaritalStatus']\n",
    "\n",
    "corr = df[num_car].corr()\n",
    "\n",
    "# plot the heatmap\n",
    "plt.figure(figsize=(15, 7))\n",
    "sns.heatmap(corr, annot=True, vmin=-1, vmax=1, fmt=\".2f\", cmap=\"Spectral\")\n",
    "plt.show()"
   ]
  },
  {
   "cell_type": "code",
   "execution_count": null,
   "id": "b5d322fa",
   "metadata": {},
   "outputs": [],
   "source": []
  },
  {
   "cell_type": "code",
   "execution_count": null,
   "id": "c2ffb4ed",
   "metadata": {},
   "outputs": [],
   "source": []
  },
  {
   "cell_type": "code",
   "execution_count": null,
   "id": "85f0d51e",
   "metadata": {},
   "outputs": [],
   "source": []
  },
  {
   "cell_type": "code",
   "execution_count": null,
   "id": "91346900",
   "metadata": {},
   "outputs": [],
   "source": []
  },
  {
   "cell_type": "code",
   "execution_count": null,
   "id": "4ac2307a",
   "metadata": {},
   "outputs": [],
   "source": []
  },
  {
   "cell_type": "code",
   "execution_count": null,
   "id": "ca64695a",
   "metadata": {},
   "outputs": [],
   "source": []
  },
  {
   "cell_type": "code",
   "execution_count": null,
   "id": "8e676e96",
   "metadata": {},
   "outputs": [],
   "source": []
  },
  {
   "cell_type": "code",
   "execution_count": null,
   "id": "db6bdeb2",
   "metadata": {},
   "outputs": [],
   "source": []
  }
 ],
 "metadata": {
  "kernelspec": {
   "display_name": "Python 3 (ipykernel)",
   "language": "python",
   "name": "python3"
  },
  "language_info": {
   "codemirror_mode": {
    "name": "ipython",
    "version": 3
   },
   "file_extension": ".py",
   "mimetype": "text/x-python",
   "name": "python",
   "nbconvert_exporter": "python",
   "pygments_lexer": "ipython3",
   "version": "3.8.13"
  }
 },
 "nbformat": 4,
 "nbformat_minor": 5
}
