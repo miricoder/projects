{
 "cells": [
  {
   "cell_type": "markdown",
   "id": "3ee623e8",
   "metadata": {},
   "source": [
    "<h1><center><font size=10>Good Cardio Fitness Project</center></font></h1>"
   ]
  },
  {
   "cell_type": "markdown",
   "id": "4b4848db",
   "metadata": {},
   "source": [
    "### **Context**\n",
    "The data is about customers of the treadmill product(s) of a retail store called Cardio Good Fitness. A treadmill is a device generally used for walking, running, or climbing while staying in the same place. It can be purchased and placed at home or can be accessed in most GYMs. Today most advanced Treadmills offer very advanced subscription to their users in order to get them to purhcase, use the technology built around the device and explore."
   ]
  },
  {
   "cell_type": "markdown",
   "id": "625002dd",
   "metadata": {},
   "source": [
    "### **Data Description:**\n",
    "* Product - The model no. of the treadmill\n",
    "* Age -  Age of the customer in no of years\n",
    "* Gender - Gender of the customer\n",
    "* Education - Education of the customer in no. of years\n",
    "* Marital Status - Marital status of the customer\n",
    "* Usage - Avg. # times the customer wants to use the treadmill every week\n",
    "* Fitness - Self rated fitness score of the customer (5 - very fit, 1 - very unfit)\n",
    "* Income - Income of the customer\n",
    "* Miles- Miles that a customer expects to run"
   ]
  },
  {
   "cell_type": "markdown",
   "id": "c5ca1181",
   "metadata": {},
   "source": [
    "### **Importing the necessary packages**"
   ]
  },
  {
   "cell_type": "code",
   "execution_count": 5,
   "id": "568ace7e",
   "metadata": {},
   "outputs": [],
   "source": [
    "# For reading and manipulating data\n",
    "import pandas as pd\n",
    "import numpy as np \n",
    "# Libraries used data visualization\n",
    "import seaborn as sns \n",
    "import matplotlib.pyplot as plt\n",
    "\n",
    "# Command to tell Python to actually display the graphs\n",
    "%matplotlib inline\n",
    "\n",
    "pd.set_option(\"display.float_format\", lambda x: \"%.2f\" % x) #to display values upto 2 decimal places"
   ]
  },
  {
   "cell_type": "markdown",
   "id": "ddb14ceb",
   "metadata": {},
   "source": [
    "### **Reading the DataSet**"
   ]
  },
  {
   "cell_type": "code",
   "execution_count": 8,
   "id": "16b63dcb",
   "metadata": {},
   "outputs": [],
   "source": [
    "df=pd.read_csv(\"https://raw.githubusercontent.com/miricoder/projects/main/datasets/CardioGoodFitness.csv\")"
   ]
  },
  {
   "cell_type": "markdown",
   "id": "bc2eebaa",
   "metadata": {},
   "source": [
    "### **Data Overview and Sanity Check**"
   ]
  },
  {
   "cell_type": "code",
   "execution_count": null,
   "id": "520817da",
   "metadata": {},
   "outputs": [],
   "source": []
  }
 ],
 "metadata": {
  "kernelspec": {
   "display_name": "Python 3 (ipykernel)",
   "language": "python",
   "name": "python3"
  },
  "language_info": {
   "codemirror_mode": {
    "name": "ipython",
    "version": 3
   },
   "file_extension": ".py",
   "mimetype": "text/x-python",
   "name": "python",
   "nbconvert_exporter": "python",
   "pygments_lexer": "ipython3",
   "version": "3.8.13"
  }
 },
 "nbformat": 4,
 "nbformat_minor": 5
}
