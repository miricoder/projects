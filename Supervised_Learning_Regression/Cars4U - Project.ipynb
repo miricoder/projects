{
 "cells": [
  {
   "cell_type": "markdown",
   "id": "b7812d18",
   "metadata": {},
   "source": [
    "*******************************************************************************************************************\n",
    "# TO DO List - Updated on Feb 3 7:36PM\n",
    " - In \"Review and Structure Raw Data\" Carry out below tasks\n",
    "   * Decide which Column needs to be dropped - Done (S.No. will be dropped)\n",
    "   * By First observation on the sample commen which values needs to be altered to different Data Types\n",
    "   *******************************************************************************************"
   ]
  },
  {
   "cell_type": "markdown",
   "id": "70a0ac5f",
   "metadata": {},
   "source": [
    "**Importing necessary libraries**"
   ]
  },
  {
   "cell_type": "code",
   "execution_count": 16,
   "id": "4836150f",
   "metadata": {},
   "outputs": [],
   "source": [
    "# To Suppress warning such as future warnings\n",
    "import warnings \n",
    "warnings.simplefilter(action=\"ignore\", category=FutureWarning)\n",
    "# For reading and manipulating data \n",
    "import pandas as pd\n",
    "import numpy as np\n",
    "# Libraries used for data visualization \n",
    "import seaborn as sns\n",
    "import matplotlib.pyplot as plt\n",
    "# Command to tell Python to actually display the graphs \n",
    "%matplotlib inline\n",
    "# Remove the limit from the number of displayed columns and rows so i can see the entire df when printing\n",
    "pd.set_option('display.max_columns', None)\n",
    "pd.set_option('display.max_rows', 200)\n",
    "\n",
    "#Libraries used in Data Split (to test and train)\n",
    "from sklearn.model_selection import train_test_split\n",
    "#Libraries used for Linear Regression Model Building\n",
    "from sklearn.linear_model import LinearRegression"
   ]
  },
  {
   "cell_type": "markdown",
   "id": "8f55f95f",
   "metadata": {},
   "source": [
    "**Importing Data from GitHub & Making Original Data is safe and only copy is used**"
   ]
  },
  {
   "cell_type": "code",
   "execution_count": 17,
   "id": "7492594c",
   "metadata": {},
   "outputs": [],
   "source": [
    "#Importing data into data Variable which is our original Data\n",
    "data = pd.read_csv(\"https://raw.githubusercontent.com/miricoder/projects/main/Supervised_Learning_Regression/used_cars_data.csv\")\n",
    "# Creating Copy of that data\n",
    "df = data.copy()"
   ]
  },
  {
   "cell_type": "markdown",
   "id": "31c5a97d",
   "metadata": {},
   "source": [
    " # **Review and Structure Raw Data**\n",
    "  ____________________"
   ]
  },
  {
   "cell_type": "markdown",
   "id": "ea4e771b",
   "metadata": {},
   "source": [
    "`@author mirali - Created on Friday Feb 3 - Start your work from the next line`"
   ]
  },
  {
   "cell_type": "code",
   "execution_count": 18,
   "id": "8a2660e4",
   "metadata": {},
   "outputs": [
    {
     "name": "stdout",
     "output_type": "stream",
     "text": [
      "There are 7253 rows and 14 columns.\n"
     ]
    },
    {
     "data": {
      "text/html": [
       "<div>\n",
       "<style scoped>\n",
       "    .dataframe tbody tr th:only-of-type {\n",
       "        vertical-align: middle;\n",
       "    }\n",
       "\n",
       "    .dataframe tbody tr th {\n",
       "        vertical-align: top;\n",
       "    }\n",
       "\n",
       "    .dataframe thead th {\n",
       "        text-align: right;\n",
       "    }\n",
       "</style>\n",
       "<table border=\"1\" class=\"dataframe\">\n",
       "  <thead>\n",
       "    <tr style=\"text-align: right;\">\n",
       "      <th></th>\n",
       "      <th>S.No.</th>\n",
       "      <th>Name</th>\n",
       "      <th>Location</th>\n",
       "      <th>Year</th>\n",
       "      <th>Kilometers_Driven</th>\n",
       "      <th>Fuel_Type</th>\n",
       "      <th>Transmission</th>\n",
       "      <th>Owner_Type</th>\n",
       "      <th>Mileage</th>\n",
       "      <th>Engine</th>\n",
       "      <th>Power</th>\n",
       "      <th>Seats</th>\n",
       "      <th>New_Price</th>\n",
       "      <th>Price</th>\n",
       "    </tr>\n",
       "  </thead>\n",
       "  <tbody>\n",
       "    <tr>\n",
       "      <th>2397</th>\n",
       "      <td>2397</td>\n",
       "      <td>Ford EcoSport 1.5 Petrol Trend</td>\n",
       "      <td>Kolkata</td>\n",
       "      <td>2016</td>\n",
       "      <td>21460</td>\n",
       "      <td>Petrol</td>\n",
       "      <td>Manual</td>\n",
       "      <td>First</td>\n",
       "      <td>17.0 kmpl</td>\n",
       "      <td>1497 CC</td>\n",
       "      <td>121.36 bhp</td>\n",
       "      <td>5.0</td>\n",
       "      <td>9.47</td>\n",
       "      <td>6.00</td>\n",
       "    </tr>\n",
       "    <tr>\n",
       "      <th>3777</th>\n",
       "      <td>3777</td>\n",
       "      <td>Maruti Wagon R VXI 1.2</td>\n",
       "      <td>Kochi</td>\n",
       "      <td>2015</td>\n",
       "      <td>49818</td>\n",
       "      <td>Petrol</td>\n",
       "      <td>Manual</td>\n",
       "      <td>First</td>\n",
       "      <td>21.5 kmpl</td>\n",
       "      <td>1197 CC</td>\n",
       "      <td>81.80 bhp</td>\n",
       "      <td>5.0</td>\n",
       "      <td>5.44</td>\n",
       "      <td>4.11</td>\n",
       "    </tr>\n",
       "    <tr>\n",
       "      <th>4425</th>\n",
       "      <td>4425</td>\n",
       "      <td>Ford Endeavour 4x2 XLT</td>\n",
       "      <td>Hyderabad</td>\n",
       "      <td>2007</td>\n",
       "      <td>130000</td>\n",
       "      <td>Diesel</td>\n",
       "      <td>Manual</td>\n",
       "      <td>First</td>\n",
       "      <td>13.1 kmpl</td>\n",
       "      <td>2499 CC</td>\n",
       "      <td>141 bhp</td>\n",
       "      <td>7.0</td>\n",
       "      <td>35.29</td>\n",
       "      <td>6.00</td>\n",
       "    </tr>\n",
       "    <tr>\n",
       "      <th>3661</th>\n",
       "      <td>3661</td>\n",
       "      <td>Mercedes-Benz E-Class E250 CDI Avantgrade</td>\n",
       "      <td>Coimbatore</td>\n",
       "      <td>2016</td>\n",
       "      <td>39753</td>\n",
       "      <td>Diesel</td>\n",
       "      <td>Automatic</td>\n",
       "      <td>First</td>\n",
       "      <td>13.0 kmpl</td>\n",
       "      <td>2143 CC</td>\n",
       "      <td>201.1 bhp</td>\n",
       "      <td>5.0</td>\n",
       "      <td>86.97</td>\n",
       "      <td>35.28</td>\n",
       "    </tr>\n",
       "    <tr>\n",
       "      <th>4514</th>\n",
       "      <td>4514</td>\n",
       "      <td>Hyundai Xcent 1.2 Kappa AT SX Option</td>\n",
       "      <td>Kochi</td>\n",
       "      <td>2016</td>\n",
       "      <td>45560</td>\n",
       "      <td>Petrol</td>\n",
       "      <td>Automatic</td>\n",
       "      <td>First</td>\n",
       "      <td>16.9 kmpl</td>\n",
       "      <td>1197 CC</td>\n",
       "      <td>82 bhp</td>\n",
       "      <td>5.0</td>\n",
       "      <td>8.23</td>\n",
       "      <td>6.34</td>\n",
       "    </tr>\n",
       "    <tr>\n",
       "      <th>599</th>\n",
       "      <td>599</td>\n",
       "      <td>Toyota Innova Crysta 2.8 ZX AT</td>\n",
       "      <td>Coimbatore</td>\n",
       "      <td>2019</td>\n",
       "      <td>40674</td>\n",
       "      <td>Diesel</td>\n",
       "      <td>Automatic</td>\n",
       "      <td>First</td>\n",
       "      <td>11.36 kmpl</td>\n",
       "      <td>2755 CC</td>\n",
       "      <td>171.5 bhp</td>\n",
       "      <td>7.0</td>\n",
       "      <td>28.05</td>\n",
       "      <td>24.82</td>\n",
       "    </tr>\n",
       "    <tr>\n",
       "      <th>186</th>\n",
       "      <td>186</td>\n",
       "      <td>Mercedes-Benz E-Class E250 CDI Avantgrade</td>\n",
       "      <td>Bangalore</td>\n",
       "      <td>2014</td>\n",
       "      <td>37382</td>\n",
       "      <td>Diesel</td>\n",
       "      <td>Automatic</td>\n",
       "      <td>First</td>\n",
       "      <td>13.0 kmpl</td>\n",
       "      <td>2143 CC</td>\n",
       "      <td>201.1 bhp</td>\n",
       "      <td>5.0</td>\n",
       "      <td>86.97</td>\n",
       "      <td>32.00</td>\n",
       "    </tr>\n",
       "    <tr>\n",
       "      <th>305</th>\n",
       "      <td>305</td>\n",
       "      <td>Audi A6 2011-2015 2.0 TDI Premium Plus</td>\n",
       "      <td>Kochi</td>\n",
       "      <td>2014</td>\n",
       "      <td>61726</td>\n",
       "      <td>Diesel</td>\n",
       "      <td>Automatic</td>\n",
       "      <td>First</td>\n",
       "      <td>17.68 kmpl</td>\n",
       "      <td>1968 CC</td>\n",
       "      <td>174.33 bhp</td>\n",
       "      <td>5.0</td>\n",
       "      <td>67.10</td>\n",
       "      <td>20.77</td>\n",
       "    </tr>\n",
       "    <tr>\n",
       "      <th>4582</th>\n",
       "      <td>4582</td>\n",
       "      <td>Hyundai i20 1.2 Magna</td>\n",
       "      <td>Kolkata</td>\n",
       "      <td>2011</td>\n",
       "      <td>36000</td>\n",
       "      <td>Petrol</td>\n",
       "      <td>Manual</td>\n",
       "      <td>First</td>\n",
       "      <td>18.5 kmpl</td>\n",
       "      <td>1197 CC</td>\n",
       "      <td>80 bhp</td>\n",
       "      <td>5.0</td>\n",
       "      <td>10.25</td>\n",
       "      <td>2.50</td>\n",
       "    </tr>\n",
       "    <tr>\n",
       "      <th>5434</th>\n",
       "      <td>5434</td>\n",
       "      <td>Honda WR-V Edge Edition i-VTEC S</td>\n",
       "      <td>Kochi</td>\n",
       "      <td>2019</td>\n",
       "      <td>13913</td>\n",
       "      <td>Petrol</td>\n",
       "      <td>Manual</td>\n",
       "      <td>First</td>\n",
       "      <td>17.5 kmpl</td>\n",
       "      <td>1199 CC</td>\n",
       "      <td>88.7 bhp</td>\n",
       "      <td>5.0</td>\n",
       "      <td>9.36</td>\n",
       "      <td>8.20</td>\n",
       "    </tr>\n",
       "  </tbody>\n",
       "</table>\n",
       "</div>"
      ],
      "text/plain": [
       "      S.No.                                       Name    Location  Year  \\\n",
       "2397   2397             Ford EcoSport 1.5 Petrol Trend     Kolkata  2016   \n",
       "3777   3777                     Maruti Wagon R VXI 1.2       Kochi  2015   \n",
       "4425   4425                     Ford Endeavour 4x2 XLT   Hyderabad  2007   \n",
       "3661   3661  Mercedes-Benz E-Class E250 CDI Avantgrade  Coimbatore  2016   \n",
       "4514   4514       Hyundai Xcent 1.2 Kappa AT SX Option       Kochi  2016   \n",
       "599     599             Toyota Innova Crysta 2.8 ZX AT  Coimbatore  2019   \n",
       "186     186  Mercedes-Benz E-Class E250 CDI Avantgrade   Bangalore  2014   \n",
       "305     305     Audi A6 2011-2015 2.0 TDI Premium Plus       Kochi  2014   \n",
       "4582   4582                      Hyundai i20 1.2 Magna     Kolkata  2011   \n",
       "5434   5434           Honda WR-V Edge Edition i-VTEC S       Kochi  2019   \n",
       "\n",
       "      Kilometers_Driven Fuel_Type Transmission Owner_Type     Mileage  \\\n",
       "2397              21460    Petrol       Manual      First   17.0 kmpl   \n",
       "3777              49818    Petrol       Manual      First   21.5 kmpl   \n",
       "4425             130000    Diesel       Manual      First   13.1 kmpl   \n",
       "3661              39753    Diesel    Automatic      First   13.0 kmpl   \n",
       "4514              45560    Petrol    Automatic      First   16.9 kmpl   \n",
       "599               40674    Diesel    Automatic      First  11.36 kmpl   \n",
       "186               37382    Diesel    Automatic      First   13.0 kmpl   \n",
       "305               61726    Diesel    Automatic      First  17.68 kmpl   \n",
       "4582              36000    Petrol       Manual      First   18.5 kmpl   \n",
       "5434              13913    Petrol       Manual      First   17.5 kmpl   \n",
       "\n",
       "       Engine       Power  Seats  New_Price  Price  \n",
       "2397  1497 CC  121.36 bhp    5.0       9.47   6.00  \n",
       "3777  1197 CC   81.80 bhp    5.0       5.44   4.11  \n",
       "4425  2499 CC     141 bhp    7.0      35.29   6.00  \n",
       "3661  2143 CC   201.1 bhp    5.0      86.97  35.28  \n",
       "4514  1197 CC      82 bhp    5.0       8.23   6.34  \n",
       "599   2755 CC   171.5 bhp    7.0      28.05  24.82  \n",
       "186   2143 CC   201.1 bhp    5.0      86.97  32.00  \n",
       "305   1968 CC  174.33 bhp    5.0      67.10  20.77  \n",
       "4582  1197 CC      80 bhp    5.0      10.25   2.50  \n",
       "5434  1199 CC    88.7 bhp    5.0       9.36   8.20  "
      ]
     },
     "execution_count": 18,
     "metadata": {},
     "output_type": "execute_result"
    }
   ],
   "source": [
    "# Display column and row values using pyton 3's f-string\n",
    "print(f'There are {df.shape[0]} rows and {df.shape[1]} columns.') \n",
    "\n",
    "#Looking at the 10 random sample rows done using np.random\n",
    "# Because looking at random values will give you better understaning than head or tail values\n",
    "np.random.seed(1)\n",
    "df.sample(10)"
   ]
  },
  {
   "cell_type": "markdown",
   "id": "cc424676",
   "metadata": {},
   "source": [
    "- After carefully analyzing, column name: `S.No.` is the only column that needs to be dropped reason being:\n",
    "  * Pandas already provides column id which matches that of S.No and renders S.No's usage pointless "
   ]
  },
  {
   "cell_type": "code",
   "execution_count": 19,
   "id": "7e5fb9cb",
   "metadata": {},
   "outputs": [
    {
     "data": {
      "text/plain": [
       "Index(['Name', 'Location', 'Year', 'Kilometers_Driven', 'Fuel_Type',\n",
       "       'Transmission', 'Owner_Type', 'Mileage', 'Engine', 'Power', 'Seats',\n",
       "       'New_Price', 'Price'],\n",
       "      dtype='object')"
      ]
     },
     "execution_count": 19,
     "metadata": {},
     "output_type": "execute_result"
    }
   ],
   "source": [
    "# Dropping the S.No Column\n",
    "df.drop([\"S.No.\"], axis=1, inplace=True)\n",
    "# Validating that S.No. column is removed by checking  df.columns\n",
    "df.columns"
   ]
  },
  {
   "cell_type": "markdown",
   "id": "59460b98",
   "metadata": {},
   "source": [
    "- Name column is the first and S.No. column is now gone"
   ]
  },
  {
   "cell_type": "markdown",
   "id": "f2dc3f00",
   "metadata": {},
   "source": [
    " # **PreProcessing Structured Data**\n",
    " _______________________________________________________"
   ]
  },
  {
   "cell_type": "markdown",
   "id": "4a0b26af",
   "metadata": {},
   "source": [
    "`@author mirali - Created on Friday Feb 3 - Start your work from the next line`"
   ]
  },
  {
   "cell_type": "code",
   "execution_count": null,
   "id": "47b92109",
   "metadata": {},
   "outputs": [],
   "source": []
  },
  {
   "cell_type": "markdown",
   "id": "854cb86f",
   "metadata": {},
   "source": [
    "# **EDA - Exploratory Data Analysis on PreProcessed Data**\n",
    "_______________________________________________________"
   ]
  },
  {
   "cell_type": "markdown",
   "id": "d25850a2",
   "metadata": {},
   "source": [
    "`@author mirali - Created on Friday Feb 3 - Start your work from the next line`"
   ]
  },
  {
   "cell_type": "code",
   "execution_count": null,
   "id": "8af23e52",
   "metadata": {},
   "outputs": [],
   "source": []
  },
  {
   "cell_type": "markdown",
   "id": "a583bcf3",
   "metadata": {},
   "source": [
    "# **Build a linear regression model to predict the prices of used cars**\n",
    "_______________________________________________________"
   ]
  },
  {
   "cell_type": "markdown",
   "id": "691e2b0e",
   "metadata": {},
   "source": [
    "`@author mirali - Created on Friday Feb 3 - Start your work from the next line`"
   ]
  },
  {
   "cell_type": "code",
   "execution_count": null,
   "id": "b47877d4",
   "metadata": {},
   "outputs": [],
   "source": []
  },
  {
   "cell_type": "markdown",
   "id": "16794b64",
   "metadata": {},
   "source": [
    "# **Insights and Recommendations that will help the business**\n",
    "_______________________________________________________"
   ]
  },
  {
   "cell_type": "markdown",
   "id": "8f2104d8",
   "metadata": {},
   "source": [
    "`@author mirali - Created on Friday Feb 3 - Start your work from the next line`"
   ]
  },
  {
   "cell_type": "code",
   "execution_count": null,
   "id": "949bb848",
   "metadata": {},
   "outputs": [],
   "source": []
  }
 ],
 "metadata": {
  "kernelspec": {
   "display_name": "Python 3 (ipykernel)",
   "language": "python",
   "name": "python3"
  },
  "language_info": {
   "codemirror_mode": {
    "name": "ipython",
    "version": 3
   },
   "file_extension": ".py",
   "mimetype": "text/x-python",
   "name": "python",
   "nbconvert_exporter": "python",
   "pygments_lexer": "ipython3",
   "version": "3.8.13"
  }
 },
 "nbformat": 4,
 "nbformat_minor": 5
}
