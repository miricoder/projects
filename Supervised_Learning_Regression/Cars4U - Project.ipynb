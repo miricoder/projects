{
 "cells": [
  {
   "cell_type": "markdown",
   "id": "a4c9ff0e",
   "metadata": {},
   "source": [
    "**Importing necessary libraries**"
   ]
  },
  {
   "cell_type": "code",
   "execution_count": 2,
   "id": "391dcb32",
   "metadata": {},
   "outputs": [],
   "source": [
    "# To Suppress warning such as future warnings\n",
    "import warnings \n",
    "warnings.simplefilter(action=\"ignore\", category=FutureWarning)\n",
    "# For reading and manipulating data \n",
    "import pandas as pd\n",
    "import numpy as np\n",
    "# Libraries used for data visualization \n",
    "import seaborn as sns\n",
    "import matplotlib.pyplot as plt\n",
    "# Command to tell Python to actually display the graphs \n",
    "%matplotlib inline\n",
    "# Remove the limit from the number of displayed columns and rows so i can see the entire df when printing\n",
    "pd.set_option('display.max_columns', None)\n",
    "pd.set_option('display.max_rows', 200)\n",
    "\n",
    "#Libraries used in Data Split (to test and train)\n",
    "from sklearn.model_selection import train_test_split\n",
    "#Libraries used for Linear Regression Model Building\n",
    "from sklearn.linear_model import LinearRegression"
   ]
  },
  {
   "cell_type": "markdown",
   "id": "b836839a",
   "metadata": {},
   "source": [
    "**Importing Data from GitHub & Making Original Data is safe and only copy is used**"
   ]
  },
  {
   "cell_type": "code",
   "execution_count": 4,
   "id": "5d142888",
   "metadata": {},
   "outputs": [],
   "source": [
    "#Importing data into data Variable which is our original Data\n",
    "data = pd.read_csv(\"https://raw.githubusercontent.com/miricoder/projects/main/Supervised_Learning_Regression/used_cars_data.csv\")\n",
    "# Creating Copy of that data\n",
    "df = data.copy()"
   ]
  },
  {
   "cell_type": "markdown",
   "id": "ed0884f9",
   "metadata": {},
   "source": [
    " # **Review and Structure Raw Data**\n",
    "  ____________________"
   ]
  },
  {
   "cell_type": "markdown",
   "id": "0aed6e30",
   "metadata": {},
   "source": [
    "`@author mirali - Created on Friday Feb 3 - Start your work from the next line`"
   ]
  },
  {
   "cell_type": "code",
   "execution_count": null,
   "id": "1d651181",
   "metadata": {},
   "outputs": [],
   "source": []
  },
  {
   "cell_type": "markdown",
   "id": "97b7aae8",
   "metadata": {},
   "source": [
    " # **PreProcessing Structured Data**\n",
    " _______________________________________________________"
   ]
  },
  {
   "cell_type": "markdown",
   "id": "48fd23de",
   "metadata": {},
   "source": [
    "`@author mirali - Created on Friday Feb 3 - Start your work from the next line`"
   ]
  },
  {
   "cell_type": "code",
   "execution_count": null,
   "id": "645470f5",
   "metadata": {},
   "outputs": [],
   "source": []
  },
  {
   "cell_type": "markdown",
   "id": "8d5fa277",
   "metadata": {},
   "source": [
    "# **EDA - Exploratory Data Analysis on PreProcessed Data**\n",
    "_______________________________________________________"
   ]
  },
  {
   "cell_type": "markdown",
   "id": "78b11221",
   "metadata": {},
   "source": [
    "`@author mirali - Created on Friday Feb 3 - Start your work from the next line`"
   ]
  },
  {
   "cell_type": "code",
   "execution_count": null,
   "id": "f3c64b20",
   "metadata": {},
   "outputs": [],
   "source": []
  },
  {
   "cell_type": "markdown",
   "id": "c86112ef",
   "metadata": {},
   "source": [
    "# **Build a linear regression model to predict the prices of used cars**"
   ]
  },
  {
   "cell_type": "code",
   "execution_count": null,
   "id": "042af5ed",
   "metadata": {},
   "outputs": [],
   "source": []
  },
  {
   "cell_type": "code",
   "execution_count": null,
   "id": "3d604f1a",
   "metadata": {},
   "outputs": [],
   "source": []
  },
  {
   "cell_type": "markdown",
   "id": "a09dad67",
   "metadata": {},
   "source": [
    "# **Insights into the Data**\n",
    "_______________________________________________________"
   ]
  },
  {
   "cell_type": "markdown",
   "id": "dbffbad9",
   "metadata": {},
   "source": [
    "`@author mirali - Created on Friday Feb 3 - Start your work from the next line`"
   ]
  },
  {
   "cell_type": "code",
   "execution_count": null,
   "id": "1cdbf265",
   "metadata": {},
   "outputs": [],
   "source": []
  }
 ],
 "metadata": {
  "kernelspec": {
   "display_name": "Python 3 (ipykernel)",
   "language": "python",
   "name": "python3"
  },
  "language_info": {
   "codemirror_mode": {
    "name": "ipython",
    "version": 3
   },
   "file_extension": ".py",
   "mimetype": "text/x-python",
   "name": "python",
   "nbconvert_exporter": "python",
   "pygments_lexer": "ipython3",
   "version": "3.8.13"
  }
 },
 "nbformat": 4,
 "nbformat_minor": 5
}
