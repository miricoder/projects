{
 "cells": [
  {
   "cell_type": "markdown",
   "id": "48130cf0",
   "metadata": {},
   "source": [
    "## Context\n",
    "Cars4U is a budding tech start-up that aims to find footholes in the Used car market as pre-owned car market has continued to grow over the past years (specifically between 2018-19). Unlike New Cars where pricingh and supply are failrly deterministic and managed by OEMs (Original Equipment Manufacturer / except for dealership level discounts, used cars have huge uncertainty in both pricing and supply. Therefore, it is very important for Cars4U as a start-up to be able to determine what its future supply and pricing will be like in order to manage its future growth and keep a foothole in ever growing Used car market. \n",
    "\n",
    "## Objective\n",
    "Analyze the data and come up with a pricing model that can effectively predict the price of used cars and can help the business in devising profitable strategies using differential pricing. \n",
    "\n",
    "## Key Questions\n",
    "1) What will be the market price in order to plan target price to not sell below market value?"
   ]
  },
  {
   "cell_type": "markdown",
   "id": "31c5a97d",
   "metadata": {},
   "source": [
    " # **Data PreProcessing & Sanity Checking**\n",
    "  ____________________"
   ]
  },
  {
   "cell_type": "markdown",
   "id": "ea4e771b",
   "metadata": {},
   "source": [
    "`@author mirali - Created on Friday Feb 3 - Start your work from the next line`"
   ]
  },
  {
   "cell_type": "markdown",
   "id": "5e42eb12",
   "metadata": {},
   "source": [
    "<h3 style=\"color:Brown\">Loading and Exploring Data</h3>"
   ]
  },
  {
   "cell_type": "code",
   "execution_count": 1,
   "id": "4836150f",
   "metadata": {},
   "outputs": [
    {
     "data": {
      "application/javascript": [
       "\n",
       "            setTimeout(function() {\n",
       "                var nbb_cell_id = 1;\n",
       "                var nbb_unformatted_code = \"# this will help in making the Python code more structured automatically (good coding practice)\\n%load_ext nb_black\\n# To Suppress warning such as future warnings\\nimport warnings\\n\\nwarnings.simplefilter(action=\\\"ignore\\\", category=FutureWarning)\\n# For reading and manipulating data\\nimport pandas as pd\\nimport numpy as np\\n\\n# Libraries used for data visualization\\nimport seaborn as sns\\nimport matplotlib.pyplot as plt\\n\\nsns.set()\\n\\n# Command to tell Python to actually display the graphs\\n%matplotlib inline\\n# Remove the limit from the number of displayed columns and rows so i can see the entire df when printing\\npd.set_option(\\\"display.max_columns\\\", None)\\npd.set_option(\\\"display.max_rows\\\", 200)\\n\\n# Libraries used in Data Split (to test and train)\\nfrom sklearn.model_selection import train_test_split\\n\\n# Libraries used for Linear Regression Model Building\\nfrom sklearn.linear_model import LinearRegression\";\n",
       "                var nbb_formatted_code = \"# this will help in making the Python code more structured automatically (good coding practice)\\n%load_ext nb_black\\n# To Suppress warning such as future warnings\\nimport warnings\\n\\nwarnings.simplefilter(action=\\\"ignore\\\", category=FutureWarning)\\n# For reading and manipulating data\\nimport pandas as pd\\nimport numpy as np\\n\\n# Libraries used for data visualization\\nimport seaborn as sns\\nimport matplotlib.pyplot as plt\\n\\nsns.set()\\n\\n# Command to tell Python to actually display the graphs\\n%matplotlib inline\\n# Remove the limit from the number of displayed columns and rows so i can see the entire df when printing\\npd.set_option(\\\"display.max_columns\\\", None)\\npd.set_option(\\\"display.max_rows\\\", 200)\\n\\n# Libraries used in Data Split (to test and train)\\nfrom sklearn.model_selection import train_test_split\\n\\n# Libraries used for Linear Regression Model Building\\nfrom sklearn.linear_model import LinearRegression\";\n",
       "                var nbb_cells = Jupyter.notebook.get_cells();\n",
       "                for (var i = 0; i < nbb_cells.length; ++i) {\n",
       "                    if (nbb_cells[i].input_prompt_number == nbb_cell_id) {\n",
       "                        if (nbb_cells[i].get_text() == nbb_unformatted_code) {\n",
       "                             nbb_cells[i].set_text(nbb_formatted_code);\n",
       "                        }\n",
       "                        break;\n",
       "                    }\n",
       "                }\n",
       "            }, 500);\n",
       "            "
      ],
      "text/plain": [
       "<IPython.core.display.Javascript object>"
      ]
     },
     "metadata": {},
     "output_type": "display_data"
    }
   ],
   "source": [
    "# this will help in making the Python code more structured automatically (good coding practice)\n",
    "%load_ext nb_black\n",
    "# To Suppress warning such as future warnings\n",
    "import warnings\n",
    "\n",
    "warnings.simplefilter(action=\"ignore\", category=FutureWarning)\n",
    "# For reading and manipulating data\n",
    "import pandas as pd\n",
    "import numpy as np\n",
    "\n",
    "# Libraries used for data visualization\n",
    "import seaborn as sns\n",
    "import matplotlib.pyplot as plt\n",
    "\n",
    "sns.set()\n",
    "\n",
    "# Command to tell Python to actually display the graphs\n",
    "%matplotlib inline\n",
    "# Remove the limit from the number of displayed columns and rows so i can see the entire df when printing\n",
    "pd.set_option(\"display.max_columns\", None)\n",
    "pd.set_option(\"display.max_rows\", 200)\n",
    "\n",
    "# Libraries used in Data Split (to test and train)\n",
    "from sklearn.model_selection import train_test_split\n",
    "\n",
    "# Libraries used for Linear Regression Model Building\n",
    "from sklearn.linear_model import LinearRegression"
   ]
  },
  {
   "cell_type": "code",
   "execution_count": 2,
   "id": "7492594c",
   "metadata": {},
   "outputs": [
    {
     "data": {
      "application/javascript": [
       "\n",
       "            setTimeout(function() {\n",
       "                var nbb_cell_id = 2;\n",
       "                var nbb_unformatted_code = \"# Importing data into data Variable which is our original Data\\ndata = pd.read_csv(\\n    \\\"https://raw.githubusercontent.com/miricoder/projects/main/Supervised_Learning_Regression/used_cars_data.csv\\\"\\n)\\n# Creating Copy of The original Data\\ndf = data.copy()\";\n",
       "                var nbb_formatted_code = \"# Importing data into data Variable which is our original Data\\ndata = pd.read_csv(\\n    \\\"https://raw.githubusercontent.com/miricoder/projects/main/Supervised_Learning_Regression/used_cars_data.csv\\\"\\n)\\n# Creating Copy of The original Data\\ndf = data.copy()\";\n",
       "                var nbb_cells = Jupyter.notebook.get_cells();\n",
       "                for (var i = 0; i < nbb_cells.length; ++i) {\n",
       "                    if (nbb_cells[i].input_prompt_number == nbb_cell_id) {\n",
       "                        if (nbb_cells[i].get_text() == nbb_unformatted_code) {\n",
       "                             nbb_cells[i].set_text(nbb_formatted_code);\n",
       "                        }\n",
       "                        break;\n",
       "                    }\n",
       "                }\n",
       "            }, 500);\n",
       "            "
      ],
      "text/plain": [
       "<IPython.core.display.Javascript object>"
      ]
     },
     "metadata": {},
     "output_type": "display_data"
    }
   ],
   "source": [
    "# Importing data into data Variable which is our original Data\n",
    "data = pd.read_csv(\n",
    "    \"https://raw.githubusercontent.com/miricoder/projects/main/Supervised_Learning_Regression/used_cars_data.csv\"\n",
    ")\n",
    "# Creating Copy of The original Data\n",
    "df = data.copy()"
   ]
  },
  {
   "cell_type": "code",
   "execution_count": 3,
   "id": "8a2660e4",
   "metadata": {
    "scrolled": true
   },
   "outputs": [
    {
     "name": "stdout",
     "output_type": "stream",
     "text": [
      "There are 7253 rows and 14 columns.\n"
     ]
    },
    {
     "data": {
      "text/html": [
       "<div>\n",
       "<style scoped>\n",
       "    .dataframe tbody tr th:only-of-type {\n",
       "        vertical-align: middle;\n",
       "    }\n",
       "\n",
       "    .dataframe tbody tr th {\n",
       "        vertical-align: top;\n",
       "    }\n",
       "\n",
       "    .dataframe thead th {\n",
       "        text-align: right;\n",
       "    }\n",
       "</style>\n",
       "<table border=\"1\" class=\"dataframe\">\n",
       "  <thead>\n",
       "    <tr style=\"text-align: right;\">\n",
       "      <th></th>\n",
       "      <th>S.No.</th>\n",
       "      <th>Name</th>\n",
       "      <th>Location</th>\n",
       "      <th>Year</th>\n",
       "      <th>Kilometers_Driven</th>\n",
       "      <th>Fuel_Type</th>\n",
       "      <th>Transmission</th>\n",
       "      <th>Owner_Type</th>\n",
       "      <th>Mileage</th>\n",
       "      <th>Engine</th>\n",
       "      <th>Power</th>\n",
       "      <th>Seats</th>\n",
       "      <th>New_Price</th>\n",
       "      <th>Price</th>\n",
       "    </tr>\n",
       "  </thead>\n",
       "  <tbody>\n",
       "    <tr>\n",
       "      <th>2397</th>\n",
       "      <td>2397</td>\n",
       "      <td>Ford EcoSport 1.5 Petrol Trend</td>\n",
       "      <td>Kolkata</td>\n",
       "      <td>2016</td>\n",
       "      <td>21460</td>\n",
       "      <td>Petrol</td>\n",
       "      <td>Manual</td>\n",
       "      <td>First</td>\n",
       "      <td>17.0 kmpl</td>\n",
       "      <td>1497 CC</td>\n",
       "      <td>121.36 bhp</td>\n",
       "      <td>5.0</td>\n",
       "      <td>9.47</td>\n",
       "      <td>6.00</td>\n",
       "    </tr>\n",
       "    <tr>\n",
       "      <th>3777</th>\n",
       "      <td>3777</td>\n",
       "      <td>Maruti Wagon R VXI 1.2</td>\n",
       "      <td>Kochi</td>\n",
       "      <td>2015</td>\n",
       "      <td>49818</td>\n",
       "      <td>Petrol</td>\n",
       "      <td>Manual</td>\n",
       "      <td>First</td>\n",
       "      <td>21.5 kmpl</td>\n",
       "      <td>1197 CC</td>\n",
       "      <td>81.80 bhp</td>\n",
       "      <td>5.0</td>\n",
       "      <td>5.44</td>\n",
       "      <td>4.11</td>\n",
       "    </tr>\n",
       "    <tr>\n",
       "      <th>4425</th>\n",
       "      <td>4425</td>\n",
       "      <td>Ford Endeavour 4x2 XLT</td>\n",
       "      <td>Hyderabad</td>\n",
       "      <td>2007</td>\n",
       "      <td>130000</td>\n",
       "      <td>Diesel</td>\n",
       "      <td>Manual</td>\n",
       "      <td>First</td>\n",
       "      <td>13.1 kmpl</td>\n",
       "      <td>2499 CC</td>\n",
       "      <td>141 bhp</td>\n",
       "      <td>7.0</td>\n",
       "      <td>35.29</td>\n",
       "      <td>6.00</td>\n",
       "    </tr>\n",
       "    <tr>\n",
       "      <th>3661</th>\n",
       "      <td>3661</td>\n",
       "      <td>Mercedes-Benz E-Class E250 CDI Avantgrade</td>\n",
       "      <td>Coimbatore</td>\n",
       "      <td>2016</td>\n",
       "      <td>39753</td>\n",
       "      <td>Diesel</td>\n",
       "      <td>Automatic</td>\n",
       "      <td>First</td>\n",
       "      <td>13.0 kmpl</td>\n",
       "      <td>2143 CC</td>\n",
       "      <td>201.1 bhp</td>\n",
       "      <td>5.0</td>\n",
       "      <td>86.97</td>\n",
       "      <td>35.28</td>\n",
       "    </tr>\n",
       "    <tr>\n",
       "      <th>4514</th>\n",
       "      <td>4514</td>\n",
       "      <td>Hyundai Xcent 1.2 Kappa AT SX Option</td>\n",
       "      <td>Kochi</td>\n",
       "      <td>2016</td>\n",
       "      <td>45560</td>\n",
       "      <td>Petrol</td>\n",
       "      <td>Automatic</td>\n",
       "      <td>First</td>\n",
       "      <td>16.9 kmpl</td>\n",
       "      <td>1197 CC</td>\n",
       "      <td>82 bhp</td>\n",
       "      <td>5.0</td>\n",
       "      <td>8.23</td>\n",
       "      <td>6.34</td>\n",
       "    </tr>\n",
       "    <tr>\n",
       "      <th>599</th>\n",
       "      <td>599</td>\n",
       "      <td>Toyota Innova Crysta 2.8 ZX AT</td>\n",
       "      <td>Coimbatore</td>\n",
       "      <td>2019</td>\n",
       "      <td>40674</td>\n",
       "      <td>Diesel</td>\n",
       "      <td>Automatic</td>\n",
       "      <td>First</td>\n",
       "      <td>11.36 kmpl</td>\n",
       "      <td>2755 CC</td>\n",
       "      <td>171.5 bhp</td>\n",
       "      <td>7.0</td>\n",
       "      <td>28.05</td>\n",
       "      <td>24.82</td>\n",
       "    </tr>\n",
       "    <tr>\n",
       "      <th>186</th>\n",
       "      <td>186</td>\n",
       "      <td>Mercedes-Benz E-Class E250 CDI Avantgrade</td>\n",
       "      <td>Bangalore</td>\n",
       "      <td>2014</td>\n",
       "      <td>37382</td>\n",
       "      <td>Diesel</td>\n",
       "      <td>Automatic</td>\n",
       "      <td>First</td>\n",
       "      <td>13.0 kmpl</td>\n",
       "      <td>2143 CC</td>\n",
       "      <td>201.1 bhp</td>\n",
       "      <td>5.0</td>\n",
       "      <td>86.97</td>\n",
       "      <td>32.00</td>\n",
       "    </tr>\n",
       "    <tr>\n",
       "      <th>305</th>\n",
       "      <td>305</td>\n",
       "      <td>Audi A6 2011-2015 2.0 TDI Premium Plus</td>\n",
       "      <td>Kochi</td>\n",
       "      <td>2014</td>\n",
       "      <td>61726</td>\n",
       "      <td>Diesel</td>\n",
       "      <td>Automatic</td>\n",
       "      <td>First</td>\n",
       "      <td>17.68 kmpl</td>\n",
       "      <td>1968 CC</td>\n",
       "      <td>174.33 bhp</td>\n",
       "      <td>5.0</td>\n",
       "      <td>67.10</td>\n",
       "      <td>20.77</td>\n",
       "    </tr>\n",
       "    <tr>\n",
       "      <th>4582</th>\n",
       "      <td>4582</td>\n",
       "      <td>Hyundai i20 1.2 Magna</td>\n",
       "      <td>Kolkata</td>\n",
       "      <td>2011</td>\n",
       "      <td>36000</td>\n",
       "      <td>Petrol</td>\n",
       "      <td>Manual</td>\n",
       "      <td>First</td>\n",
       "      <td>18.5 kmpl</td>\n",
       "      <td>1197 CC</td>\n",
       "      <td>80 bhp</td>\n",
       "      <td>5.0</td>\n",
       "      <td>10.25</td>\n",
       "      <td>2.50</td>\n",
       "    </tr>\n",
       "    <tr>\n",
       "      <th>5434</th>\n",
       "      <td>5434</td>\n",
       "      <td>Honda WR-V Edge Edition i-VTEC S</td>\n",
       "      <td>Kochi</td>\n",
       "      <td>2019</td>\n",
       "      <td>13913</td>\n",
       "      <td>Petrol</td>\n",
       "      <td>Manual</td>\n",
       "      <td>First</td>\n",
       "      <td>17.5 kmpl</td>\n",
       "      <td>1199 CC</td>\n",
       "      <td>88.7 bhp</td>\n",
       "      <td>5.0</td>\n",
       "      <td>9.36</td>\n",
       "      <td>8.20</td>\n",
       "    </tr>\n",
       "  </tbody>\n",
       "</table>\n",
       "</div>"
      ],
      "text/plain": [
       "      S.No.                                       Name    Location  Year  \\\n",
       "2397   2397             Ford EcoSport 1.5 Petrol Trend     Kolkata  2016   \n",
       "3777   3777                     Maruti Wagon R VXI 1.2       Kochi  2015   \n",
       "4425   4425                     Ford Endeavour 4x2 XLT   Hyderabad  2007   \n",
       "3661   3661  Mercedes-Benz E-Class E250 CDI Avantgrade  Coimbatore  2016   \n",
       "4514   4514       Hyundai Xcent 1.2 Kappa AT SX Option       Kochi  2016   \n",
       "599     599             Toyota Innova Crysta 2.8 ZX AT  Coimbatore  2019   \n",
       "186     186  Mercedes-Benz E-Class E250 CDI Avantgrade   Bangalore  2014   \n",
       "305     305     Audi A6 2011-2015 2.0 TDI Premium Plus       Kochi  2014   \n",
       "4582   4582                      Hyundai i20 1.2 Magna     Kolkata  2011   \n",
       "5434   5434           Honda WR-V Edge Edition i-VTEC S       Kochi  2019   \n",
       "\n",
       "      Kilometers_Driven Fuel_Type Transmission Owner_Type     Mileage  \\\n",
       "2397              21460    Petrol       Manual      First   17.0 kmpl   \n",
       "3777              49818    Petrol       Manual      First   21.5 kmpl   \n",
       "4425             130000    Diesel       Manual      First   13.1 kmpl   \n",
       "3661              39753    Diesel    Automatic      First   13.0 kmpl   \n",
       "4514              45560    Petrol    Automatic      First   16.9 kmpl   \n",
       "599               40674    Diesel    Automatic      First  11.36 kmpl   \n",
       "186               37382    Diesel    Automatic      First   13.0 kmpl   \n",
       "305               61726    Diesel    Automatic      First  17.68 kmpl   \n",
       "4582              36000    Petrol       Manual      First   18.5 kmpl   \n",
       "5434              13913    Petrol       Manual      First   17.5 kmpl   \n",
       "\n",
       "       Engine       Power  Seats  New_Price  Price  \n",
       "2397  1497 CC  121.36 bhp    5.0       9.47   6.00  \n",
       "3777  1197 CC   81.80 bhp    5.0       5.44   4.11  \n",
       "4425  2499 CC     141 bhp    7.0      35.29   6.00  \n",
       "3661  2143 CC   201.1 bhp    5.0      86.97  35.28  \n",
       "4514  1197 CC      82 bhp    5.0       8.23   6.34  \n",
       "599   2755 CC   171.5 bhp    7.0      28.05  24.82  \n",
       "186   2143 CC   201.1 bhp    5.0      86.97  32.00  \n",
       "305   1968 CC  174.33 bhp    5.0      67.10  20.77  \n",
       "4582  1197 CC      80 bhp    5.0      10.25   2.50  \n",
       "5434  1199 CC    88.7 bhp    5.0       9.36   8.20  "
      ]
     },
     "execution_count": 3,
     "metadata": {},
     "output_type": "execute_result"
    },
    {
     "data": {
      "application/javascript": [
       "\n",
       "            setTimeout(function() {\n",
       "                var nbb_cell_id = 3;\n",
       "                var nbb_unformatted_code = \"# Display column and row values using pyton 3's f-string\\nprint(f\\\"There are {df.shape[0]} rows and {df.shape[1]} columns.\\\")\\n\\n# Looking at the 10 random sample rows done using np.random\\n# Because looking at random values will give you better understaning than head or tail values\\nnp.random.seed(1)\\ndf.sample(10)\";\n",
       "                var nbb_formatted_code = \"# Display column and row values using pyton 3's f-string\\nprint(f\\\"There are {df.shape[0]} rows and {df.shape[1]} columns.\\\")\\n\\n# Looking at the 10 random sample rows done using np.random\\n# Because looking at random values will give you better understaning than head or tail values\\nnp.random.seed(1)\\ndf.sample(10)\";\n",
       "                var nbb_cells = Jupyter.notebook.get_cells();\n",
       "                for (var i = 0; i < nbb_cells.length; ++i) {\n",
       "                    if (nbb_cells[i].input_prompt_number == nbb_cell_id) {\n",
       "                        if (nbb_cells[i].get_text() == nbb_unformatted_code) {\n",
       "                             nbb_cells[i].set_text(nbb_formatted_code);\n",
       "                        }\n",
       "                        break;\n",
       "                    }\n",
       "                }\n",
       "            }, 500);\n",
       "            "
      ],
      "text/plain": [
       "<IPython.core.display.Javascript object>"
      ]
     },
     "metadata": {},
     "output_type": "display_data"
    }
   ],
   "source": [
    "# Display column and row values using pyton 3's f-string\n",
    "print(f\"There are {df.shape[0]} rows and {df.shape[1]} columns.\")\n",
    "\n",
    "# Looking at the 10 random sample rows done using np.random\n",
    "# Because looking at random values will give you better understaning than head or tail values\n",
    "np.random.seed(1)\n",
    "df.sample(10)"
   ]
  },
  {
   "cell_type": "markdown",
   "id": "cc424676",
   "metadata": {},
   "source": [
    "- After carefully analyzing, column name: `S.No.` is the only column that needs to be dropped reason being:\n",
    "  * Pandas already provides column id which matches that of S.No and renders S.No's usage pointless \n",
    "- `Mileage,Engine,Power` columns needs to be turned into numerics\n",
    "- Year columns seems ok so far\n",
    "- Categorical Values like below needs to be applied one-hot encoding closer to the end of our analysis right before model building \n",
    "     `Fuel_Type,Transmission,Owner_Type`"
   ]
  },
  {
   "cell_type": "markdown",
   "id": "b74d6249",
   "metadata": {},
   "source": [
    "**Basic EDA-Statistical Summary before going any further to see how our data is looking**"
   ]
  },
  {
   "cell_type": "code",
   "execution_count": 4,
   "id": "f9ddb997",
   "metadata": {},
   "outputs": [
    {
     "data": {
      "text/html": [
       "<div>\n",
       "<style scoped>\n",
       "    .dataframe tbody tr th:only-of-type {\n",
       "        vertical-align: middle;\n",
       "    }\n",
       "\n",
       "    .dataframe tbody tr th {\n",
       "        vertical-align: top;\n",
       "    }\n",
       "\n",
       "    .dataframe thead th {\n",
       "        text-align: right;\n",
       "    }\n",
       "</style>\n",
       "<table border=\"1\" class=\"dataframe\">\n",
       "  <thead>\n",
       "    <tr style=\"text-align: right;\">\n",
       "      <th></th>\n",
       "      <th>count</th>\n",
       "      <th>mean</th>\n",
       "      <th>std</th>\n",
       "      <th>min</th>\n",
       "      <th>25%</th>\n",
       "      <th>50%</th>\n",
       "      <th>75%</th>\n",
       "      <th>max</th>\n",
       "    </tr>\n",
       "  </thead>\n",
       "  <tbody>\n",
       "    <tr>\n",
       "      <th>S.No.</th>\n",
       "      <td>7253.0</td>\n",
       "      <td>3626.000000</td>\n",
       "      <td>2093.905084</td>\n",
       "      <td>0.00</td>\n",
       "      <td>1813.00</td>\n",
       "      <td>3626.00</td>\n",
       "      <td>5439.00</td>\n",
       "      <td>7252.0</td>\n",
       "    </tr>\n",
       "    <tr>\n",
       "      <th>Year</th>\n",
       "      <td>7253.0</td>\n",
       "      <td>2013.365366</td>\n",
       "      <td>3.254421</td>\n",
       "      <td>1996.00</td>\n",
       "      <td>2011.00</td>\n",
       "      <td>2014.00</td>\n",
       "      <td>2016.00</td>\n",
       "      <td>2019.0</td>\n",
       "    </tr>\n",
       "    <tr>\n",
       "      <th>Kilometers_Driven</th>\n",
       "      <td>7253.0</td>\n",
       "      <td>58699.063146</td>\n",
       "      <td>84427.720583</td>\n",
       "      <td>171.00</td>\n",
       "      <td>34000.00</td>\n",
       "      <td>53416.00</td>\n",
       "      <td>73000.00</td>\n",
       "      <td>6500000.0</td>\n",
       "    </tr>\n",
       "    <tr>\n",
       "      <th>Seats</th>\n",
       "      <td>7200.0</td>\n",
       "      <td>5.279722</td>\n",
       "      <td>0.811660</td>\n",
       "      <td>0.00</td>\n",
       "      <td>5.00</td>\n",
       "      <td>5.00</td>\n",
       "      <td>5.00</td>\n",
       "      <td>10.0</td>\n",
       "    </tr>\n",
       "    <tr>\n",
       "      <th>New_Price</th>\n",
       "      <td>7253.0</td>\n",
       "      <td>21.307322</td>\n",
       "      <td>24.256314</td>\n",
       "      <td>3.91</td>\n",
       "      <td>7.88</td>\n",
       "      <td>11.30</td>\n",
       "      <td>21.69</td>\n",
       "      <td>375.0</td>\n",
       "    </tr>\n",
       "    <tr>\n",
       "      <th>Price</th>\n",
       "      <td>6019.0</td>\n",
       "      <td>9.479468</td>\n",
       "      <td>11.187917</td>\n",
       "      <td>0.44</td>\n",
       "      <td>3.50</td>\n",
       "      <td>5.64</td>\n",
       "      <td>9.95</td>\n",
       "      <td>160.0</td>\n",
       "    </tr>\n",
       "  </tbody>\n",
       "</table>\n",
       "</div>"
      ],
      "text/plain": [
       "                    count          mean           std      min       25%  \\\n",
       "S.No.              7253.0   3626.000000   2093.905084     0.00   1813.00   \n",
       "Year               7253.0   2013.365366      3.254421  1996.00   2011.00   \n",
       "Kilometers_Driven  7253.0  58699.063146  84427.720583   171.00  34000.00   \n",
       "Seats              7200.0      5.279722      0.811660     0.00      5.00   \n",
       "New_Price          7253.0     21.307322     24.256314     3.91      7.88   \n",
       "Price              6019.0      9.479468     11.187917     0.44      3.50   \n",
       "\n",
       "                        50%       75%        max  \n",
       "S.No.               3626.00   5439.00     7252.0  \n",
       "Year                2014.00   2016.00     2019.0  \n",
       "Kilometers_Driven  53416.00  73000.00  6500000.0  \n",
       "Seats                  5.00      5.00       10.0  \n",
       "New_Price             11.30     21.69      375.0  \n",
       "Price                  5.64      9.95      160.0  "
      ]
     },
     "execution_count": 4,
     "metadata": {},
     "output_type": "execute_result"
    },
    {
     "data": {
      "application/javascript": [
       "\n",
       "            setTimeout(function() {\n",
       "                var nbb_cell_id = 4;\n",
       "                var nbb_unformatted_code = \"df.describe().T\";\n",
       "                var nbb_formatted_code = \"df.describe().T\";\n",
       "                var nbb_cells = Jupyter.notebook.get_cells();\n",
       "                for (var i = 0; i < nbb_cells.length; ++i) {\n",
       "                    if (nbb_cells[i].input_prompt_number == nbb_cell_id) {\n",
       "                        if (nbb_cells[i].get_text() == nbb_unformatted_code) {\n",
       "                             nbb_cells[i].set_text(nbb_formatted_code);\n",
       "                        }\n",
       "                        break;\n",
       "                    }\n",
       "                }\n",
       "            }, 500);\n",
       "            "
      ],
      "text/plain": [
       "<IPython.core.display.Javascript object>"
      ]
     },
     "metadata": {},
     "output_type": "display_data"
    }
   ],
   "source": [
    "df.describe().T"
   ]
  },
  {
   "cell_type": "markdown",
   "id": "5fdebeca",
   "metadata": {},
   "source": [
    "- Count of Price is less than other columns, this could be due to missing values, we will see more as move forward. "
   ]
  },
  {
   "cell_type": "markdown",
   "id": "ae0c83ee",
   "metadata": {},
   "source": [
    "**Dropping the S.No Column**"
   ]
  },
  {
   "cell_type": "code",
   "execution_count": 5,
   "id": "7e5fb9cb",
   "metadata": {},
   "outputs": [
    {
     "data": {
      "text/plain": [
       "Index(['Name', 'Location', 'Year', 'Kilometers_Driven', 'Fuel_Type',\n",
       "       'Transmission', 'Owner_Type', 'Mileage', 'Engine', 'Power', 'Seats',\n",
       "       'New_Price', 'Price'],\n",
       "      dtype='object')"
      ]
     },
     "execution_count": 5,
     "metadata": {},
     "output_type": "execute_result"
    },
    {
     "data": {
      "application/javascript": [
       "\n",
       "            setTimeout(function() {\n",
       "                var nbb_cell_id = 5;\n",
       "                var nbb_unformatted_code = \"df.drop([\\\"S.No.\\\"], axis=1, inplace=True)\\n# Validating that S.No. column is removed by checking  df.columns\\ndf.columns\";\n",
       "                var nbb_formatted_code = \"df.drop([\\\"S.No.\\\"], axis=1, inplace=True)\\n# Validating that S.No. column is removed by checking  df.columns\\ndf.columns\";\n",
       "                var nbb_cells = Jupyter.notebook.get_cells();\n",
       "                for (var i = 0; i < nbb_cells.length; ++i) {\n",
       "                    if (nbb_cells[i].input_prompt_number == nbb_cell_id) {\n",
       "                        if (nbb_cells[i].get_text() == nbb_unformatted_code) {\n",
       "                             nbb_cells[i].set_text(nbb_formatted_code);\n",
       "                        }\n",
       "                        break;\n",
       "                    }\n",
       "                }\n",
       "            }, 500);\n",
       "            "
      ],
      "text/plain": [
       "<IPython.core.display.Javascript object>"
      ]
     },
     "metadata": {},
     "output_type": "display_data"
    }
   ],
   "source": [
    "df.drop([\"S.No.\"], axis=1, inplace=True)\n",
    "# Validating that S.No. column is removed by checking  df.columns\n",
    "df.columns"
   ]
  },
  {
   "cell_type": "markdown",
   "id": "703b485c",
   "metadata": {},
   "source": [
    "<h5 style=\"color:Brown\">Quick Sanity Check</h5>"
   ]
  },
  {
   "cell_type": "code",
   "execution_count": 6,
   "id": "26c366fe",
   "metadata": {},
   "outputs": [
    {
     "name": "stdout",
     "output_type": "stream",
     "text": [
      "<class 'pandas.core.frame.DataFrame'>\n",
      "RangeIndex: 7253 entries, 0 to 7252\n",
      "Data columns (total 13 columns):\n",
      " #   Column             Non-Null Count  Dtype  \n",
      "---  ------             --------------  -----  \n",
      " 0   Name               7253 non-null   object \n",
      " 1   Location           7253 non-null   object \n",
      " 2   Year               7253 non-null   int64  \n",
      " 3   Kilometers_Driven  7253 non-null   int64  \n",
      " 4   Fuel_Type          7253 non-null   object \n",
      " 5   Transmission       7253 non-null   object \n",
      " 6   Owner_Type         7253 non-null   object \n",
      " 7   Mileage            7251 non-null   object \n",
      " 8   Engine             7207 non-null   object \n",
      " 9   Power              7078 non-null   object \n",
      " 10  Seats              7200 non-null   float64\n",
      " 11  New_Price          7253 non-null   float64\n",
      " 12  Price              6019 non-null   float64\n",
      "dtypes: float64(3), int64(2), object(8)\n",
      "memory usage: 736.8+ KB\n"
     ]
    },
    {
     "data": {
      "application/javascript": [
       "\n",
       "            setTimeout(function() {\n",
       "                var nbb_cell_id = 6;\n",
       "                var nbb_unformatted_code = \"df.info()\";\n",
       "                var nbb_formatted_code = \"df.info()\";\n",
       "                var nbb_cells = Jupyter.notebook.get_cells();\n",
       "                for (var i = 0; i < nbb_cells.length; ++i) {\n",
       "                    if (nbb_cells[i].input_prompt_number == nbb_cell_id) {\n",
       "                        if (nbb_cells[i].get_text() == nbb_unformatted_code) {\n",
       "                             nbb_cells[i].set_text(nbb_formatted_code);\n",
       "                        }\n",
       "                        break;\n",
       "                    }\n",
       "                }\n",
       "            }, 500);\n",
       "            "
      ],
      "text/plain": [
       "<IPython.core.display.Javascript object>"
      ]
     },
     "metadata": {},
     "output_type": "display_data"
    }
   ],
   "source": [
    "df.info()"
   ]
  },
  {
   "cell_type": "markdown",
   "id": "59460b98",
   "metadata": {},
   "source": [
    "- Name column is the first and S.No. column is now gone, our data is down total of 13 columns\n",
    "- Mileage, Engine, Power, Seats, New_Price and Price all have missing values in them"
   ]
  },
  {
   "cell_type": "markdown",
   "id": "34bfcd75",
   "metadata": {},
   "source": [
    "<h3 style=\"color:Brown\">Processing Data - Before Performing Statisical Analysis</h3>\n"
   ]
  },
  {
   "cell_type": "markdown",
   "id": "f2134213",
   "metadata": {},
   "source": [
    "**Converting `Mileage` column to numeric**"
   ]
  },
  {
   "cell_type": "code",
   "execution_count": 7,
   "id": "904c48d7",
   "metadata": {},
   "outputs": [
    {
     "name": "stdout",
     "output_type": "stream",
     "text": [
      "['Mileage']\n"
     ]
    },
    {
     "data": {
      "application/javascript": [
       "\n",
       "            setTimeout(function() {\n",
       "                var nbb_cell_id = 7;\n",
       "                var nbb_unformatted_code = \"# Looping through to see how many columns have \\\"km/kg\\\" or \\\"kmpl\\\" endings\\nmileage_endings = (\\\"km/kg\\\", \\\" km/kg\\\", \\\"kmpl\\\")\\nmileage_cols = []\\nfor colname in df.columns[\\n    df.dtypes == \\\"object\\\"\\n]:  # only need to consider string columns\\n    if (\\n        df[colname].str.endswith(mileage_endings).any()\\n    ):  # using `.str` so I can use an element-wise string method\\n        mileage_cols.append(colname)\\nprint(mileage_cols)\";\n",
       "                var nbb_formatted_code = \"# Looping through to see how many columns have \\\"km/kg\\\" or \\\"kmpl\\\" endings\\nmileage_endings = (\\\"km/kg\\\", \\\" km/kg\\\", \\\"kmpl\\\")\\nmileage_cols = []\\nfor colname in df.columns[\\n    df.dtypes == \\\"object\\\"\\n]:  # only need to consider string columns\\n    if (\\n        df[colname].str.endswith(mileage_endings).any()\\n    ):  # using `.str` so I can use an element-wise string method\\n        mileage_cols.append(colname)\\nprint(mileage_cols)\";\n",
       "                var nbb_cells = Jupyter.notebook.get_cells();\n",
       "                for (var i = 0; i < nbb_cells.length; ++i) {\n",
       "                    if (nbb_cells[i].input_prompt_number == nbb_cell_id) {\n",
       "                        if (nbb_cells[i].get_text() == nbb_unformatted_code) {\n",
       "                             nbb_cells[i].set_text(nbb_formatted_code);\n",
       "                        }\n",
       "                        break;\n",
       "                    }\n",
       "                }\n",
       "            }, 500);\n",
       "            "
      ],
      "text/plain": [
       "<IPython.core.display.Javascript object>"
      ]
     },
     "metadata": {},
     "output_type": "display_data"
    }
   ],
   "source": [
    "# Looping through to see how many columns have \"km/kg\" or \"kmpl\" endings\n",
    "mileage_endings = (\"km/kg\", \" km/kg\", \"kmpl\")\n",
    "mileage_cols = []\n",
    "for colname in df.columns[\n",
    "    df.dtypes == \"object\"\n",
    "]:  # only need to consider string columns\n",
    "    if (\n",
    "        df[colname].str.endswith(mileage_endings).any()\n",
    "    ):  # using `.str` so I can use an element-wise string method\n",
    "        mileage_cols.append(colname)\n",
    "print(mileage_cols)"
   ]
  },
  {
   "cell_type": "code",
   "execution_count": 8,
   "id": "7f7de4e3",
   "metadata": {},
   "outputs": [
    {
     "data": {
      "text/html": [
       "<div>\n",
       "<style scoped>\n",
       "    .dataframe tbody tr th:only-of-type {\n",
       "        vertical-align: middle;\n",
       "    }\n",
       "\n",
       "    .dataframe tbody tr th {\n",
       "        vertical-align: top;\n",
       "    }\n",
       "\n",
       "    .dataframe thead th {\n",
       "        text-align: right;\n",
       "    }\n",
       "</style>\n",
       "<table border=\"1\" class=\"dataframe\">\n",
       "  <thead>\n",
       "    <tr style=\"text-align: right;\">\n",
       "      <th></th>\n",
       "      <th>Mileage</th>\n",
       "    </tr>\n",
       "  </thead>\n",
       "  <tbody>\n",
       "    <tr>\n",
       "      <th>0</th>\n",
       "      <td>26.60</td>\n",
       "    </tr>\n",
       "    <tr>\n",
       "      <th>1</th>\n",
       "      <td>19.67</td>\n",
       "    </tr>\n",
       "    <tr>\n",
       "      <th>2</th>\n",
       "      <td>18.20</td>\n",
       "    </tr>\n",
       "    <tr>\n",
       "      <th>3</th>\n",
       "      <td>20.77</td>\n",
       "    </tr>\n",
       "    <tr>\n",
       "      <th>4</th>\n",
       "      <td>15.20</td>\n",
       "    </tr>\n",
       "  </tbody>\n",
       "</table>\n",
       "</div>"
      ],
      "text/plain": [
       "   Mileage\n",
       "0    26.60\n",
       "1    19.67\n",
       "2    18.20\n",
       "3    20.77\n",
       "4    15.20"
      ]
     },
     "execution_count": 8,
     "metadata": {},
     "output_type": "execute_result"
    },
    {
     "data": {
      "application/javascript": [
       "\n",
       "            setTimeout(function() {\n",
       "                var nbb_cell_id = 8;\n",
       "                var nbb_unformatted_code = \"def mileage_to_num(mileage_val):\\n    \\\"\\\"\\\"\\n    This function takes in a string representing in Mileage in km/kg & kmpl\\n    and converts it to a number. For Example, 26.6 km/kg to 26.6\\n    or 19.67 kmpl to 19.67\\n    \\\"\\\"\\\"\\n    if isinstance(mileage_val, str):  # checks if `mileage_val` is a string\\n        return float(mileage_val.replace(\\\"km/kg\\\", \\\"\\\").replace(\\\"kmpl\\\", \\\"\\\"))\\n    else:\\n        return np.nan\\n\\n\\nfor colname in mileage_cols:\\n    df[colname] = df[colname].apply(mileage_to_num)\\n# Quick Sanity Check\\ndf[mileage_cols].head()\";\n",
       "                var nbb_formatted_code = \"def mileage_to_num(mileage_val):\\n    \\\"\\\"\\\"\\n    This function takes in a string representing in Mileage in km/kg & kmpl\\n    and converts it to a number. For Example, 26.6 km/kg to 26.6\\n    or 19.67 kmpl to 19.67\\n    \\\"\\\"\\\"\\n    if isinstance(mileage_val, str):  # checks if `mileage_val` is a string\\n        return float(mileage_val.replace(\\\"km/kg\\\", \\\"\\\").replace(\\\"kmpl\\\", \\\"\\\"))\\n    else:\\n        return np.nan\\n\\n\\nfor colname in mileage_cols:\\n    df[colname] = df[colname].apply(mileage_to_num)\\n# Quick Sanity Check\\ndf[mileage_cols].head()\";\n",
       "                var nbb_cells = Jupyter.notebook.get_cells();\n",
       "                for (var i = 0; i < nbb_cells.length; ++i) {\n",
       "                    if (nbb_cells[i].input_prompt_number == nbb_cell_id) {\n",
       "                        if (nbb_cells[i].get_text() == nbb_unformatted_code) {\n",
       "                             nbb_cells[i].set_text(nbb_formatted_code);\n",
       "                        }\n",
       "                        break;\n",
       "                    }\n",
       "                }\n",
       "            }, 500);\n",
       "            "
      ],
      "text/plain": [
       "<IPython.core.display.Javascript object>"
      ]
     },
     "metadata": {},
     "output_type": "display_data"
    }
   ],
   "source": [
    "def mileage_to_num(mileage_val):\n",
    "    \"\"\"\n",
    "    This function takes in a string representing in Mileage in km/kg & kmpl\n",
    "    and converts it to a number. For Example, 26.6 km/kg to 26.6\n",
    "    or 19.67 kmpl to 19.67\n",
    "    \"\"\"\n",
    "    if isinstance(mileage_val, str):  # checks if `mileage_val` is a string\n",
    "        return float(mileage_val.replace(\"km/kg\", \"\").replace(\"kmpl\", \"\"))\n",
    "    else:\n",
    "        return np.nan\n",
    "\n",
    "\n",
    "for colname in mileage_cols:\n",
    "    df[colname] = df[colname].apply(mileage_to_num)\n",
    "# Quick Sanity Check\n",
    "df[mileage_cols].head()"
   ]
  },
  {
   "cell_type": "markdown",
   "id": "7ba353e2",
   "metadata": {},
   "source": [
    "**Converting `Engine` column to numeric**"
   ]
  },
  {
   "cell_type": "code",
   "execution_count": 9,
   "id": "113126de",
   "metadata": {},
   "outputs": [
    {
     "name": "stdout",
     "output_type": "stream",
     "text": [
      "['Engine']\n"
     ]
    },
    {
     "data": {
      "application/javascript": [
       "\n",
       "            setTimeout(function() {\n",
       "                var nbb_cell_id = 9;\n",
       "                var nbb_unformatted_code = \"# Looping through to see how many columns have \\\"bhp\\\" endings\\nengine_endings = \\\"CC\\\"\\nengine_cols = []\\nfor colname in df.columns[\\n    df.dtypes == \\\"object\\\"\\n]:  # only need to consider string columns\\n    if (\\n        df[colname].str.endswith(engine_endings).any()\\n    ):  # using `.str` so I can use an element-wise string method\\n        engine_cols.append(colname)\\nprint(engine_cols)\";\n",
       "                var nbb_formatted_code = \"# Looping through to see how many columns have \\\"bhp\\\" endings\\nengine_endings = \\\"CC\\\"\\nengine_cols = []\\nfor colname in df.columns[\\n    df.dtypes == \\\"object\\\"\\n]:  # only need to consider string columns\\n    if (\\n        df[colname].str.endswith(engine_endings).any()\\n    ):  # using `.str` so I can use an element-wise string method\\n        engine_cols.append(colname)\\nprint(engine_cols)\";\n",
       "                var nbb_cells = Jupyter.notebook.get_cells();\n",
       "                for (var i = 0; i < nbb_cells.length; ++i) {\n",
       "                    if (nbb_cells[i].input_prompt_number == nbb_cell_id) {\n",
       "                        if (nbb_cells[i].get_text() == nbb_unformatted_code) {\n",
       "                             nbb_cells[i].set_text(nbb_formatted_code);\n",
       "                        }\n",
       "                        break;\n",
       "                    }\n",
       "                }\n",
       "            }, 500);\n",
       "            "
      ],
      "text/plain": [
       "<IPython.core.display.Javascript object>"
      ]
     },
     "metadata": {},
     "output_type": "display_data"
    }
   ],
   "source": [
    "# Looping through to see how many columns have \"bhp\" endings\n",
    "engine_endings = \"CC\"\n",
    "engine_cols = []\n",
    "for colname in df.columns[\n",
    "    df.dtypes == \"object\"\n",
    "]:  # only need to consider string columns\n",
    "    if (\n",
    "        df[colname].str.endswith(engine_endings).any()\n",
    "    ):  # using `.str` so I can use an element-wise string method\n",
    "        engine_cols.append(colname)\n",
    "print(engine_cols)"
   ]
  },
  {
   "cell_type": "code",
   "execution_count": 10,
   "id": "d48a05d5",
   "metadata": {},
   "outputs": [
    {
     "data": {
      "text/html": [
       "<div>\n",
       "<style scoped>\n",
       "    .dataframe tbody tr th:only-of-type {\n",
       "        vertical-align: middle;\n",
       "    }\n",
       "\n",
       "    .dataframe tbody tr th {\n",
       "        vertical-align: top;\n",
       "    }\n",
       "\n",
       "    .dataframe thead th {\n",
       "        text-align: right;\n",
       "    }\n",
       "</style>\n",
       "<table border=\"1\" class=\"dataframe\">\n",
       "  <thead>\n",
       "    <tr style=\"text-align: right;\">\n",
       "      <th></th>\n",
       "      <th>Engine</th>\n",
       "    </tr>\n",
       "  </thead>\n",
       "  <tbody>\n",
       "    <tr>\n",
       "      <th>0</th>\n",
       "      <td>998.0</td>\n",
       "    </tr>\n",
       "    <tr>\n",
       "      <th>1</th>\n",
       "      <td>1582.0</td>\n",
       "    </tr>\n",
       "    <tr>\n",
       "      <th>2</th>\n",
       "      <td>1199.0</td>\n",
       "    </tr>\n",
       "    <tr>\n",
       "      <th>3</th>\n",
       "      <td>1248.0</td>\n",
       "    </tr>\n",
       "    <tr>\n",
       "      <th>4</th>\n",
       "      <td>1968.0</td>\n",
       "    </tr>\n",
       "  </tbody>\n",
       "</table>\n",
       "</div>"
      ],
      "text/plain": [
       "   Engine\n",
       "0   998.0\n",
       "1  1582.0\n",
       "2  1199.0\n",
       "3  1248.0\n",
       "4  1968.0"
      ]
     },
     "execution_count": 10,
     "metadata": {},
     "output_type": "execute_result"
    },
    {
     "data": {
      "application/javascript": [
       "\n",
       "            setTimeout(function() {\n",
       "                var nbb_cell_id = 10;\n",
       "                var nbb_unformatted_code = \"def engine_to_num(engine_val):\\n    \\\"\\\"\\\"\\n    This function takes in a string representing in Mileage in CC\\n    and converts it to a number.\\n    \\\"\\\"\\\"\\n    if isinstance(engine_val, str):  # checks if `mileage_val` is a string\\n        return float(engine_val.replace(\\\"CC\\\", \\\"\\\"))\\n    else:\\n        return np.nan\\n\\n\\nfor colname in engine_cols:\\n    df[colname] = df[colname].apply(engine_to_num)\\n# Quick Sanity Check\\ndf[engine_cols].head()\";\n",
       "                var nbb_formatted_code = \"def engine_to_num(engine_val):\\n    \\\"\\\"\\\"\\n    This function takes in a string representing in Mileage in CC\\n    and converts it to a number.\\n    \\\"\\\"\\\"\\n    if isinstance(engine_val, str):  # checks if `mileage_val` is a string\\n        return float(engine_val.replace(\\\"CC\\\", \\\"\\\"))\\n    else:\\n        return np.nan\\n\\n\\nfor colname in engine_cols:\\n    df[colname] = df[colname].apply(engine_to_num)\\n# Quick Sanity Check\\ndf[engine_cols].head()\";\n",
       "                var nbb_cells = Jupyter.notebook.get_cells();\n",
       "                for (var i = 0; i < nbb_cells.length; ++i) {\n",
       "                    if (nbb_cells[i].input_prompt_number == nbb_cell_id) {\n",
       "                        if (nbb_cells[i].get_text() == nbb_unformatted_code) {\n",
       "                             nbb_cells[i].set_text(nbb_formatted_code);\n",
       "                        }\n",
       "                        break;\n",
       "                    }\n",
       "                }\n",
       "            }, 500);\n",
       "            "
      ],
      "text/plain": [
       "<IPython.core.display.Javascript object>"
      ]
     },
     "metadata": {},
     "output_type": "display_data"
    }
   ],
   "source": [
    "def engine_to_num(engine_val):\n",
    "    \"\"\"\n",
    "    This function takes in a string representing in Mileage in CC\n",
    "    and converts it to a number.\n",
    "    \"\"\"\n",
    "    if isinstance(engine_val, str):  # checks if `mileage_val` is a string\n",
    "        return float(engine_val.replace(\"CC\", \"\"))\n",
    "    else:\n",
    "        return np.nan\n",
    "\n",
    "\n",
    "for colname in engine_cols:\n",
    "    df[colname] = df[colname].apply(engine_to_num)\n",
    "# Quick Sanity Check\n",
    "df[engine_cols].head()"
   ]
  },
  {
   "cell_type": "markdown",
   "id": "f7a3b8d1",
   "metadata": {},
   "source": [
    "**Converting `Power` column to numeric**"
   ]
  },
  {
   "cell_type": "code",
   "execution_count": 11,
   "id": "ff01ec7e",
   "metadata": {},
   "outputs": [
    {
     "name": "stdout",
     "output_type": "stream",
     "text": [
      "['Power']\n"
     ]
    },
    {
     "data": {
      "application/javascript": [
       "\n",
       "            setTimeout(function() {\n",
       "                var nbb_cell_id = 11;\n",
       "                var nbb_unformatted_code = \"# Looping through to see how many columns have \\\"CC\\\" endings\\npower_endings = \\\"bhp\\\"\\npower_cols = []\\nfor colname in df.columns[\\n    df.dtypes == \\\"object\\\"\\n]:  # only need to consider string columns\\n    if (\\n        df[colname].str.endswith(power_endings).any()\\n    ):  # using `.str` so I can use an element-wise string method\\n        power_cols.append(colname)\\nprint(power_cols)\";\n",
       "                var nbb_formatted_code = \"# Looping through to see how many columns have \\\"CC\\\" endings\\npower_endings = \\\"bhp\\\"\\npower_cols = []\\nfor colname in df.columns[\\n    df.dtypes == \\\"object\\\"\\n]:  # only need to consider string columns\\n    if (\\n        df[colname].str.endswith(power_endings).any()\\n    ):  # using `.str` so I can use an element-wise string method\\n        power_cols.append(colname)\\nprint(power_cols)\";\n",
       "                var nbb_cells = Jupyter.notebook.get_cells();\n",
       "                for (var i = 0; i < nbb_cells.length; ++i) {\n",
       "                    if (nbb_cells[i].input_prompt_number == nbb_cell_id) {\n",
       "                        if (nbb_cells[i].get_text() == nbb_unformatted_code) {\n",
       "                             nbb_cells[i].set_text(nbb_formatted_code);\n",
       "                        }\n",
       "                        break;\n",
       "                    }\n",
       "                }\n",
       "            }, 500);\n",
       "            "
      ],
      "text/plain": [
       "<IPython.core.display.Javascript object>"
      ]
     },
     "metadata": {},
     "output_type": "display_data"
    }
   ],
   "source": [
    "# Looping through to see how many columns have \"CC\" endings\n",
    "power_endings = \"bhp\"\n",
    "power_cols = []\n",
    "for colname in df.columns[\n",
    "    df.dtypes == \"object\"\n",
    "]:  # only need to consider string columns\n",
    "    if (\n",
    "        df[colname].str.endswith(power_endings).any()\n",
    "    ):  # using `.str` so I can use an element-wise string method\n",
    "        power_cols.append(colname)\n",
    "print(power_cols)"
   ]
  },
  {
   "cell_type": "code",
   "execution_count": 12,
   "id": "a19ab010",
   "metadata": {},
   "outputs": [
    {
     "data": {
      "text/html": [
       "<div>\n",
       "<style scoped>\n",
       "    .dataframe tbody tr th:only-of-type {\n",
       "        vertical-align: middle;\n",
       "    }\n",
       "\n",
       "    .dataframe tbody tr th {\n",
       "        vertical-align: top;\n",
       "    }\n",
       "\n",
       "    .dataframe thead th {\n",
       "        text-align: right;\n",
       "    }\n",
       "</style>\n",
       "<table border=\"1\" class=\"dataframe\">\n",
       "  <thead>\n",
       "    <tr style=\"text-align: right;\">\n",
       "      <th></th>\n",
       "      <th>Power</th>\n",
       "    </tr>\n",
       "  </thead>\n",
       "  <tbody>\n",
       "    <tr>\n",
       "      <th>0</th>\n",
       "      <td>58.16</td>\n",
       "    </tr>\n",
       "    <tr>\n",
       "      <th>1</th>\n",
       "      <td>126.20</td>\n",
       "    </tr>\n",
       "    <tr>\n",
       "      <th>2</th>\n",
       "      <td>88.70</td>\n",
       "    </tr>\n",
       "    <tr>\n",
       "      <th>3</th>\n",
       "      <td>88.76</td>\n",
       "    </tr>\n",
       "    <tr>\n",
       "      <th>4</th>\n",
       "      <td>140.80</td>\n",
       "    </tr>\n",
       "  </tbody>\n",
       "</table>\n",
       "</div>"
      ],
      "text/plain": [
       "    Power\n",
       "0   58.16\n",
       "1  126.20\n",
       "2   88.70\n",
       "3   88.76\n",
       "4  140.80"
      ]
     },
     "execution_count": 12,
     "metadata": {},
     "output_type": "execute_result"
    },
    {
     "data": {
      "application/javascript": [
       "\n",
       "            setTimeout(function() {\n",
       "                var nbb_cell_id = 12;\n",
       "                var nbb_unformatted_code = \"def power_to_num(power_val):\\n    \\\"\\\"\\\"\\n    This function takes in a string representing in Mileage in bhp\\n    and converts it to a number.\\n    \\\"\\\"\\\"\\n    if isinstance(power_val, str):  # checks if `mileage_val` is a string\\n        return float(power_val.replace(\\\"bhp\\\", \\\"\\\"))\\n    else:\\n        return np.nan\\n\\n\\nfor colname in power_cols:\\n    df[colname] = df[colname].apply(power_to_num)\\n# Quick Sanity Check\\ndf[power_cols].head()\";\n",
       "                var nbb_formatted_code = \"def power_to_num(power_val):\\n    \\\"\\\"\\\"\\n    This function takes in a string representing in Mileage in bhp\\n    and converts it to a number.\\n    \\\"\\\"\\\"\\n    if isinstance(power_val, str):  # checks if `mileage_val` is a string\\n        return float(power_val.replace(\\\"bhp\\\", \\\"\\\"))\\n    else:\\n        return np.nan\\n\\n\\nfor colname in power_cols:\\n    df[colname] = df[colname].apply(power_to_num)\\n# Quick Sanity Check\\ndf[power_cols].head()\";\n",
       "                var nbb_cells = Jupyter.notebook.get_cells();\n",
       "                for (var i = 0; i < nbb_cells.length; ++i) {\n",
       "                    if (nbb_cells[i].input_prompt_number == nbb_cell_id) {\n",
       "                        if (nbb_cells[i].get_text() == nbb_unformatted_code) {\n",
       "                             nbb_cells[i].set_text(nbb_formatted_code);\n",
       "                        }\n",
       "                        break;\n",
       "                    }\n",
       "                }\n",
       "            }, 500);\n",
       "            "
      ],
      "text/plain": [
       "<IPython.core.display.Javascript object>"
      ]
     },
     "metadata": {},
     "output_type": "display_data"
    }
   ],
   "source": [
    "def power_to_num(power_val):\n",
    "    \"\"\"\n",
    "    This function takes in a string representing in Mileage in bhp\n",
    "    and converts it to a number.\n",
    "    \"\"\"\n",
    "    if isinstance(power_val, str):  # checks if `mileage_val` is a string\n",
    "        return float(power_val.replace(\"bhp\", \"\"))\n",
    "    else:\n",
    "        return np.nan\n",
    "\n",
    "\n",
    "for colname in power_cols:\n",
    "    df[colname] = df[colname].apply(power_to_num)\n",
    "# Quick Sanity Check\n",
    "df[power_cols].head()"
   ]
  },
  {
   "cell_type": "code",
   "execution_count": 13,
   "id": "c87d532f",
   "metadata": {},
   "outputs": [
    {
     "name": "stdout",
     "output_type": "stream",
     "text": [
      "There are 7253 rows and 13 columns.\n"
     ]
    },
    {
     "data": {
      "text/html": [
       "<div>\n",
       "<style scoped>\n",
       "    .dataframe tbody tr th:only-of-type {\n",
       "        vertical-align: middle;\n",
       "    }\n",
       "\n",
       "    .dataframe tbody tr th {\n",
       "        vertical-align: top;\n",
       "    }\n",
       "\n",
       "    .dataframe thead th {\n",
       "        text-align: right;\n",
       "    }\n",
       "</style>\n",
       "<table border=\"1\" class=\"dataframe\">\n",
       "  <thead>\n",
       "    <tr style=\"text-align: right;\">\n",
       "      <th></th>\n",
       "      <th>Name</th>\n",
       "      <th>Location</th>\n",
       "      <th>Year</th>\n",
       "      <th>Kilometers_Driven</th>\n",
       "      <th>Fuel_Type</th>\n",
       "      <th>Transmission</th>\n",
       "      <th>Owner_Type</th>\n",
       "      <th>Mileage</th>\n",
       "      <th>Engine</th>\n",
       "      <th>Power</th>\n",
       "      <th>Seats</th>\n",
       "      <th>New_Price</th>\n",
       "      <th>Price</th>\n",
       "    </tr>\n",
       "  </thead>\n",
       "  <tbody>\n",
       "    <tr>\n",
       "      <th>2397</th>\n",
       "      <td>Ford EcoSport 1.5 Petrol Trend</td>\n",
       "      <td>Kolkata</td>\n",
       "      <td>2016</td>\n",
       "      <td>21460</td>\n",
       "      <td>Petrol</td>\n",
       "      <td>Manual</td>\n",
       "      <td>First</td>\n",
       "      <td>17.00</td>\n",
       "      <td>1497.0</td>\n",
       "      <td>121.36</td>\n",
       "      <td>5.0</td>\n",
       "      <td>9.47</td>\n",
       "      <td>6.00</td>\n",
       "    </tr>\n",
       "    <tr>\n",
       "      <th>3777</th>\n",
       "      <td>Maruti Wagon R VXI 1.2</td>\n",
       "      <td>Kochi</td>\n",
       "      <td>2015</td>\n",
       "      <td>49818</td>\n",
       "      <td>Petrol</td>\n",
       "      <td>Manual</td>\n",
       "      <td>First</td>\n",
       "      <td>21.50</td>\n",
       "      <td>1197.0</td>\n",
       "      <td>81.80</td>\n",
       "      <td>5.0</td>\n",
       "      <td>5.44</td>\n",
       "      <td>4.11</td>\n",
       "    </tr>\n",
       "    <tr>\n",
       "      <th>4425</th>\n",
       "      <td>Ford Endeavour 4x2 XLT</td>\n",
       "      <td>Hyderabad</td>\n",
       "      <td>2007</td>\n",
       "      <td>130000</td>\n",
       "      <td>Diesel</td>\n",
       "      <td>Manual</td>\n",
       "      <td>First</td>\n",
       "      <td>13.10</td>\n",
       "      <td>2499.0</td>\n",
       "      <td>141.00</td>\n",
       "      <td>7.0</td>\n",
       "      <td>35.29</td>\n",
       "      <td>6.00</td>\n",
       "    </tr>\n",
       "    <tr>\n",
       "      <th>3661</th>\n",
       "      <td>Mercedes-Benz E-Class E250 CDI Avantgrade</td>\n",
       "      <td>Coimbatore</td>\n",
       "      <td>2016</td>\n",
       "      <td>39753</td>\n",
       "      <td>Diesel</td>\n",
       "      <td>Automatic</td>\n",
       "      <td>First</td>\n",
       "      <td>13.00</td>\n",
       "      <td>2143.0</td>\n",
       "      <td>201.10</td>\n",
       "      <td>5.0</td>\n",
       "      <td>86.97</td>\n",
       "      <td>35.28</td>\n",
       "    </tr>\n",
       "    <tr>\n",
       "      <th>4514</th>\n",
       "      <td>Hyundai Xcent 1.2 Kappa AT SX Option</td>\n",
       "      <td>Kochi</td>\n",
       "      <td>2016</td>\n",
       "      <td>45560</td>\n",
       "      <td>Petrol</td>\n",
       "      <td>Automatic</td>\n",
       "      <td>First</td>\n",
       "      <td>16.90</td>\n",
       "      <td>1197.0</td>\n",
       "      <td>82.00</td>\n",
       "      <td>5.0</td>\n",
       "      <td>8.23</td>\n",
       "      <td>6.34</td>\n",
       "    </tr>\n",
       "    <tr>\n",
       "      <th>599</th>\n",
       "      <td>Toyota Innova Crysta 2.8 ZX AT</td>\n",
       "      <td>Coimbatore</td>\n",
       "      <td>2019</td>\n",
       "      <td>40674</td>\n",
       "      <td>Diesel</td>\n",
       "      <td>Automatic</td>\n",
       "      <td>First</td>\n",
       "      <td>11.36</td>\n",
       "      <td>2755.0</td>\n",
       "      <td>171.50</td>\n",
       "      <td>7.0</td>\n",
       "      <td>28.05</td>\n",
       "      <td>24.82</td>\n",
       "    </tr>\n",
       "    <tr>\n",
       "      <th>186</th>\n",
       "      <td>Mercedes-Benz E-Class E250 CDI Avantgrade</td>\n",
       "      <td>Bangalore</td>\n",
       "      <td>2014</td>\n",
       "      <td>37382</td>\n",
       "      <td>Diesel</td>\n",
       "      <td>Automatic</td>\n",
       "      <td>First</td>\n",
       "      <td>13.00</td>\n",
       "      <td>2143.0</td>\n",
       "      <td>201.10</td>\n",
       "      <td>5.0</td>\n",
       "      <td>86.97</td>\n",
       "      <td>32.00</td>\n",
       "    </tr>\n",
       "    <tr>\n",
       "      <th>305</th>\n",
       "      <td>Audi A6 2011-2015 2.0 TDI Premium Plus</td>\n",
       "      <td>Kochi</td>\n",
       "      <td>2014</td>\n",
       "      <td>61726</td>\n",
       "      <td>Diesel</td>\n",
       "      <td>Automatic</td>\n",
       "      <td>First</td>\n",
       "      <td>17.68</td>\n",
       "      <td>1968.0</td>\n",
       "      <td>174.33</td>\n",
       "      <td>5.0</td>\n",
       "      <td>67.10</td>\n",
       "      <td>20.77</td>\n",
       "    </tr>\n",
       "    <tr>\n",
       "      <th>4582</th>\n",
       "      <td>Hyundai i20 1.2 Magna</td>\n",
       "      <td>Kolkata</td>\n",
       "      <td>2011</td>\n",
       "      <td>36000</td>\n",
       "      <td>Petrol</td>\n",
       "      <td>Manual</td>\n",
       "      <td>First</td>\n",
       "      <td>18.50</td>\n",
       "      <td>1197.0</td>\n",
       "      <td>80.00</td>\n",
       "      <td>5.0</td>\n",
       "      <td>10.25</td>\n",
       "      <td>2.50</td>\n",
       "    </tr>\n",
       "    <tr>\n",
       "      <th>5434</th>\n",
       "      <td>Honda WR-V Edge Edition i-VTEC S</td>\n",
       "      <td>Kochi</td>\n",
       "      <td>2019</td>\n",
       "      <td>13913</td>\n",
       "      <td>Petrol</td>\n",
       "      <td>Manual</td>\n",
       "      <td>First</td>\n",
       "      <td>17.50</td>\n",
       "      <td>1199.0</td>\n",
       "      <td>88.70</td>\n",
       "      <td>5.0</td>\n",
       "      <td>9.36</td>\n",
       "      <td>8.20</td>\n",
       "    </tr>\n",
       "  </tbody>\n",
       "</table>\n",
       "</div>"
      ],
      "text/plain": [
       "                                           Name    Location  Year  \\\n",
       "2397             Ford EcoSport 1.5 Petrol Trend     Kolkata  2016   \n",
       "3777                     Maruti Wagon R VXI 1.2       Kochi  2015   \n",
       "4425                     Ford Endeavour 4x2 XLT   Hyderabad  2007   \n",
       "3661  Mercedes-Benz E-Class E250 CDI Avantgrade  Coimbatore  2016   \n",
       "4514       Hyundai Xcent 1.2 Kappa AT SX Option       Kochi  2016   \n",
       "599              Toyota Innova Crysta 2.8 ZX AT  Coimbatore  2019   \n",
       "186   Mercedes-Benz E-Class E250 CDI Avantgrade   Bangalore  2014   \n",
       "305      Audi A6 2011-2015 2.0 TDI Premium Plus       Kochi  2014   \n",
       "4582                      Hyundai i20 1.2 Magna     Kolkata  2011   \n",
       "5434           Honda WR-V Edge Edition i-VTEC S       Kochi  2019   \n",
       "\n",
       "      Kilometers_Driven Fuel_Type Transmission Owner_Type  Mileage  Engine  \\\n",
       "2397              21460    Petrol       Manual      First    17.00  1497.0   \n",
       "3777              49818    Petrol       Manual      First    21.50  1197.0   \n",
       "4425             130000    Diesel       Manual      First    13.10  2499.0   \n",
       "3661              39753    Diesel    Automatic      First    13.00  2143.0   \n",
       "4514              45560    Petrol    Automatic      First    16.90  1197.0   \n",
       "599               40674    Diesel    Automatic      First    11.36  2755.0   \n",
       "186               37382    Diesel    Automatic      First    13.00  2143.0   \n",
       "305               61726    Diesel    Automatic      First    17.68  1968.0   \n",
       "4582              36000    Petrol       Manual      First    18.50  1197.0   \n",
       "5434              13913    Petrol       Manual      First    17.50  1199.0   \n",
       "\n",
       "       Power  Seats  New_Price  Price  \n",
       "2397  121.36    5.0       9.47   6.00  \n",
       "3777   81.80    5.0       5.44   4.11  \n",
       "4425  141.00    7.0      35.29   6.00  \n",
       "3661  201.10    5.0      86.97  35.28  \n",
       "4514   82.00    5.0       8.23   6.34  \n",
       "599   171.50    7.0      28.05  24.82  \n",
       "186   201.10    5.0      86.97  32.00  \n",
       "305   174.33    5.0      67.10  20.77  \n",
       "4582   80.00    5.0      10.25   2.50  \n",
       "5434   88.70    5.0       9.36   8.20  "
      ]
     },
     "execution_count": 13,
     "metadata": {},
     "output_type": "execute_result"
    },
    {
     "data": {
      "application/javascript": [
       "\n",
       "            setTimeout(function() {\n",
       "                var nbb_cell_id = 13;\n",
       "                var nbb_unformatted_code = \"# Printing the random sample from dataset to make sure above numeric conversions has taken affect\\nprint(\\n    f\\\"There are {df.shape[0]} rows and {df.shape[1]} columns.\\\"\\n)  # Additionally printing the shape of data\\n# Looking at the 10 random sample rows done using np.random\\n# Because looking at random values will give you better understaning than head or tail values\\nnp.random.seed(1)\\ndf.sample(10)\";\n",
       "                var nbb_formatted_code = \"# Printing the random sample from dataset to make sure above numeric conversions has taken affect\\nprint(\\n    f\\\"There are {df.shape[0]} rows and {df.shape[1]} columns.\\\"\\n)  # Additionally printing the shape of data\\n# Looking at the 10 random sample rows done using np.random\\n# Because looking at random values will give you better understaning than head or tail values\\nnp.random.seed(1)\\ndf.sample(10)\";\n",
       "                var nbb_cells = Jupyter.notebook.get_cells();\n",
       "                for (var i = 0; i < nbb_cells.length; ++i) {\n",
       "                    if (nbb_cells[i].input_prompt_number == nbb_cell_id) {\n",
       "                        if (nbb_cells[i].get_text() == nbb_unformatted_code) {\n",
       "                             nbb_cells[i].set_text(nbb_formatted_code);\n",
       "                        }\n",
       "                        break;\n",
       "                    }\n",
       "                }\n",
       "            }, 500);\n",
       "            "
      ],
      "text/plain": [
       "<IPython.core.display.Javascript object>"
      ]
     },
     "metadata": {},
     "output_type": "display_data"
    }
   ],
   "source": [
    "# Printing the random sample from dataset to make sure above numeric conversions has taken affect\n",
    "print(\n",
    "    f\"There are {df.shape[0]} rows and {df.shape[1]} columns.\"\n",
    ")  # Additionally printing the shape of data\n",
    "# Looking at the 10 random sample rows done using np.random\n",
    "# Because looking at random values will give you better understaning than head or tail values\n",
    "np.random.seed(1)\n",
    "df.sample(10)"
   ]
  },
  {
   "cell_type": "markdown",
   "id": "0006d9d8",
   "metadata": {},
   "source": [
    "- Data set is down to 13 columns from 14 and Mileage, Power, Enginer columns are now numeric"
   ]
  },
  {
   "cell_type": "markdown",
   "id": "d5cc8bab",
   "metadata": {},
   "source": [
    "**Missing Value Treatment**"
   ]
  },
  {
   "cell_type": "markdown",
   "id": "9c2cb9eb",
   "metadata": {},
   "source": [
    "<h5 style=\"color:Brown\">Quick Sanity Check</h5>"
   ]
  },
  {
   "cell_type": "code",
   "execution_count": 14,
   "id": "74eae2b4",
   "metadata": {},
   "outputs": [
    {
     "data": {
      "text/plain": [
       "Price                1234\n",
       "Power                 175\n",
       "Seats                  53\n",
       "Engine                 46\n",
       "Mileage                 2\n",
       "Name                    0\n",
       "Location                0\n",
       "Year                    0\n",
       "Kilometers_Driven       0\n",
       "Fuel_Type               0\n",
       "Transmission            0\n",
       "Owner_Type              0\n",
       "New_Price               0\n",
       "dtype: int64"
      ]
     },
     "execution_count": 14,
     "metadata": {},
     "output_type": "execute_result"
    },
    {
     "data": {
      "application/javascript": [
       "\n",
       "            setTimeout(function() {\n",
       "                var nbb_cell_id = 14;\n",
       "                var nbb_unformatted_code = \"# Which columns has the most missing values**\\ndf.isnull().sum().sort_values(ascending=False)\";\n",
       "                var nbb_formatted_code = \"# Which columns has the most missing values**\\ndf.isnull().sum().sort_values(ascending=False)\";\n",
       "                var nbb_cells = Jupyter.notebook.get_cells();\n",
       "                for (var i = 0; i < nbb_cells.length; ++i) {\n",
       "                    if (nbb_cells[i].input_prompt_number == nbb_cell_id) {\n",
       "                        if (nbb_cells[i].get_text() == nbb_unformatted_code) {\n",
       "                             nbb_cells[i].set_text(nbb_formatted_code);\n",
       "                        }\n",
       "                        break;\n",
       "                    }\n",
       "                }\n",
       "            }, 500);\n",
       "            "
      ],
      "text/plain": [
       "<IPython.core.display.Javascript object>"
      ]
     },
     "metadata": {},
     "output_type": "display_data"
    }
   ],
   "source": [
    "# Which columns has the most missing values**\n",
    "df.isnull().sum().sort_values(ascending=False)"
   ]
  },
  {
   "cell_type": "markdown",
   "id": "da29eae6",
   "metadata": {},
   "source": [
    "- `Price` column has the most values in it and since Price and its a problem since this is the column we are trying to predict\n",
    "- `Power, Seats, Engine` also has missing values needs to be looked at\n",
    "- `Mileage` has the least missing values, still needs to be looked at and treated "
   ]
  },
  {
   "cell_type": "markdown",
   "id": "63bc3cfd",
   "metadata": {},
   "source": [
    "*Understading the pattern before imputing the values*"
   ]
  },
  {
   "cell_type": "code",
   "execution_count": 15,
   "id": "400212ed",
   "metadata": {},
   "outputs": [
    {
     "data": {
      "text/plain": [
       "0    5872\n",
       "1    1308\n",
       "3      36\n",
       "2      27\n",
       "4      10\n",
       "dtype: int64"
      ]
     },
     "execution_count": 15,
     "metadata": {},
     "output_type": "execute_result"
    },
    {
     "data": {
      "application/javascript": [
       "\n",
       "            setTimeout(function() {\n",
       "                var nbb_cell_id = 15;\n",
       "                var nbb_unformatted_code = \"# counting the number of missing values per row\\ndf.isnull().sum(axis=1).value_counts()\";\n",
       "                var nbb_formatted_code = \"# counting the number of missing values per row\\ndf.isnull().sum(axis=1).value_counts()\";\n",
       "                var nbb_cells = Jupyter.notebook.get_cells();\n",
       "                for (var i = 0; i < nbb_cells.length; ++i) {\n",
       "                    if (nbb_cells[i].input_prompt_number == nbb_cell_id) {\n",
       "                        if (nbb_cells[i].get_text() == nbb_unformatted_code) {\n",
       "                             nbb_cells[i].set_text(nbb_formatted_code);\n",
       "                        }\n",
       "                        break;\n",
       "                    }\n",
       "                }\n",
       "            }, 500);\n",
       "            "
      ],
      "text/plain": [
       "<IPython.core.display.Javascript object>"
      ]
     },
     "metadata": {},
     "output_type": "display_data"
    }
   ],
   "source": [
    "# counting the number of missing values per row\n",
    "df.isnull().sum(axis=1).value_counts()"
   ]
  },
  {
   "cell_type": "markdown",
   "id": "9c81a50d",
   "metadata": {},
   "source": [
    "- 5872 have `0` missing values, 1308 has `1` missing values, 34 has `3` missing values, 27 has `2` missing values & 10 has `4` missing values in them"
   ]
  },
  {
   "cell_type": "code",
   "execution_count": 16,
   "id": "fe51d869",
   "metadata": {},
   "outputs": [
    {
     "data": {
      "text/html": [
       "<div>\n",
       "<style scoped>\n",
       "    .dataframe tbody tr th:only-of-type {\n",
       "        vertical-align: middle;\n",
       "    }\n",
       "\n",
       "    .dataframe tbody tr th {\n",
       "        vertical-align: top;\n",
       "    }\n",
       "\n",
       "    .dataframe thead th {\n",
       "        text-align: right;\n",
       "    }\n",
       "</style>\n",
       "<table border=\"1\" class=\"dataframe\">\n",
       "  <thead>\n",
       "    <tr style=\"text-align: right;\">\n",
       "      <th></th>\n",
       "      <th>Name</th>\n",
       "      <th>Location</th>\n",
       "      <th>Year</th>\n",
       "      <th>Kilometers_Driven</th>\n",
       "      <th>Fuel_Type</th>\n",
       "      <th>Transmission</th>\n",
       "      <th>Owner_Type</th>\n",
       "      <th>Mileage</th>\n",
       "      <th>Engine</th>\n",
       "      <th>Power</th>\n",
       "      <th>Seats</th>\n",
       "      <th>New_Price</th>\n",
       "      <th>Price</th>\n",
       "    </tr>\n",
       "  </thead>\n",
       "  <tbody>\n",
       "    <tr>\n",
       "      <th>7064</th>\n",
       "      <td>Honda Civic 2006-2010 1.8 (E) MT</td>\n",
       "      <td>Hyderabad</td>\n",
       "      <td>2007</td>\n",
       "      <td>109000</td>\n",
       "      <td>Petrol</td>\n",
       "      <td>Manual</td>\n",
       "      <td>Second</td>\n",
       "      <td>13.50</td>\n",
       "      <td>1799.0</td>\n",
       "      <td>130.00</td>\n",
       "      <td>5.0</td>\n",
       "      <td>13.580</td>\n",
       "      <td>NaN</td>\n",
       "    </tr>\n",
       "    <tr>\n",
       "      <th>6186</th>\n",
       "      <td>Mercedes-Benz S Class 2005 2013 S 350 L</td>\n",
       "      <td>Mumbai</td>\n",
       "      <td>2008</td>\n",
       "      <td>65000</td>\n",
       "      <td>Petrol</td>\n",
       "      <td>Automatic</td>\n",
       "      <td>Third</td>\n",
       "      <td>10.13</td>\n",
       "      <td>3498.0</td>\n",
       "      <td>364.90</td>\n",
       "      <td>5.0</td>\n",
       "      <td>49.490</td>\n",
       "      <td>NaN</td>\n",
       "    </tr>\n",
       "    <tr>\n",
       "      <th>6391</th>\n",
       "      <td>Hyundai i10 Sportz 1.2</td>\n",
       "      <td>Pune</td>\n",
       "      <td>2008</td>\n",
       "      <td>84500</td>\n",
       "      <td>Petrol</td>\n",
       "      <td>Manual</td>\n",
       "      <td>First</td>\n",
       "      <td>20.36</td>\n",
       "      <td>1197.0</td>\n",
       "      <td>78.90</td>\n",
       "      <td>5.0</td>\n",
       "      <td>10.250</td>\n",
       "      <td>NaN</td>\n",
       "    </tr>\n",
       "    <tr>\n",
       "      <th>6940</th>\n",
       "      <td>Ford Ecosport 1.5 DV5 MT Titanium Optional</td>\n",
       "      <td>Kochi</td>\n",
       "      <td>2015</td>\n",
       "      <td>63402</td>\n",
       "      <td>Diesel</td>\n",
       "      <td>Manual</td>\n",
       "      <td>First</td>\n",
       "      <td>22.70</td>\n",
       "      <td>1498.0</td>\n",
       "      <td>89.84</td>\n",
       "      <td>5.0</td>\n",
       "      <td>11.685</td>\n",
       "      <td>NaN</td>\n",
       "    </tr>\n",
       "    <tr>\n",
       "      <th>7103</th>\n",
       "      <td>Honda Civic 2006-2010 1.8 MT Sport</td>\n",
       "      <td>Pune</td>\n",
       "      <td>2008</td>\n",
       "      <td>110000</td>\n",
       "      <td>Petrol</td>\n",
       "      <td>Manual</td>\n",
       "      <td>Second</td>\n",
       "      <td>13.50</td>\n",
       "      <td>1799.0</td>\n",
       "      <td>130.00</td>\n",
       "      <td>5.0</td>\n",
       "      <td>13.580</td>\n",
       "      <td>NaN</td>\n",
       "    </tr>\n",
       "  </tbody>\n",
       "</table>\n",
       "</div>"
      ],
      "text/plain": [
       "                                            Name   Location  Year  \\\n",
       "7064            Honda Civic 2006-2010 1.8 (E) MT  Hyderabad  2007   \n",
       "6186     Mercedes-Benz S Class 2005 2013 S 350 L     Mumbai  2008   \n",
       "6391                      Hyundai i10 Sportz 1.2       Pune  2008   \n",
       "6940  Ford Ecosport 1.5 DV5 MT Titanium Optional      Kochi  2015   \n",
       "7103          Honda Civic 2006-2010 1.8 MT Sport       Pune  2008   \n",
       "\n",
       "      Kilometers_Driven Fuel_Type Transmission Owner_Type  Mileage  Engine  \\\n",
       "7064             109000    Petrol       Manual     Second    13.50  1799.0   \n",
       "6186              65000    Petrol    Automatic      Third    10.13  3498.0   \n",
       "6391              84500    Petrol       Manual      First    20.36  1197.0   \n",
       "6940              63402    Diesel       Manual      First    22.70  1498.0   \n",
       "7103             110000    Petrol       Manual     Second    13.50  1799.0   \n",
       "\n",
       "       Power  Seats  New_Price  Price  \n",
       "7064  130.00    5.0     13.580    NaN  \n",
       "6186  364.90    5.0     49.490    NaN  \n",
       "6391   78.90    5.0     10.250    NaN  \n",
       "6940   89.84    5.0     11.685    NaN  \n",
       "7103  130.00    5.0     13.580    NaN  "
      ]
     },
     "execution_count": 16,
     "metadata": {},
     "output_type": "execute_result"
    },
    {
     "data": {
      "application/javascript": [
       "\n",
       "            setTimeout(function() {\n",
       "                var nbb_cell_id = 16;\n",
       "                var nbb_unformatted_code = \"# Checking the rows with 1 missing values\\nnum_missing = df.isnull().sum(axis=1)\\ndf[num_missing == 1].sample(n=5)\";\n",
       "                var nbb_formatted_code = \"# Checking the rows with 1 missing values\\nnum_missing = df.isnull().sum(axis=1)\\ndf[num_missing == 1].sample(n=5)\";\n",
       "                var nbb_cells = Jupyter.notebook.get_cells();\n",
       "                for (var i = 0; i < nbb_cells.length; ++i) {\n",
       "                    if (nbb_cells[i].input_prompt_number == nbb_cell_id) {\n",
       "                        if (nbb_cells[i].get_text() == nbb_unformatted_code) {\n",
       "                             nbb_cells[i].set_text(nbb_formatted_code);\n",
       "                        }\n",
       "                        break;\n",
       "                    }\n",
       "                }\n",
       "            }, 500);\n",
       "            "
      ],
      "text/plain": [
       "<IPython.core.display.Javascript object>"
      ]
     },
     "metadata": {},
     "output_type": "display_data"
    }
   ],
   "source": [
    "# Checking the rows with 1 missing values\n",
    "num_missing = df.isnull().sum(axis=1)\n",
    "df[num_missing == 1].sample(n=5)"
   ]
  },
  {
   "cell_type": "markdown",
   "id": "9127eaa1",
   "metadata": {},
   "source": [
    "- Row 1319 shows that where `Power` is missing `Price` is not, `10` samples also shows the same\n",
    "- Further more we don't see any rows that comes before price causes price to have a missing value"
   ]
  },
  {
   "cell_type": "code",
   "execution_count": 17,
   "id": "36cafad7",
   "metadata": {},
   "outputs": [
    {
     "data": {
      "text/html": [
       "<div>\n",
       "<style scoped>\n",
       "    .dataframe tbody tr th:only-of-type {\n",
       "        vertical-align: middle;\n",
       "    }\n",
       "\n",
       "    .dataframe tbody tr th {\n",
       "        vertical-align: top;\n",
       "    }\n",
       "\n",
       "    .dataframe thead th {\n",
       "        text-align: right;\n",
       "    }\n",
       "</style>\n",
       "<table border=\"1\" class=\"dataframe\">\n",
       "  <thead>\n",
       "    <tr style=\"text-align: right;\">\n",
       "      <th></th>\n",
       "      <th>Name</th>\n",
       "      <th>Location</th>\n",
       "      <th>Year</th>\n",
       "      <th>Kilometers_Driven</th>\n",
       "      <th>Fuel_Type</th>\n",
       "      <th>Transmission</th>\n",
       "      <th>Owner_Type</th>\n",
       "      <th>Mileage</th>\n",
       "      <th>Engine</th>\n",
       "      <th>Power</th>\n",
       "      <th>Seats</th>\n",
       "      <th>New_Price</th>\n",
       "      <th>Price</th>\n",
       "    </tr>\n",
       "  </thead>\n",
       "  <tbody>\n",
       "    <tr>\n",
       "      <th>2325</th>\n",
       "      <td>Maruti Swift 1.3 VXI ABS</td>\n",
       "      <td>Pune</td>\n",
       "      <td>2015</td>\n",
       "      <td>67000</td>\n",
       "      <td>Petrol</td>\n",
       "      <td>Manual</td>\n",
       "      <td>First</td>\n",
       "      <td>16.10</td>\n",
       "      <td>NaN</td>\n",
       "      <td>NaN</td>\n",
       "      <td>NaN</td>\n",
       "      <td>7.88</td>\n",
       "      <td>4.70</td>\n",
       "    </tr>\n",
       "    <tr>\n",
       "      <th>2530</th>\n",
       "      <td>BMW 5 Series 520d Sedan</td>\n",
       "      <td>Kochi</td>\n",
       "      <td>2014</td>\n",
       "      <td>64158</td>\n",
       "      <td>Diesel</td>\n",
       "      <td>Automatic</td>\n",
       "      <td>First</td>\n",
       "      <td>18.48</td>\n",
       "      <td>NaN</td>\n",
       "      <td>NaN</td>\n",
       "      <td>NaN</td>\n",
       "      <td>67.87</td>\n",
       "      <td>17.89</td>\n",
       "    </tr>\n",
       "    <tr>\n",
       "      <th>5185</th>\n",
       "      <td>Maruti Swift 1.3 LXI</td>\n",
       "      <td>Delhi</td>\n",
       "      <td>2012</td>\n",
       "      <td>52000</td>\n",
       "      <td>Petrol</td>\n",
       "      <td>Manual</td>\n",
       "      <td>First</td>\n",
       "      <td>16.10</td>\n",
       "      <td>NaN</td>\n",
       "      <td>NaN</td>\n",
       "      <td>NaN</td>\n",
       "      <td>7.88</td>\n",
       "      <td>3.65</td>\n",
       "    </tr>\n",
       "    <tr>\n",
       "      <th>3810</th>\n",
       "      <td>Honda CR-V AT With Sun Roof</td>\n",
       "      <td>Kolkata</td>\n",
       "      <td>2013</td>\n",
       "      <td>27000</td>\n",
       "      <td>Petrol</td>\n",
       "      <td>Automatic</td>\n",
       "      <td>First</td>\n",
       "      <td>14.00</td>\n",
       "      <td>NaN</td>\n",
       "      <td>NaN</td>\n",
       "      <td>NaN</td>\n",
       "      <td>33.51</td>\n",
       "      <td>11.99</td>\n",
       "    </tr>\n",
       "    <tr>\n",
       "      <th>2780</th>\n",
       "      <td>Hyundai Santro GLS II - Euro II</td>\n",
       "      <td>Pune</td>\n",
       "      <td>2009</td>\n",
       "      <td>100000</td>\n",
       "      <td>Petrol</td>\n",
       "      <td>Manual</td>\n",
       "      <td>First</td>\n",
       "      <td>0.00</td>\n",
       "      <td>NaN</td>\n",
       "      <td>NaN</td>\n",
       "      <td>NaN</td>\n",
       "      <td>4.55</td>\n",
       "      <td>1.60</td>\n",
       "    </tr>\n",
       "  </tbody>\n",
       "</table>\n",
       "</div>"
      ],
      "text/plain": [
       "                                 Name Location  Year  Kilometers_Driven  \\\n",
       "2325         Maruti Swift 1.3 VXI ABS     Pune  2015              67000   \n",
       "2530          BMW 5 Series 520d Sedan    Kochi  2014              64158   \n",
       "5185             Maruti Swift 1.3 LXI    Delhi  2012              52000   \n",
       "3810      Honda CR-V AT With Sun Roof  Kolkata  2013              27000   \n",
       "2780  Hyundai Santro GLS II - Euro II     Pune  2009             100000   \n",
       "\n",
       "     Fuel_Type Transmission Owner_Type  Mileage  Engine  Power  Seats  \\\n",
       "2325    Petrol       Manual      First    16.10     NaN    NaN    NaN   \n",
       "2530    Diesel    Automatic      First    18.48     NaN    NaN    NaN   \n",
       "5185    Petrol       Manual      First    16.10     NaN    NaN    NaN   \n",
       "3810    Petrol    Automatic      First    14.00     NaN    NaN    NaN   \n",
       "2780    Petrol       Manual      First     0.00     NaN    NaN    NaN   \n",
       "\n",
       "      New_Price  Price  \n",
       "2325       7.88   4.70  \n",
       "2530      67.87  17.89  \n",
       "5185       7.88   3.65  \n",
       "3810      33.51  11.99  \n",
       "2780       4.55   1.60  "
      ]
     },
     "execution_count": 17,
     "metadata": {},
     "output_type": "execute_result"
    },
    {
     "data": {
      "application/javascript": [
       "\n",
       "            setTimeout(function() {\n",
       "                var nbb_cell_id = 17;\n",
       "                var nbb_unformatted_code = \"# Checking the rows with 3 missing values\\nnum_missing = df.isnull().sum(axis=1)\\ndf[num_missing == 3].sample(n=5)\";\n",
       "                var nbb_formatted_code = \"# Checking the rows with 3 missing values\\nnum_missing = df.isnull().sum(axis=1)\\ndf[num_missing == 3].sample(n=5)\";\n",
       "                var nbb_cells = Jupyter.notebook.get_cells();\n",
       "                for (var i = 0; i < nbb_cells.length; ++i) {\n",
       "                    if (nbb_cells[i].input_prompt_number == nbb_cell_id) {\n",
       "                        if (nbb_cells[i].get_text() == nbb_unformatted_code) {\n",
       "                             nbb_cells[i].set_text(nbb_formatted_code);\n",
       "                        }\n",
       "                        break;\n",
       "                    }\n",
       "                }\n",
       "            }, 500);\n",
       "            "
      ],
      "text/plain": [
       "<IPython.core.display.Javascript object>"
      ]
     },
     "metadata": {},
     "output_type": "display_data"
    }
   ],
   "source": [
    "# Checking the rows with 3 missing values\n",
    "num_missing = df.isnull().sum(axis=1)\n",
    "df[num_missing == 3].sample(n=5)"
   ]
  },
  {
   "cell_type": "markdown",
   "id": "c99149e2",
   "metadata": {},
   "source": [
    "- Where `Engine` is missing, so does the `Power` & `Seats` rows"
   ]
  },
  {
   "cell_type": "code",
   "execution_count": 18,
   "id": "55f2f121",
   "metadata": {},
   "outputs": [
    {
     "data": {
      "text/html": [
       "<div>\n",
       "<style scoped>\n",
       "    .dataframe tbody tr th:only-of-type {\n",
       "        vertical-align: middle;\n",
       "    }\n",
       "\n",
       "    .dataframe tbody tr th {\n",
       "        vertical-align: top;\n",
       "    }\n",
       "\n",
       "    .dataframe thead th {\n",
       "        text-align: right;\n",
       "    }\n",
       "</style>\n",
       "<table border=\"1\" class=\"dataframe\">\n",
       "  <thead>\n",
       "    <tr style=\"text-align: right;\">\n",
       "      <th></th>\n",
       "      <th>Name</th>\n",
       "      <th>Location</th>\n",
       "      <th>Year</th>\n",
       "      <th>Kilometers_Driven</th>\n",
       "      <th>Fuel_Type</th>\n",
       "      <th>Transmission</th>\n",
       "      <th>Owner_Type</th>\n",
       "      <th>Mileage</th>\n",
       "      <th>Engine</th>\n",
       "      <th>Power</th>\n",
       "      <th>Seats</th>\n",
       "      <th>New_Price</th>\n",
       "      <th>Price</th>\n",
       "    </tr>\n",
       "  </thead>\n",
       "  <tbody>\n",
       "    <tr>\n",
       "      <th>6386</th>\n",
       "      <td>Nissan Teana 230jM</td>\n",
       "      <td>Coimbatore</td>\n",
       "      <td>2009</td>\n",
       "      <td>67038</td>\n",
       "      <td>Petrol</td>\n",
       "      <td>Automatic</td>\n",
       "      <td>First</td>\n",
       "      <td>9.1</td>\n",
       "      <td>2349.0</td>\n",
       "      <td>NaN</td>\n",
       "      <td>5.0</td>\n",
       "      <td>11.33</td>\n",
       "      <td>NaN</td>\n",
       "    </tr>\n",
       "    <tr>\n",
       "      <th>6093</th>\n",
       "      <td>Hyundai Santro Xing XL</td>\n",
       "      <td>Bangalore</td>\n",
       "      <td>2007</td>\n",
       "      <td>47000</td>\n",
       "      <td>Petrol</td>\n",
       "      <td>Manual</td>\n",
       "      <td>Second</td>\n",
       "      <td>0.0</td>\n",
       "      <td>1086.0</td>\n",
       "      <td>NaN</td>\n",
       "      <td>5.0</td>\n",
       "      <td>4.55</td>\n",
       "      <td>NaN</td>\n",
       "    </tr>\n",
       "    <tr>\n",
       "      <th>6697</th>\n",
       "      <td>Hyundai Santro Xing XL</td>\n",
       "      <td>Jaipur</td>\n",
       "      <td>2007</td>\n",
       "      <td>85000</td>\n",
       "      <td>Petrol</td>\n",
       "      <td>Manual</td>\n",
       "      <td>Second</td>\n",
       "      <td>0.0</td>\n",
       "      <td>1086.0</td>\n",
       "      <td>NaN</td>\n",
       "      <td>5.0</td>\n",
       "      <td>4.55</td>\n",
       "      <td>NaN</td>\n",
       "    </tr>\n",
       "    <tr>\n",
       "      <th>6576</th>\n",
       "      <td>Hyundai Santro LS zipPlus</td>\n",
       "      <td>Kolkata</td>\n",
       "      <td>2002</td>\n",
       "      <td>80000</td>\n",
       "      <td>Petrol</td>\n",
       "      <td>Manual</td>\n",
       "      <td>First</td>\n",
       "      <td>0.0</td>\n",
       "      <td>1086.0</td>\n",
       "      <td>NaN</td>\n",
       "      <td>5.0</td>\n",
       "      <td>4.55</td>\n",
       "      <td>NaN</td>\n",
       "    </tr>\n",
       "    <tr>\n",
       "      <th>6216</th>\n",
       "      <td>Hindustan Motors Contessa 2.0 DSL</td>\n",
       "      <td>Pune</td>\n",
       "      <td>1996</td>\n",
       "      <td>65000</td>\n",
       "      <td>Diesel</td>\n",
       "      <td>Manual</td>\n",
       "      <td>Second</td>\n",
       "      <td>14.1</td>\n",
       "      <td>1995.0</td>\n",
       "      <td>NaN</td>\n",
       "      <td>5.0</td>\n",
       "      <td>11.30</td>\n",
       "      <td>NaN</td>\n",
       "    </tr>\n",
       "  </tbody>\n",
       "</table>\n",
       "</div>"
      ],
      "text/plain": [
       "                                   Name    Location  Year  Kilometers_Driven  \\\n",
       "6386                 Nissan Teana 230jM  Coimbatore  2009              67038   \n",
       "6093             Hyundai Santro Xing XL   Bangalore  2007              47000   \n",
       "6697             Hyundai Santro Xing XL      Jaipur  2007              85000   \n",
       "6576          Hyundai Santro LS zipPlus     Kolkata  2002              80000   \n",
       "6216  Hindustan Motors Contessa 2.0 DSL        Pune  1996              65000   \n",
       "\n",
       "     Fuel_Type Transmission Owner_Type  Mileage  Engine  Power  Seats  \\\n",
       "6386    Petrol    Automatic      First      9.1  2349.0    NaN    5.0   \n",
       "6093    Petrol       Manual     Second      0.0  1086.0    NaN    5.0   \n",
       "6697    Petrol       Manual     Second      0.0  1086.0    NaN    5.0   \n",
       "6576    Petrol       Manual      First      0.0  1086.0    NaN    5.0   \n",
       "6216    Diesel       Manual     Second     14.1  1995.0    NaN    5.0   \n",
       "\n",
       "      New_Price  Price  \n",
       "6386      11.33    NaN  \n",
       "6093       4.55    NaN  \n",
       "6697       4.55    NaN  \n",
       "6576       4.55    NaN  \n",
       "6216      11.30    NaN  "
      ]
     },
     "execution_count": 18,
     "metadata": {},
     "output_type": "execute_result"
    },
    {
     "data": {
      "application/javascript": [
       "\n",
       "            setTimeout(function() {\n",
       "                var nbb_cell_id = 18;\n",
       "                var nbb_unformatted_code = \"# Checking the rows with 2 missing values\\nnum_missing = df.isnull().sum(axis=1)\\ndf[num_missing == 2].sample(n=5)\";\n",
       "                var nbb_formatted_code = \"# Checking the rows with 2 missing values\\nnum_missing = df.isnull().sum(axis=1)\\ndf[num_missing == 2].sample(n=5)\";\n",
       "                var nbb_cells = Jupyter.notebook.get_cells();\n",
       "                for (var i = 0; i < nbb_cells.length; ++i) {\n",
       "                    if (nbb_cells[i].input_prompt_number == nbb_cell_id) {\n",
       "                        if (nbb_cells[i].get_text() == nbb_unformatted_code) {\n",
       "                             nbb_cells[i].set_text(nbb_formatted_code);\n",
       "                        }\n",
       "                        break;\n",
       "                    }\n",
       "                }\n",
       "            }, 500);\n",
       "            "
      ],
      "text/plain": [
       "<IPython.core.display.Javascript object>"
      ]
     },
     "metadata": {},
     "output_type": "display_data"
    }
   ],
   "source": [
    "# Checking the rows with 2 missing values\n",
    "num_missing = df.isnull().sum(axis=1)\n",
    "df[num_missing == 2].sample(n=5)"
   ]
  },
  {
   "cell_type": "markdown",
   "id": "97214f3c",
   "metadata": {},
   "source": [
    "- Not seeing any row missing causing a miss in `Power` but it does however have an affect on price missing like we saw in 1308 rows missing single values"
   ]
  },
  {
   "cell_type": "code",
   "execution_count": 19,
   "id": "d575472c",
   "metadata": {},
   "outputs": [
    {
     "data": {
      "text/html": [
       "<div>\n",
       "<style scoped>\n",
       "    .dataframe tbody tr th:only-of-type {\n",
       "        vertical-align: middle;\n",
       "    }\n",
       "\n",
       "    .dataframe tbody tr th {\n",
       "        vertical-align: top;\n",
       "    }\n",
       "\n",
       "    .dataframe thead th {\n",
       "        text-align: right;\n",
       "    }\n",
       "</style>\n",
       "<table border=\"1\" class=\"dataframe\">\n",
       "  <thead>\n",
       "    <tr style=\"text-align: right;\">\n",
       "      <th></th>\n",
       "      <th>Name</th>\n",
       "      <th>Location</th>\n",
       "      <th>Year</th>\n",
       "      <th>Kilometers_Driven</th>\n",
       "      <th>Fuel_Type</th>\n",
       "      <th>Transmission</th>\n",
       "      <th>Owner_Type</th>\n",
       "      <th>Mileage</th>\n",
       "      <th>Engine</th>\n",
       "      <th>Power</th>\n",
       "      <th>Seats</th>\n",
       "      <th>New_Price</th>\n",
       "      <th>Price</th>\n",
       "    </tr>\n",
       "  </thead>\n",
       "  <tbody>\n",
       "    <tr>\n",
       "      <th>6541</th>\n",
       "      <td>Toyota Etios Liva Diesel TRD Sportivo</td>\n",
       "      <td>Bangalore</td>\n",
       "      <td>2012</td>\n",
       "      <td>56600</td>\n",
       "      <td>Diesel</td>\n",
       "      <td>Manual</td>\n",
       "      <td>First</td>\n",
       "      <td>23.59</td>\n",
       "      <td>NaN</td>\n",
       "      <td>NaN</td>\n",
       "      <td>NaN</td>\n",
       "      <td>8.525</td>\n",
       "      <td>NaN</td>\n",
       "    </tr>\n",
       "    <tr>\n",
       "      <th>6902</th>\n",
       "      <td>Toyota Etios Liva V</td>\n",
       "      <td>Kochi</td>\n",
       "      <td>2012</td>\n",
       "      <td>59311</td>\n",
       "      <td>Petrol</td>\n",
       "      <td>Manual</td>\n",
       "      <td>First</td>\n",
       "      <td>18.30</td>\n",
       "      <td>NaN</td>\n",
       "      <td>NaN</td>\n",
       "      <td>NaN</td>\n",
       "      <td>8.525</td>\n",
       "      <td>NaN</td>\n",
       "    </tr>\n",
       "    <tr>\n",
       "      <th>6042</th>\n",
       "      <td>Skoda Laura 1.8 TSI Ambition</td>\n",
       "      <td>Bangalore</td>\n",
       "      <td>2009</td>\n",
       "      <td>72000</td>\n",
       "      <td>Petrol</td>\n",
       "      <td>Manual</td>\n",
       "      <td>Second</td>\n",
       "      <td>17.50</td>\n",
       "      <td>NaN</td>\n",
       "      <td>NaN</td>\n",
       "      <td>NaN</td>\n",
       "      <td>25.830</td>\n",
       "      <td>NaN</td>\n",
       "    </tr>\n",
       "    <tr>\n",
       "      <th>6643</th>\n",
       "      <td>BMW 5 Series 520d Sedan</td>\n",
       "      <td>Bangalore</td>\n",
       "      <td>2009</td>\n",
       "      <td>150000</td>\n",
       "      <td>Diesel</td>\n",
       "      <td>Automatic</td>\n",
       "      <td>Second</td>\n",
       "      <td>18.48</td>\n",
       "      <td>NaN</td>\n",
       "      <td>NaN</td>\n",
       "      <td>NaN</td>\n",
       "      <td>67.870</td>\n",
       "      <td>NaN</td>\n",
       "    </tr>\n",
       "    <tr>\n",
       "      <th>6880</th>\n",
       "      <td>BMW 5 Series 520d Sedan</td>\n",
       "      <td>Chennai</td>\n",
       "      <td>2009</td>\n",
       "      <td>95000</td>\n",
       "      <td>Diesel</td>\n",
       "      <td>Automatic</td>\n",
       "      <td>Second</td>\n",
       "      <td>18.48</td>\n",
       "      <td>NaN</td>\n",
       "      <td>NaN</td>\n",
       "      <td>NaN</td>\n",
       "      <td>67.870</td>\n",
       "      <td>NaN</td>\n",
       "    </tr>\n",
       "  </tbody>\n",
       "</table>\n",
       "</div>"
      ],
      "text/plain": [
       "                                       Name   Location  Year  \\\n",
       "6541  Toyota Etios Liva Diesel TRD Sportivo  Bangalore  2012   \n",
       "6902                    Toyota Etios Liva V      Kochi  2012   \n",
       "6042           Skoda Laura 1.8 TSI Ambition  Bangalore  2009   \n",
       "6643                BMW 5 Series 520d Sedan  Bangalore  2009   \n",
       "6880                BMW 5 Series 520d Sedan    Chennai  2009   \n",
       "\n",
       "      Kilometers_Driven Fuel_Type Transmission Owner_Type  Mileage  Engine  \\\n",
       "6541              56600    Diesel       Manual      First    23.59     NaN   \n",
       "6902              59311    Petrol       Manual      First    18.30     NaN   \n",
       "6042              72000    Petrol       Manual     Second    17.50     NaN   \n",
       "6643             150000    Diesel    Automatic     Second    18.48     NaN   \n",
       "6880              95000    Diesel    Automatic     Second    18.48     NaN   \n",
       "\n",
       "      Power  Seats  New_Price  Price  \n",
       "6541    NaN    NaN      8.525    NaN  \n",
       "6902    NaN    NaN      8.525    NaN  \n",
       "6042    NaN    NaN     25.830    NaN  \n",
       "6643    NaN    NaN     67.870    NaN  \n",
       "6880    NaN    NaN     67.870    NaN  "
      ]
     },
     "execution_count": 19,
     "metadata": {},
     "output_type": "execute_result"
    },
    {
     "data": {
      "application/javascript": [
       "\n",
       "            setTimeout(function() {\n",
       "                var nbb_cell_id = 19;\n",
       "                var nbb_unformatted_code = \"# Checking the rows with 4 missing values\\nnum_missing = df.isnull().sum(axis=1)\\ndf[num_missing == 4].sample(n=5)\";\n",
       "                var nbb_formatted_code = \"# Checking the rows with 4 missing values\\nnum_missing = df.isnull().sum(axis=1)\\ndf[num_missing == 4].sample(n=5)\";\n",
       "                var nbb_cells = Jupyter.notebook.get_cells();\n",
       "                for (var i = 0; i < nbb_cells.length; ++i) {\n",
       "                    if (nbb_cells[i].input_prompt_number == nbb_cell_id) {\n",
       "                        if (nbb_cells[i].get_text() == nbb_unformatted_code) {\n",
       "                             nbb_cells[i].set_text(nbb_formatted_code);\n",
       "                        }\n",
       "                        break;\n",
       "                    }\n",
       "                }\n",
       "            }, 500);\n",
       "            "
      ],
      "text/plain": [
       "<IPython.core.display.Javascript object>"
      ]
     },
     "metadata": {},
     "output_type": "display_data"
    }
   ],
   "source": [
    "# Checking the rows with 4 missing values\n",
    "num_missing = df.isnull().sum(axis=1)\n",
    "df[num_missing == 4].sample(n=5)"
   ]
  },
  {
   "cell_type": "markdown",
   "id": "8860b789",
   "metadata": {},
   "source": [
    "- Where `Engine` is missing so does `Power`,`Seats` and `Price`"
   ]
  },
  {
   "cell_type": "markdown",
   "id": "d02133eb",
   "metadata": {},
   "source": [
    "There is a pattern which is analyzed programatically as below, and also all missing rows are numerical"
   ]
  },
  {
   "cell_type": "code",
   "execution_count": 20,
   "id": "90622189",
   "metadata": {},
   "outputs": [
    {
     "name": "stdout",
     "output_type": "stream",
     "text": [
      "For the rows with exactly 1 missing values, NAs are found in:\n",
      "Mileage       2\n",
      "Power       103\n",
      "Seats         2\n",
      "Price      1201\n",
      "dtype: int64\n",
      "\n",
      "\n",
      "\n",
      "For the rows with exactly 2 missing values, NAs are found in:\n",
      "Power    26\n",
      "Seats     5\n",
      "Price    23\n",
      "dtype: int64\n",
      "\n",
      "\n",
      "\n",
      "For the rows with exactly 3 missing values, NAs are found in:\n",
      "Engine    36\n",
      "Power     36\n",
      "Seats     36\n",
      "dtype: int64\n",
      "\n",
      "\n",
      "\n",
      "For the rows with exactly 4 missing values, NAs are found in:\n",
      "Engine    10\n",
      "Power     10\n",
      "Seats     10\n",
      "Price     10\n",
      "dtype: int64\n",
      "\n",
      "\n",
      "\n"
     ]
    },
    {
     "data": {
      "application/javascript": [
       "\n",
       "            setTimeout(function() {\n",
       "                var nbb_cell_id = 20;\n",
       "                var nbb_unformatted_code = \"for n in num_missing.value_counts().sort_index().index:\\n    if n > 0:\\n        print(f\\\"For the rows with exactly {n} missing values, NAs are found in:\\\")\\n        n_miss_per_col = df[num_missing == n].isnull().sum()\\n        print(n_miss_per_col[n_miss_per_col > 0])\\n        print(\\\"\\\\n\\\\n\\\")\";\n",
       "                var nbb_formatted_code = \"for n in num_missing.value_counts().sort_index().index:\\n    if n > 0:\\n        print(f\\\"For the rows with exactly {n} missing values, NAs are found in:\\\")\\n        n_miss_per_col = df[num_missing == n].isnull().sum()\\n        print(n_miss_per_col[n_miss_per_col > 0])\\n        print(\\\"\\\\n\\\\n\\\")\";\n",
       "                var nbb_cells = Jupyter.notebook.get_cells();\n",
       "                for (var i = 0; i < nbb_cells.length; ++i) {\n",
       "                    if (nbb_cells[i].input_prompt_number == nbb_cell_id) {\n",
       "                        if (nbb_cells[i].get_text() == nbb_unformatted_code) {\n",
       "                             nbb_cells[i].set_text(nbb_formatted_code);\n",
       "                        }\n",
       "                        break;\n",
       "                    }\n",
       "                }\n",
       "            }, 500);\n",
       "            "
      ],
      "text/plain": [
       "<IPython.core.display.Javascript object>"
      ]
     },
     "metadata": {},
     "output_type": "display_data"
    }
   ],
   "source": [
    "for n in num_missing.value_counts().sort_index().index:\n",
    "    if n > 0:\n",
    "        print(f\"For the rows with exactly {n} missing values, NAs are found in:\")\n",
    "        n_miss_per_col = df[num_missing == n].isnull().sum()\n",
    "        print(n_miss_per_col[n_miss_per_col > 0])\n",
    "        print(\"\\n\\n\")"
   ]
  },
  {
   "cell_type": "markdown",
   "id": "13461a27",
   "metadata": {},
   "source": [
    "- As we can columns are either missing together or missing in seperate quantities and orders. Price is definetly affected \n",
    "- We will not drop these columns as we need them for our model, specially price. We will impute them with thei mean values "
   ]
  },
  {
   "cell_type": "markdown",
   "id": "4ebab837",
   "metadata": {},
   "source": [
    "*Imputing the numerical columns values with their mean values, keeping in mind that we will also need to do an Outlier treatment as means are prone to be affected by outliers*"
   ]
  },
  {
   "cell_type": "code",
   "execution_count": 21,
   "id": "a5705e69",
   "metadata": {},
   "outputs": [
    {
     "name": "stdout",
     "output_type": "stream",
     "text": [
      "2\n",
      "46\n",
      "175\n",
      "53\n",
      "1234\n"
     ]
    },
    {
     "data": {
      "application/javascript": [
       "\n",
       "            setTimeout(function() {\n",
       "                var nbb_cell_id = 21;\n",
       "                var nbb_unformatted_code = \"# Using `fillna` with a numeric volumn\\n# We need to make sure of the column sequence to stay as per data column sequence, otherwise some rows\\n# won't be impupted into their mean value\\nnumeric_cols = [\\\"Mileage\\\", \\\"Engine\\\", \\\"Power\\\", \\\"Seats\\\", \\\"Price\\\"]\\nfor i in numeric_cols:\\n    print(df[i].isnull().sum())\\n    df[i].fillna(df[i].mean(), inplace=True)  # mean imputation\\n    df[i].isnull().sum()\";\n",
       "                var nbb_formatted_code = \"# Using `fillna` with a numeric volumn\\n# We need to make sure of the column sequence to stay as per data column sequence, otherwise some rows\\n# won't be impupted into their mean value\\nnumeric_cols = [\\\"Mileage\\\", \\\"Engine\\\", \\\"Power\\\", \\\"Seats\\\", \\\"Price\\\"]\\nfor i in numeric_cols:\\n    print(df[i].isnull().sum())\\n    df[i].fillna(df[i].mean(), inplace=True)  # mean imputation\\n    df[i].isnull().sum()\";\n",
       "                var nbb_cells = Jupyter.notebook.get_cells();\n",
       "                for (var i = 0; i < nbb_cells.length; ++i) {\n",
       "                    if (nbb_cells[i].input_prompt_number == nbb_cell_id) {\n",
       "                        if (nbb_cells[i].get_text() == nbb_unformatted_code) {\n",
       "                             nbb_cells[i].set_text(nbb_formatted_code);\n",
       "                        }\n",
       "                        break;\n",
       "                    }\n",
       "                }\n",
       "            }, 500);\n",
       "            "
      ],
      "text/plain": [
       "<IPython.core.display.Javascript object>"
      ]
     },
     "metadata": {},
     "output_type": "display_data"
    }
   ],
   "source": [
    "# Using `fillna` with a numeric volumn\n",
    "# We need to make sure of the column sequence to stay as per data column sequence, otherwise some rows\n",
    "# won't be impupted into their mean value\n",
    "numeric_cols = [\"Mileage\", \"Engine\", \"Power\", \"Seats\", \"Price\"]\n",
    "for i in numeric_cols:\n",
    "    print(df[i].isnull().sum())\n",
    "    df[i].fillna(df[i].mean(), inplace=True)  # mean imputation\n",
    "    df[i].isnull().sum()"
   ]
  },
  {
   "cell_type": "code",
   "execution_count": 22,
   "id": "d3a9c884",
   "metadata": {},
   "outputs": [
    {
     "data": {
      "text/plain": [
       "Name                 0\n",
       "Location             0\n",
       "Year                 0\n",
       "Kilometers_Driven    0\n",
       "Fuel_Type            0\n",
       "Transmission         0\n",
       "Owner_Type           0\n",
       "Mileage              0\n",
       "Engine               0\n",
       "Power                0\n",
       "Seats                0\n",
       "New_Price            0\n",
       "Price                0\n",
       "dtype: int64"
      ]
     },
     "execution_count": 22,
     "metadata": {},
     "output_type": "execute_result"
    },
    {
     "data": {
      "application/javascript": [
       "\n",
       "            setTimeout(function() {\n",
       "                var nbb_cell_id = 22;\n",
       "                var nbb_unformatted_code = \"# Which columns has the most missing values**\\ndf.isnull().sum().sort_values(ascending=False)\";\n",
       "                var nbb_formatted_code = \"# Which columns has the most missing values**\\ndf.isnull().sum().sort_values(ascending=False)\";\n",
       "                var nbb_cells = Jupyter.notebook.get_cells();\n",
       "                for (var i = 0; i < nbb_cells.length; ++i) {\n",
       "                    if (nbb_cells[i].input_prompt_number == nbb_cell_id) {\n",
       "                        if (nbb_cells[i].get_text() == nbb_unformatted_code) {\n",
       "                             nbb_cells[i].set_text(nbb_formatted_code);\n",
       "                        }\n",
       "                        break;\n",
       "                    }\n",
       "                }\n",
       "            }, 500);\n",
       "            "
      ],
      "text/plain": [
       "<IPython.core.display.Javascript object>"
      ]
     },
     "metadata": {},
     "output_type": "display_data"
    }
   ],
   "source": [
    "# Which columns has the most missing values**\n",
    "df.isnull().sum().sort_values(ascending=False)"
   ]
  },
  {
   "cell_type": "markdown",
   "id": "fa8e9d4f",
   "metadata": {},
   "source": [
    "- Now `Engine`, `Power`, `Seats`,`Price` are containing 0 missing values"
   ]
  },
  {
   "cell_type": "markdown",
   "id": "3ad8d528",
   "metadata": {},
   "source": [
    "**Basic EDA-Statistical Summary before going any further to see how our data is looking**"
   ]
  },
  {
   "cell_type": "code",
   "execution_count": 23,
   "id": "373e0ddc",
   "metadata": {},
   "outputs": [
    {
     "data": {
      "text/html": [
       "<div>\n",
       "<style scoped>\n",
       "    .dataframe tbody tr th:only-of-type {\n",
       "        vertical-align: middle;\n",
       "    }\n",
       "\n",
       "    .dataframe tbody tr th {\n",
       "        vertical-align: top;\n",
       "    }\n",
       "\n",
       "    .dataframe thead th {\n",
       "        text-align: right;\n",
       "    }\n",
       "</style>\n",
       "<table border=\"1\" class=\"dataframe\">\n",
       "  <thead>\n",
       "    <tr style=\"text-align: right;\">\n",
       "      <th></th>\n",
       "      <th>count</th>\n",
       "      <th>mean</th>\n",
       "      <th>std</th>\n",
       "      <th>min</th>\n",
       "      <th>25%</th>\n",
       "      <th>50%</th>\n",
       "      <th>75%</th>\n",
       "      <th>max</th>\n",
       "    </tr>\n",
       "  </thead>\n",
       "  <tbody>\n",
       "    <tr>\n",
       "      <th>Year</th>\n",
       "      <td>7253.0</td>\n",
       "      <td>2013.365366</td>\n",
       "      <td>3.254421</td>\n",
       "      <td>1996.00</td>\n",
       "      <td>2011.00</td>\n",
       "      <td>2014.00</td>\n",
       "      <td>2016.000000</td>\n",
       "      <td>2019.00</td>\n",
       "    </tr>\n",
       "    <tr>\n",
       "      <th>Kilometers_Driven</th>\n",
       "      <td>7253.0</td>\n",
       "      <td>58699.063146</td>\n",
       "      <td>84427.720583</td>\n",
       "      <td>171.00</td>\n",
       "      <td>34000.00</td>\n",
       "      <td>53416.00</td>\n",
       "      <td>73000.000000</td>\n",
       "      <td>6500000.00</td>\n",
       "    </tr>\n",
       "    <tr>\n",
       "      <th>Mileage</th>\n",
       "      <td>7253.0</td>\n",
       "      <td>18.141580</td>\n",
       "      <td>4.561567</td>\n",
       "      <td>0.00</td>\n",
       "      <td>15.17</td>\n",
       "      <td>18.16</td>\n",
       "      <td>21.100000</td>\n",
       "      <td>33.54</td>\n",
       "    </tr>\n",
       "    <tr>\n",
       "      <th>Engine</th>\n",
       "      <td>7253.0</td>\n",
       "      <td>1616.573470</td>\n",
       "      <td>593.394164</td>\n",
       "      <td>72.00</td>\n",
       "      <td>1198.00</td>\n",
       "      <td>1493.00</td>\n",
       "      <td>1968.000000</td>\n",
       "      <td>5998.00</td>\n",
       "    </tr>\n",
       "    <tr>\n",
       "      <th>Power</th>\n",
       "      <td>7253.0</td>\n",
       "      <td>112.765214</td>\n",
       "      <td>52.844178</td>\n",
       "      <td>34.20</td>\n",
       "      <td>77.00</td>\n",
       "      <td>98.60</td>\n",
       "      <td>138.030000</td>\n",
       "      <td>616.00</td>\n",
       "    </tr>\n",
       "    <tr>\n",
       "      <th>Seats</th>\n",
       "      <td>7253.0</td>\n",
       "      <td>5.279722</td>\n",
       "      <td>0.808688</td>\n",
       "      <td>0.00</td>\n",
       "      <td>5.00</td>\n",
       "      <td>5.00</td>\n",
       "      <td>5.000000</td>\n",
       "      <td>10.00</td>\n",
       "    </tr>\n",
       "    <tr>\n",
       "      <th>New_Price</th>\n",
       "      <td>7253.0</td>\n",
       "      <td>21.307322</td>\n",
       "      <td>24.256314</td>\n",
       "      <td>3.91</td>\n",
       "      <td>7.88</td>\n",
       "      <td>11.30</td>\n",
       "      <td>21.690000</td>\n",
       "      <td>375.00</td>\n",
       "    </tr>\n",
       "    <tr>\n",
       "      <th>Price</th>\n",
       "      <td>7253.0</td>\n",
       "      <td>9.479468</td>\n",
       "      <td>10.191695</td>\n",
       "      <td>0.44</td>\n",
       "      <td>3.85</td>\n",
       "      <td>6.75</td>\n",
       "      <td>9.479468</td>\n",
       "      <td>160.00</td>\n",
       "    </tr>\n",
       "  </tbody>\n",
       "</table>\n",
       "</div>"
      ],
      "text/plain": [
       "                    count          mean           std      min       25%  \\\n",
       "Year               7253.0   2013.365366      3.254421  1996.00   2011.00   \n",
       "Kilometers_Driven  7253.0  58699.063146  84427.720583   171.00  34000.00   \n",
       "Mileage            7253.0     18.141580      4.561567     0.00     15.17   \n",
       "Engine             7253.0   1616.573470    593.394164    72.00   1198.00   \n",
       "Power              7253.0    112.765214     52.844178    34.20     77.00   \n",
       "Seats              7253.0      5.279722      0.808688     0.00      5.00   \n",
       "New_Price          7253.0     21.307322     24.256314     3.91      7.88   \n",
       "Price              7253.0      9.479468     10.191695     0.44      3.85   \n",
       "\n",
       "                        50%           75%         max  \n",
       "Year                2014.00   2016.000000     2019.00  \n",
       "Kilometers_Driven  53416.00  73000.000000  6500000.00  \n",
       "Mileage               18.16     21.100000       33.54  \n",
       "Engine              1493.00   1968.000000     5998.00  \n",
       "Power                 98.60    138.030000      616.00  \n",
       "Seats                  5.00      5.000000       10.00  \n",
       "New_Price             11.30     21.690000      375.00  \n",
       "Price                  6.75      9.479468      160.00  "
      ]
     },
     "execution_count": 23,
     "metadata": {},
     "output_type": "execute_result"
    },
    {
     "data": {
      "application/javascript": [
       "\n",
       "            setTimeout(function() {\n",
       "                var nbb_cell_id = 23;\n",
       "                var nbb_unformatted_code = \"df.describe().T\";\n",
       "                var nbb_formatted_code = \"df.describe().T\";\n",
       "                var nbb_cells = Jupyter.notebook.get_cells();\n",
       "                for (var i = 0; i < nbb_cells.length; ++i) {\n",
       "                    if (nbb_cells[i].input_prompt_number == nbb_cell_id) {\n",
       "                        if (nbb_cells[i].get_text() == nbb_unformatted_code) {\n",
       "                             nbb_cells[i].set_text(nbb_formatted_code);\n",
       "                        }\n",
       "                        break;\n",
       "                    }\n",
       "                }\n",
       "            }, 500);\n",
       "            "
      ],
      "text/plain": [
       "<IPython.core.display.Javascript object>"
      ]
     },
     "metadata": {},
     "output_type": "display_data"
    }
   ],
   "source": [
    "df.describe().T"
   ]
  },
  {
   "cell_type": "markdown",
   "id": "2fafa1a0",
   "metadata": {},
   "source": [
    "- `Price` : Columns is now at 7253 Count as oppose to earlier where it was at 6019\n",
    "- `Seats`: Column is at 7253 Count as oppose to earlier where it was at 7200\n",
    "- We also now have more numeric data shown that before since we converted Mileade, Engine, Power to numeric values\n",
    "- `Mileage`: min is 0.00 indicating to a new Car, where max mileage of pre-owned vehicle is 34k miles\n",
    "- `Engine`: Normally, a car's cc can range between 800 cc to 6000 cc. As mentioned earlier, the lower the cc of the car, the better the mileage obtained. Hence, cars with up to 1000 cc give the best mileage, while cars with the cc ranging from 1000 to 1800 are also quite economical.Our max cc value doesn't seem overly exagurated therefore missing values treatment does not seem to have introduced an outlier\n",
    "- `Power`: Generally, anything more than 200bhp can reasonably be considered a high-performance car, in our case we do see some luxury vehicles with max 616 bhp, this will be further analyed in outlier treatment\n",
    "- `Seats`: While most car brands whether ecnomical or luxury can have 5 seats, however 10 seats is usually for `2022 Ford Transit Passenger Van` type vehicles, there are seems to be some outliers here\n",
    "- `Price`: Less than 75% of vehicles are resonably priced at less than 10K, however there are few outliers that has 160K, which are probably correl"
   ]
  },
  {
   "cell_type": "code",
   "execution_count": 24,
   "id": "83766a52",
   "metadata": {},
   "outputs": [
    {
     "name": "stdout",
     "output_type": "stream",
     "text": [
      "Mahindra XUV500 W8 2WD        55\n",
      "Maruti Swift VDI              49\n",
      "Maruti Swift Dzire VDI        42\n",
      "Honda City 1.5 S MT           39\n",
      "Maruti Swift VDI BSIV         37\n",
      "Maruti Ritz VDi               35\n",
      "Toyota Fortuner 3.0 Diesel    35\n",
      "Honda Amaze S i-Dtech         32\n",
      "Hyundai Grand i10 Sportz      32\n",
      "Honda City 1.5 V MT           32\n",
      "Name: Name, dtype: int64\n",
      "Only displaying first 10 of 2041 values.\n",
      "\n",
      "\n",
      "\n",
      "Mumbai        949\n",
      "Hyderabad     876\n",
      "Coimbatore    772\n",
      "Kochi         772\n",
      "Pune          765\n",
      "Delhi         660\n",
      "Kolkata       654\n",
      "Chennai       591\n",
      "Jaipur        499\n",
      "Bangalore     440\n",
      "Name: Location, dtype: int64\n",
      "Only displaying first 10 of 11 values.\n",
      "\n",
      "\n",
      "\n",
      "Diesel      3852\n",
      "Petrol      3325\n",
      "CNG           62\n",
      "LPG           12\n",
      "Electric       2\n",
      "Name: Fuel_Type, dtype: int64\n",
      "\n",
      "\n",
      "\n",
      "Manual       5204\n",
      "Automatic    2049\n",
      "Name: Transmission, dtype: int64\n",
      "\n",
      "\n",
      "\n",
      "First             5952\n",
      "Second            1152\n",
      "Third              137\n",
      "Fourth & Above      12\n",
      "Name: Owner_Type, dtype: int64\n",
      "\n",
      "\n",
      "\n"
     ]
    },
    {
     "data": {
      "application/javascript": [
       "\n",
       "            setTimeout(function() {\n",
       "                var nbb_cell_id = 24;\n",
       "                var nbb_unformatted_code = \"# looking at value counts for non-numeric features\\n\\nnum_to_display = 10  # defining this up here so it's easy to change later if I want\\nfor colname in df.dtypes[df.dtypes == \\\"object\\\"].index:\\n    val_counts = df[colname].value_counts(dropna=False)  # i want to see NA counts\\n    print(val_counts[:num_to_display])\\n    if len(val_counts) > num_to_display:\\n        print(f\\\"Only displaying first {num_to_display} of {len(val_counts)} values.\\\")\\n    print(\\\"\\\\n\\\\n\\\")  # just for more space between\";\n",
       "                var nbb_formatted_code = \"# looking at value counts for non-numeric features\\n\\nnum_to_display = 10  # defining this up here so it's easy to change later if I want\\nfor colname in df.dtypes[df.dtypes == \\\"object\\\"].index:\\n    val_counts = df[colname].value_counts(dropna=False)  # i want to see NA counts\\n    print(val_counts[:num_to_display])\\n    if len(val_counts) > num_to_display:\\n        print(f\\\"Only displaying first {num_to_display} of {len(val_counts)} values.\\\")\\n    print(\\\"\\\\n\\\\n\\\")  # just for more space between\";\n",
       "                var nbb_cells = Jupyter.notebook.get_cells();\n",
       "                for (var i = 0; i < nbb_cells.length; ++i) {\n",
       "                    if (nbb_cells[i].input_prompt_number == nbb_cell_id) {\n",
       "                        if (nbb_cells[i].get_text() == nbb_unformatted_code) {\n",
       "                             nbb_cells[i].set_text(nbb_formatted_code);\n",
       "                        }\n",
       "                        break;\n",
       "                    }\n",
       "                }\n",
       "            }, 500);\n",
       "            "
      ],
      "text/plain": [
       "<IPython.core.display.Javascript object>"
      ]
     },
     "metadata": {},
     "output_type": "display_data"
    }
   ],
   "source": [
    "# looking at value counts for non-numeric features\n",
    "\n",
    "num_to_display = 10  # defining this up here so it's easy to change later if I want\n",
    "for colname in df.dtypes[df.dtypes == \"object\"].index:\n",
    "    val_counts = df[colname].value_counts(dropna=False)  # i want to see NA counts\n",
    "    print(val_counts[:num_to_display])\n",
    "    if len(val_counts) > num_to_display:\n",
    "        print(f\"Only displaying first {num_to_display} of {len(val_counts)} values.\")\n",
    "    print(\"\\n\\n\")  # just for more space between"
   ]
  },
  {
   "cell_type": "markdown",
   "id": "aeb893f7",
   "metadata": {},
   "source": [
    "- Manual vehicles (5204) has an advantage over Automatic vehicles (2049)"
   ]
  },
  {
   "cell_type": "code",
   "execution_count": 25,
   "id": "854e05c8",
   "metadata": {},
   "outputs": [
    {
     "name": "stdout",
     "output_type": "stream",
     "text": [
      "Remaining NaN Values for Mileage 0\n",
      "Remaining NaN Values for Engine 0\n",
      "Remaining NaN Values for Power 0\n",
      "Remaining NaN Values for Price 0\n"
     ]
    },
    {
     "data": {
      "application/javascript": [
       "\n",
       "            setTimeout(function() {\n",
       "                var nbb_cell_id = 25;\n",
       "                var nbb_unformatted_code = \"# Originally saw 175 NaN values in power after checking with below code i was able to verify which they were.\\n# After scrolling removing kmpl endings with spaced in the front from Mileage column the issue went away.\\n# Keeping those code block here to remind myself that, i should doublcheck to make sure the values i am\\n# dropping for conversion are actually reflected or not.\\ndouble_checking_columns_for_missing = [\\\"Mileage\\\", \\\"Engine\\\", \\\"Power\\\", \\\"Price\\\"]\\n\\\"\\\"\\\"\\nMileage, Engine,Power : Previously converted to numeric\\nPrice: Just double checking to make sure\\n\\\"\\\"\\\"\\nfor c in double_checking_columns_for_missing:\\n    nan_value = df[c].isnull().values.sum()\\n    print(f\\\"Remaining NaN Values for {c} {nan_value}\\\")\";\n",
       "                var nbb_formatted_code = \"# Originally saw 175 NaN values in power after checking with below code i was able to verify which they were.\\n# After scrolling removing kmpl endings with spaced in the front from Mileage column the issue went away.\\n# Keeping those code block here to remind myself that, i should doublcheck to make sure the values i am\\n# dropping for conversion are actually reflected or not.\\ndouble_checking_columns_for_missing = [\\\"Mileage\\\", \\\"Engine\\\", \\\"Power\\\", \\\"Price\\\"]\\n\\\"\\\"\\\"\\nMileage, Engine,Power : Previously converted to numeric\\nPrice: Just double checking to make sure\\n\\\"\\\"\\\"\\nfor c in double_checking_columns_for_missing:\\n    nan_value = df[c].isnull().values.sum()\\n    print(f\\\"Remaining NaN Values for {c} {nan_value}\\\")\";\n",
       "                var nbb_cells = Jupyter.notebook.get_cells();\n",
       "                for (var i = 0; i < nbb_cells.length; ++i) {\n",
       "                    if (nbb_cells[i].input_prompt_number == nbb_cell_id) {\n",
       "                        if (nbb_cells[i].get_text() == nbb_unformatted_code) {\n",
       "                             nbb_cells[i].set_text(nbb_formatted_code);\n",
       "                        }\n",
       "                        break;\n",
       "                    }\n",
       "                }\n",
       "            }, 500);\n",
       "            "
      ],
      "text/plain": [
       "<IPython.core.display.Javascript object>"
      ]
     },
     "metadata": {},
     "output_type": "display_data"
    }
   ],
   "source": [
    "# Originally saw 175 NaN values in power after checking with below code i was able to verify which they were.\n",
    "# After scrolling removing kmpl endings with spaced in the front from Mileage column the issue went away.\n",
    "# Keeping those code block here to remind myself that, i should doublcheck to make sure the values i am\n",
    "# dropping for conversion are actually reflected or not.\n",
    "double_checking_columns_for_missing = [\"Mileage\", \"Engine\", \"Power\", \"Price\"]\n",
    "\"\"\"\n",
    "Mileage, Engine,Power : Previously converted to numeric\n",
    "Price: Just double checking to make sure\n",
    "\"\"\"\n",
    "for c in double_checking_columns_for_missing:\n",
    "    nan_value = df[c].isnull().values.sum()\n",
    "    print(f\"Remaining NaN Values for {c} {nan_value}\")\n"
   ]
  },
  {
   "cell_type": "markdown",
   "id": "bcb5e6f6",
   "metadata": {},
   "source": [
    "- Initial Observation after running the above code was that, there were 175 Values in Power colums were still NaN / or missing\n",
    "- After running --> df[df[\"Power\"].isnull()] and analyzing the results i realized that there were some kmpl values in Mileage section with spaces infornt of them. So after removing the spaces i re ran the code from Top to this point and reconfirmed with above code that not only converted Numeric columns(Mileage, Engine, Power) are still numeric and also Price column also has not missing columns"
   ]
  },
  {
   "cell_type": "markdown",
   "id": "f2dc3f00",
   "metadata": {},
   "source": [
    " # **Sanity Check** - There's no need for Seperate Sanity Check since this is done while preparing the Data anyways. Confirm with the instructor\n",
    " _______________________________________________________"
   ]
  },
  {
   "cell_type": "markdown",
   "id": "4a0b26af",
   "metadata": {},
   "source": [
    "`@author mirali - Created on Friday Feb 3 - Start your work from the next line`"
   ]
  },
  {
   "cell_type": "code",
   "execution_count": null,
   "id": "47b92109",
   "metadata": {},
   "outputs": [],
   "source": []
  },
  {
   "cell_type": "markdown",
   "id": "854cb86f",
   "metadata": {},
   "source": [
    "# **EDA - Exploratory Data Analysis on PreProcessed Data**\n",
    "_______________________________________________________\n",
    "1) Independent Variable must always be Normally distributed in order to generalize effectively and not be biased \n",
    "   - If not normally distirbuted we need to perform transformation on data"
   ]
  },
  {
   "cell_type": "markdown",
   "id": "d25850a2",
   "metadata": {},
   "source": [
    "`@author mirali - Created on Friday Feb 3 - Start your work from the next line`"
   ]
  },
  {
   "cell_type": "markdown",
   "id": "b9722ae2",
   "metadata": {},
   "source": [
    "<h3 style=\"color:Brown\">Bivariate Analysis</h3>"
   ]
  },
  {
   "cell_type": "markdown",
   "id": "fcda43fe",
   "metadata": {},
   "source": [
    "Rusable Method for Histplot and boxplot"
   ]
  },
  {
   "cell_type": "code",
   "execution_count": 26,
   "id": "5856513f",
   "metadata": {},
   "outputs": [
    {
     "data": {
      "application/javascript": [
       "\n",
       "            setTimeout(function() {\n",
       "                var nbb_cell_id = 26;\n",
       "                var nbb_unformatted_code = \"def hist_box(data, feature, figsize=(10, 5), kde=True, bins=None):\\n    \\\"\\\"\\\"\\n    Boxplot and Histogram combined within the same graph page\\n    in order to make comparison and analysis more efficient\\n\\n    data: dataframe\\n    feature: dataframe column\\n    figsize: size of the figures (default (10,5))\\n    kde: whether to show the density curve (values set by user during usage - Boolean)\\n    bins: number of bins for histogram (default None)\\\"\\\"\\\"\\n    # f2 holds are graph withax_box2 and ax_hist2 params\\n    f2, (ax_box2, ax_hist2) = plt.subplots(\\n        nrows=2,  # Number of rows of subplot grid=2\\n        sharex=True,  # x-axis will be shared among all subplots\\n        gridspec_kw={\\\"height_ratios\\\": (0.25, 0.75)},\\n        figsize=figsize,\\n    )\\n\\n    # boxplot will be created and a star will indicate the mean value of the column\\n    sns.boxplot(data=data, x=feature, ax=ax_box2, showmeans=True, color=\\\"violet\\\")\\n\\n    if bins:\\n        sns.histplot(\\n            data=data, x=feature, kde=kde, ax=ax_hist2, bins=bins, palette=\\\"winter\\\"\\n        )\\n    else:\\n        sns.histplot(data=data, x=feature, kde=kde, ax=ax_hist2)  # For histogram\\n\\n    ax_hist2.axvline(\\n        data[feature].mean(), color=\\\"green\\\", linestyle=\\\"--\\\"\\n    )  # Add mean to the histogram\\n\\n    ax_hist2.axvline(\\n        data[feature].median(), color=\\\"black\\\", linestyle=\\\"-\\\"\\n    )  # Add median to the histogram\";\n",
       "                var nbb_formatted_code = \"def hist_box(data, feature, figsize=(10, 5), kde=True, bins=None):\\n    \\\"\\\"\\\"\\n    Boxplot and Histogram combined within the same graph page\\n    in order to make comparison and analysis more efficient\\n\\n    data: dataframe\\n    feature: dataframe column\\n    figsize: size of the figures (default (10,5))\\n    kde: whether to show the density curve (values set by user during usage - Boolean)\\n    bins: number of bins for histogram (default None)\\\"\\\"\\\"\\n    # f2 holds are graph withax_box2 and ax_hist2 params\\n    f2, (ax_box2, ax_hist2) = plt.subplots(\\n        nrows=2,  # Number of rows of subplot grid=2\\n        sharex=True,  # x-axis will be shared among all subplots\\n        gridspec_kw={\\\"height_ratios\\\": (0.25, 0.75)},\\n        figsize=figsize,\\n    )\\n\\n    # boxplot will be created and a star will indicate the mean value of the column\\n    sns.boxplot(data=data, x=feature, ax=ax_box2, showmeans=True, color=\\\"violet\\\")\\n\\n    if bins:\\n        sns.histplot(\\n            data=data, x=feature, kde=kde, ax=ax_hist2, bins=bins, palette=\\\"winter\\\"\\n        )\\n    else:\\n        sns.histplot(data=data, x=feature, kde=kde, ax=ax_hist2)  # For histogram\\n\\n    ax_hist2.axvline(\\n        data[feature].mean(), color=\\\"green\\\", linestyle=\\\"--\\\"\\n    )  # Add mean to the histogram\\n\\n    ax_hist2.axvline(\\n        data[feature].median(), color=\\\"black\\\", linestyle=\\\"-\\\"\\n    )  # Add median to the histogram\";\n",
       "                var nbb_cells = Jupyter.notebook.get_cells();\n",
       "                for (var i = 0; i < nbb_cells.length; ++i) {\n",
       "                    if (nbb_cells[i].input_prompt_number == nbb_cell_id) {\n",
       "                        if (nbb_cells[i].get_text() == nbb_unformatted_code) {\n",
       "                             nbb_cells[i].set_text(nbb_formatted_code);\n",
       "                        }\n",
       "                        break;\n",
       "                    }\n",
       "                }\n",
       "            }, 500);\n",
       "            "
      ],
      "text/plain": [
       "<IPython.core.display.Javascript object>"
      ]
     },
     "metadata": {},
     "output_type": "display_data"
    }
   ],
   "source": [
    "def hist_box(data, feature, figsize=(10, 5), kde=True, bins=None):\n",
    "    \"\"\"\n",
    "    Boxplot and Histogram combined within the same graph page\n",
    "    in order to make comparison and analysis more efficient\n",
    "\n",
    "    data: dataframe\n",
    "    feature: dataframe column\n",
    "    figsize: size of the figures (default (10,5))\n",
    "    kde: whether to show the density curve (values set by user during usage - Boolean)\n",
    "    bins: number of bins for histogram (default None)\"\"\"\n",
    "    # f2 holds are graph withax_box2 and ax_hist2 params\n",
    "    f2, (ax_box2, ax_hist2) = plt.subplots(\n",
    "        nrows=2,  # Number of rows of subplot grid=2\n",
    "        sharex=True,  # x-axis will be shared among all subplots\n",
    "        gridspec_kw={\"height_ratios\": (0.25, 0.75)},\n",
    "        figsize=figsize,\n",
    "    )\n",
    "\n",
    "    # boxplot will be created and a star will indicate the mean value of the column\n",
    "    sns.boxplot(data=data, x=feature, ax=ax_box2, showmeans=True, color=\"violet\")\n",
    "\n",
    "    if bins:\n",
    "        sns.histplot(\n",
    "            data=data, x=feature, kde=kde, ax=ax_hist2, bins=bins, palette=\"winter\"\n",
    "        )\n",
    "    else:\n",
    "        sns.histplot(data=data, x=feature, kde=kde, ax=ax_hist2)  # For histogram\n",
    "\n",
    "    ax_hist2.axvline(\n",
    "        data[feature].mean(), color=\"green\", linestyle=\"--\"\n",
    "    )  # Add mean to the histogram\n",
    "\n",
    "    ax_hist2.axvline(\n",
    "        data[feature].median(), color=\"black\", linestyle=\"-\"\n",
    "    )  # Add median to the histogram"
   ]
  },
  {
   "cell_type": "markdown",
   "id": "19d31a25",
   "metadata": {},
   "source": [
    "Rusable Method for creating Barplots"
   ]
  },
  {
   "cell_type": "code",
   "execution_count": 27,
   "id": "20861008",
   "metadata": {},
   "outputs": [
    {
     "data": {
      "application/javascript": [
       "\n",
       "            setTimeout(function() {\n",
       "                var nbb_cell_id = 27;\n",
       "                var nbb_unformatted_code = \"def labeled_barplot(data, feature, perc=False, n=None):\\n    \\\"\\\"\\\"\\n    Barplot with percentage at the top\\n\\n    data: dataframe\\n    feature: dataframe column\\n    perc: whether to display percentages instead of count (default is False)\\n    n: displays the top n category levels (default is None, i.e., display all levels)\\n    \\\"\\\"\\\"\\n\\n    total = len(data[feature])  # length of the column\\n    count = data[feature].nunique()\\n    if n is None:\\n        plt.figure(figsize=(count + 1, 5))\\n    else:\\n        plt.figure(figsize=(n + 1, 5))\\n\\n    plt.xticks(rotation=90, fontsize=15)\\n    ax = sns.countplot(\\n        data=data,\\n        x=feature,\\n        palette=\\\"Paired\\\",\\n        order=data[feature].value_counts().index[:n].sort_values(),\\n    )\\n\\n    for p in ax.patches:\\n        if perc == True:\\n            label = \\\"{:.1f}%\\\".format(\\n                100 * p.get_height() / total\\n            )  # percentage of each class of the category\\n        else:\\n            label = p.get_height()  # count of each level of the category\\n\\n        x = p.get_x() + p.get_width() / 2  # width of the plot\\n        y = p.get_height()  # height of the plot\\n\\n        ax.annotate(\\n            label,\\n            (x, y),\\n            ha=\\\"center\\\",\\n            va=\\\"center\\\",\\n            size=12,\\n            xytext=(0, 5),\\n            textcoords=\\\"offset points\\\",\\n        )  # annotate the percentage\\n\\n    plt.show()  # show the plot\";\n",
       "                var nbb_formatted_code = \"def labeled_barplot(data, feature, perc=False, n=None):\\n    \\\"\\\"\\\"\\n    Barplot with percentage at the top\\n\\n    data: dataframe\\n    feature: dataframe column\\n    perc: whether to display percentages instead of count (default is False)\\n    n: displays the top n category levels (default is None, i.e., display all levels)\\n    \\\"\\\"\\\"\\n\\n    total = len(data[feature])  # length of the column\\n    count = data[feature].nunique()\\n    if n is None:\\n        plt.figure(figsize=(count + 1, 5))\\n    else:\\n        plt.figure(figsize=(n + 1, 5))\\n\\n    plt.xticks(rotation=90, fontsize=15)\\n    ax = sns.countplot(\\n        data=data,\\n        x=feature,\\n        palette=\\\"Paired\\\",\\n        order=data[feature].value_counts().index[:n].sort_values(),\\n    )\\n\\n    for p in ax.patches:\\n        if perc == True:\\n            label = \\\"{:.1f}%\\\".format(\\n                100 * p.get_height() / total\\n            )  # percentage of each class of the category\\n        else:\\n            label = p.get_height()  # count of each level of the category\\n\\n        x = p.get_x() + p.get_width() / 2  # width of the plot\\n        y = p.get_height()  # height of the plot\\n\\n        ax.annotate(\\n            label,\\n            (x, y),\\n            ha=\\\"center\\\",\\n            va=\\\"center\\\",\\n            size=12,\\n            xytext=(0, 5),\\n            textcoords=\\\"offset points\\\",\\n        )  # annotate the percentage\\n\\n    plt.show()  # show the plot\";\n",
       "                var nbb_cells = Jupyter.notebook.get_cells();\n",
       "                for (var i = 0; i < nbb_cells.length; ++i) {\n",
       "                    if (nbb_cells[i].input_prompt_number == nbb_cell_id) {\n",
       "                        if (nbb_cells[i].get_text() == nbb_unformatted_code) {\n",
       "                             nbb_cells[i].set_text(nbb_formatted_code);\n",
       "                        }\n",
       "                        break;\n",
       "                    }\n",
       "                }\n",
       "            }, 500);\n",
       "            "
      ],
      "text/plain": [
       "<IPython.core.display.Javascript object>"
      ]
     },
     "metadata": {},
     "output_type": "display_data"
    }
   ],
   "source": [
    "def labeled_barplot(data, feature, perc=False, n=None):\n",
    "    \"\"\"\n",
    "    Barplot with percentage at the top\n",
    "\n",
    "    data: dataframe\n",
    "    feature: dataframe column\n",
    "    perc: whether to display percentages instead of count (default is False)\n",
    "    n: displays the top n category levels (default is None, i.e., display all levels)\n",
    "    \"\"\"\n",
    "\n",
    "    total = len(data[feature])  # length of the column\n",
    "    count = data[feature].nunique()\n",
    "    if n is None:\n",
    "        plt.figure(figsize=(count + 1, 5))\n",
    "    else:\n",
    "        plt.figure(figsize=(n + 1, 5))\n",
    "\n",
    "    plt.xticks(rotation=90, fontsize=15)\n",
    "    ax = sns.countplot(\n",
    "        data=data,\n",
    "        x=feature,\n",
    "        palette=\"Paired\",\n",
    "        order=data[feature].value_counts().index[:n].sort_values(),\n",
    "    )\n",
    "\n",
    "    for p in ax.patches:\n",
    "        if perc == True:\n",
    "            label = \"{:.1f}%\".format(\n",
    "                100 * p.get_height() / total\n",
    "            )  # percentage of each class of the category\n",
    "        else:\n",
    "            label = p.get_height()  # count of each level of the category\n",
    "\n",
    "        x = p.get_x() + p.get_width() / 2  # width of the plot\n",
    "        y = p.get_height()  # height of the plot\n",
    "\n",
    "        ax.annotate(\n",
    "            label,\n",
    "            (x, y),\n",
    "            ha=\"center\",\n",
    "            va=\"center\",\n",
    "            size=12,\n",
    "            xytext=(0, 5),\n",
    "            textcoords=\"offset points\",\n",
    "        )  # annotate the percentage\n",
    "\n",
    "    plt.show()  # show the plot"
   ]
  },
  {
   "cell_type": "markdown",
   "id": "568aea63",
   "metadata": {},
   "source": [
    "Rusable Method for Calculating A five-number summary values - printing most important ones"
   ]
  },
  {
   "cell_type": "code",
   "execution_count": 28,
   "id": "342dec29",
   "metadata": {},
   "outputs": [
    {
     "data": {
      "application/javascript": [
       "\n",
       "            setTimeout(function() {\n",
       "                var nbb_cell_id = 28;\n",
       "                var nbb_unformatted_code = \"def five_number_summary(column_name):\\n    \\\"\\\"\\\"\\n    column_name: name of the column that should be searched and stats described for\\n    \\\"\\\"\\\"\\n    # To get the 25%quantile\\n    _25p = df[column_name].quantile(0.25)\\n    # To get the median\\n    _median = df[column_name].median()\\n    # To get the mean\\n    _mean = df[column_name].mean()\\n    # To get the 75%Quantile\\n    _75p = df[column_name].quantile(0.75)\\n    # To get the Standard Deviation\\n    std = df[column_name].std()\\n    print(\\n        \\\"25%\\\",\\n        _25p,\\n        \\\"\\\\n\\\" \\\"Mean-Green\\\",\\n        _mean,\\n        \\\"\\\\n\\\" \\\"Median-Boxplot\\\",\\n        _median,\\n        \\\"\\\\n\\\" \\\"75%\\\",\\n        _75p,\\n        \\\"\\\\n\\\",\\n        \\\"StandarD\\\",\\n        std,\\n        \\\"\\\\n\\\",\\n    )\";\n",
       "                var nbb_formatted_code = \"def five_number_summary(column_name):\\n    \\\"\\\"\\\"\\n    column_name: name of the column that should be searched and stats described for\\n    \\\"\\\"\\\"\\n    # To get the 25%quantile\\n    _25p = df[column_name].quantile(0.25)\\n    # To get the median\\n    _median = df[column_name].median()\\n    # To get the mean\\n    _mean = df[column_name].mean()\\n    # To get the 75%Quantile\\n    _75p = df[column_name].quantile(0.75)\\n    # To get the Standard Deviation\\n    std = df[column_name].std()\\n    print(\\n        \\\"25%\\\",\\n        _25p,\\n        \\\"\\\\n\\\" \\\"Mean-Green\\\",\\n        _mean,\\n        \\\"\\\\n\\\" \\\"Median-Boxplot\\\",\\n        _median,\\n        \\\"\\\\n\\\" \\\"75%\\\",\\n        _75p,\\n        \\\"\\\\n\\\",\\n        \\\"StandarD\\\",\\n        std,\\n        \\\"\\\\n\\\",\\n    )\";\n",
       "                var nbb_cells = Jupyter.notebook.get_cells();\n",
       "                for (var i = 0; i < nbb_cells.length; ++i) {\n",
       "                    if (nbb_cells[i].input_prompt_number == nbb_cell_id) {\n",
       "                        if (nbb_cells[i].get_text() == nbb_unformatted_code) {\n",
       "                             nbb_cells[i].set_text(nbb_formatted_code);\n",
       "                        }\n",
       "                        break;\n",
       "                    }\n",
       "                }\n",
       "            }, 500);\n",
       "            "
      ],
      "text/plain": [
       "<IPython.core.display.Javascript object>"
      ]
     },
     "metadata": {},
     "output_type": "display_data"
    }
   ],
   "source": [
    "def five_number_summary(column_name):\n",
    "    \"\"\"\n",
    "    column_name: name of the column that should be searched and stats described for\n",
    "    \"\"\"\n",
    "    # To get the 25%quantile\n",
    "    _25p = df[column_name].quantile(0.25)\n",
    "    # To get the median\n",
    "    _median = df[column_name].median()\n",
    "    # To get the mean\n",
    "    _mean = df[column_name].mean()\n",
    "    # To get the 75%Quantile\n",
    "    _75p = df[column_name].quantile(0.75)\n",
    "    # To get the Standard Deviation\n",
    "    std = df[column_name].std()\n",
    "    print(\n",
    "        \"25%\",\n",
    "        _25p,\n",
    "        \"\\n\" \"Mean-Green\",\n",
    "        _mean,\n",
    "        \"\\n\" \"Median-Boxplot\",\n",
    "        _median,\n",
    "        \"\\n\" \"75%\",\n",
    "        _75p,\n",
    "        \"\\n\",\n",
    "        \"StandarD\",\n",
    "        std,\n",
    "        \"\\n\",\n",
    "    )"
   ]
  },
  {
   "cell_type": "markdown",
   "id": "35356d3c",
   "metadata": {},
   "source": [
    "`Analyzinig Numeric Columns: Year / Manufacturing year of the car`"
   ]
  },
  {
   "cell_type": "code",
   "execution_count": 29,
   "id": "56bd2b44",
   "metadata": {},
   "outputs": [
    {
     "name": "stdout",
     "output_type": "stream",
     "text": [
      "25% 2011.0 \n",
      "Mean-Green 2013.3653660554253 \n",
      "Median-Boxplot 2014.0 \n",
      "75% 2016.0 \n",
      " StandarD 3.2544208117253053 \n",
      "\n"
     ]
    },
    {
     "data": {
      "image/png": "[encoded data removed]",
      "text/plain": [
       "<Figure size 720x360 with 2 Axes>"
      ]
     },
     "metadata": {
      "needs_background": "light"
     },
     "output_type": "display_data"
    },
    {
     "data": {
      "application/javascript": [
       "\n",
       "            setTimeout(function() {\n",
       "                var nbb_cell_id = 29;\n",
       "                var nbb_unformatted_code = \"five_number_summary(\\\"Year\\\")\\nhist_box(df, \\\"Year\\\")\";\n",
       "                var nbb_formatted_code = \"five_number_summary(\\\"Year\\\")\\nhist_box(df, \\\"Year\\\")\";\n",
       "                var nbb_cells = Jupyter.notebook.get_cells();\n",
       "                for (var i = 0; i < nbb_cells.length; ++i) {\n",
       "                    if (nbb_cells[i].input_prompt_number == nbb_cell_id) {\n",
       "                        if (nbb_cells[i].get_text() == nbb_unformatted_code) {\n",
       "                             nbb_cells[i].set_text(nbb_formatted_code);\n",
       "                        }\n",
       "                        break;\n",
       "                    }\n",
       "                }\n",
       "            }, 500);\n",
       "            "
      ],
      "text/plain": [
       "<IPython.core.display.Javascript object>"
      ]
     },
     "metadata": {},
     "output_type": "display_data"
    }
   ],
   "source": [
    "five_number_summary(\"Year\")\n",
    "hist_box(df, \"Year\")"
   ]
  },
  {
   "cell_type": "markdown",
   "id": "25c52127",
   "metadata": {},
   "source": [
    "- Most the Manufacturing year of the car falls between 2011 and 2016\n",
    "- Data has left skewedness, which may require Log Transformation....\n",
    "\n",
    "     \"The log transformation is, arguably, the most popular among the different types of transformations used to transform skewed data to approximately conform to normality. \""
   ]
  },
  {
   "cell_type": "markdown",
   "id": "be72cba0",
   "metadata": {},
   "source": [
    "`Analyzinig Numeric Columns: Kilometers_Driven / The total kilometers (a unit used to measure length or distance) driven in the car by the previous owner(s)`"
   ]
  },
  {
   "cell_type": "code",
   "execution_count": 30,
   "id": "5b4dcf1c",
   "metadata": {},
   "outputs": [
    {
     "name": "stdout",
     "output_type": "stream",
     "text": [
      "25% 34000.0 \n",
      "Mean-Green 58699.063146284294 \n",
      "Median-Boxplot 53416.0 \n",
      "75% 73000.0 \n",
      " StandarD 84427.72058265151 \n",
      "\n"
     ]
    },
    {
     "data": {
      "image/png": "[encoded data removed]",
      "text/plain": [
       "<Figure size 720x360 with 2 Axes>"
      ]
     },
     "metadata": {
      "needs_background": "light"
     },
     "output_type": "display_data"
    },
    {
     "data": {
      "application/javascript": [
       "\n",
       "            setTimeout(function() {\n",
       "                var nbb_cell_id = 30;\n",
       "                var nbb_unformatted_code = \"five_number_summary(\\\"Kilometers_Driven\\\")\\nhist_box(df, \\\"Kilometers_Driven\\\")\";\n",
       "                var nbb_formatted_code = \"five_number_summary(\\\"Kilometers_Driven\\\")\\nhist_box(df, \\\"Kilometers_Driven\\\")\";\n",
       "                var nbb_cells = Jupyter.notebook.get_cells();\n",
       "                for (var i = 0; i < nbb_cells.length; ++i) {\n",
       "                    if (nbb_cells[i].input_prompt_number == nbb_cell_id) {\n",
       "                        if (nbb_cells[i].get_text() == nbb_unformatted_code) {\n",
       "                             nbb_cells[i].set_text(nbb_formatted_code);\n",
       "                        }\n",
       "                        break;\n",
       "                    }\n",
       "                }\n",
       "            }, 500);\n",
       "            "
      ],
      "text/plain": [
       "<IPython.core.display.Javascript object>"
      ]
     },
     "metadata": {},
     "output_type": "display_data"
    }
   ],
   "source": [
    "five_number_summary(\"Kilometers_Driven\")\n",
    "hist_box(df, \"Kilometers_Driven\")"
   ]
  },
  {
   "cell_type": "markdown",
   "id": "9a8fb0f0",
   "metadata": {},
   "source": [
    "- There is huge variance in Standard Deviation `84427.72058265151`\n",
    "- Data is heavily skewed on the right\n",
    "   - Log Transformation might also be needed here\n",
    "- Pre-Owned vehicles have between 34000 to 75000 KMs on them"
   ]
  },
  {
   "cell_type": "markdown",
   "id": "aa30e663",
   "metadata": {},
   "source": [
    "`Analyzinig Numeric Columns: Mileage / The standard mileage offered by the car company in kmpl or km/kg`\n",
    "Factors to keep in mind as part of the research \n",
    "- According to https://www.iea.org/articles/fuel-economy-in-india  \"Anything that is listed as less than 6-litres/100km or more than 16.5km/1-litre is considered to be pretty good. The first (and most common) reference is litres per 100km (litres/100km). This is how many litres of fuel the car needs in order to travel 100km.\"\n",
    "- Keeping in mind that diesels can achieve 25-30% better mileage than a gas engine due to the higher efficiency of diesel fuel and it's not uncommon for a diesel-powered car to get 50 mpg or higher.\n",
    "also, while diesel fuel and diesel vehicles often cost more, diesel vehicles usually hold their resale value better and get better mileage than gas vehicles.- According to https://www.iea.org/articles/fuel-economy-in-india  \"Anything that is listed as less than 6-litres/100km or more than 16.5km/1-litre is considered to be pretty good. The first (and most common) reference is litres per 100km (litres/100km). This is how many litres of fuel the car needs in order to travel 100km.\"\n",
    "- Keeping in mind that diesels can achieve 25-30% better mileage than a gas engine due to the higher efficiency of diesel fuel and it's not uncommon for a diesel-powered car to get 50 mpg or higher.\n",
    "also, while diesel fuel and diesel vehicles often cost more, diesel vehicles usually hold their resale value better and get better mileage than gas vehicles.\n",
    "     Best Fuel-Efficient Passenger Cars\n",
    "      * Two-Seater: Smart EQ Fortwo (coupe) gets 108 mpg\n",
    "      * Minicompact: Fiat 500e gets 112 mpg\n",
    "      * Subcompact: BMW i3 gets 113 mpg\n",
    "      * Compact: Volkswagen e-Golf gets 119 mpg\n",
    "      * Mid-Size: Hyundai Ioniq Electric gets 136 mpg\n",
    "      * Large: Tesla Model S Long Range gets 111 mpg\n",
    "      * Small Station Wagon: Chevrolet Bolt EV gets 119 mpg\n"
   ]
  },
  {
   "cell_type": "code",
   "execution_count": 31,
   "id": "729107fc",
   "metadata": {},
   "outputs": [
    {
     "name": "stdout",
     "output_type": "stream",
     "text": [
      "25% 15.17 \n",
      "Mean-Green 18.14158047165908 \n",
      "Median-Boxplot 18.16 \n",
      "75% 21.1 \n",
      " StandarD 4.561567463392662 \n",
      "\n"
     ]
    },
    {
     "data": {
      "image/png": "[encoded data removed]",
      "text/plain": [
       "<Figure size 720x360 with 2 Axes>"
      ]
     },
     "metadata": {
      "needs_background": "light"
     },
     "output_type": "display_data"
    },
    {
     "data": {
      "application/javascript": [
       "\n",
       "            setTimeout(function() {\n",
       "                var nbb_cell_id = 31;\n",
       "                var nbb_unformatted_code = \"five_number_summary(\\\"Mileage\\\")\\nhist_box(df, \\\"Mileage\\\")\";\n",
       "                var nbb_formatted_code = \"five_number_summary(\\\"Mileage\\\")\\nhist_box(df, \\\"Mileage\\\")\";\n",
       "                var nbb_cells = Jupyter.notebook.get_cells();\n",
       "                for (var i = 0; i < nbb_cells.length; ++i) {\n",
       "                    if (nbb_cells[i].input_prompt_number == nbb_cell_id) {\n",
       "                        if (nbb_cells[i].get_text() == nbb_unformatted_code) {\n",
       "                             nbb_cells[i].set_text(nbb_formatted_code);\n",
       "                        }\n",
       "                        break;\n",
       "                    }\n",
       "                }\n",
       "            }, 500);\n",
       "            "
      ],
      "text/plain": [
       "<IPython.core.display.Javascript object>"
      ]
     },
     "metadata": {},
     "output_type": "display_data"
    }
   ],
   "source": [
    "five_number_summary(\"Mileage\")\n",
    "hist_box(df, \"Mileage\")"
   ]
  },
  {
   "cell_type": "markdown",
   "id": "4a8af16a",
   "metadata": {},
   "source": [
    "- Given that \"16.5 Kilometers per liter = 16.5 x 2.352146 = 38.81 Miles per gallon.\"  is considered to be pretty good, and in our data we can see that less than 75% of the vehicles are offering 21.2kmpl, with mean average of 18.16kmpl\n",
    "- Also keeping in mind that Diesel cars are more expensive due to the fact that they provide better kmpl, we will further analyse to see where Diesel and Gasoline fall Mileage Wise as well As Price Wise in our data"
   ]
  },
  {
   "cell_type": "markdown",
   "id": "799735c7",
   "metadata": {},
   "source": [
    "`Analyzinig Numeric Columns: Engine`"
   ]
  },
  {
   "cell_type": "code",
   "execution_count": null,
   "id": "e6026524",
   "metadata": {},
   "outputs": [],
   "source": []
  },
  {
   "cell_type": "markdown",
   "id": "ed91a636",
   "metadata": {},
   "source": [
    "`Analyzinig Numeric Columns: Power`"
   ]
  },
  {
   "cell_type": "code",
   "execution_count": null,
   "id": "44c73576",
   "metadata": {},
   "outputs": [],
   "source": []
  },
  {
   "cell_type": "markdown",
   "id": "f8788009",
   "metadata": {},
   "source": [
    "`Analyzinig Numeric Columns: Seats`"
   ]
  },
  {
   "cell_type": "code",
   "execution_count": null,
   "id": "6ea2129d",
   "metadata": {},
   "outputs": [],
   "source": []
  },
  {
   "cell_type": "markdown",
   "id": "05ec8cc9",
   "metadata": {},
   "source": [
    "`Analyzinig Numeric Columns: New_Price`"
   ]
  },
  {
   "cell_type": "code",
   "execution_count": null,
   "id": "7a874ee9",
   "metadata": {},
   "outputs": [],
   "source": []
  },
  {
   "cell_type": "markdown",
   "id": "18bc0b1f",
   "metadata": {},
   "source": [
    "`Analyzinig Numeric Columns: Price`"
   ]
  },
  {
   "cell_type": "code",
   "execution_count": null,
   "id": "eeee8a42",
   "metadata": {},
   "outputs": [],
   "source": []
  },
  {
   "cell_type": "code",
   "execution_count": 66,
   "id": "586b84a4",
   "metadata": {},
   "outputs": [
    {
     "name": "stdout",
     "output_type": "stream",
     "text": [
      "<class 'pandas.core.frame.DataFrame'>\n",
      "RangeIndex: 7253 entries, 0 to 7252\n",
      "Data columns (total 13 columns):\n",
      " #   Column             Non-Null Count  Dtype  \n",
      "---  ------             --------------  -----  \n",
      " 0   Name               7253 non-null   object \n",
      " 1   Location           7253 non-null   object \n",
      " 2   Year               7253 non-null   int64  \n",
      " 3   Kilometers_Driven  7253 non-null   int64  \n",
      " 4   Fuel_Type          7253 non-null   object \n",
      " 5   Transmission       7253 non-null   object \n",
      " 6   Owner_Type         7253 non-null   object \n",
      " 7   Mileage            0 non-null      float64\n",
      " 8   Engine             0 non-null      float64\n",
      " 9   Power              0 non-null      float64\n",
      " 10  Seats              7253 non-null   float64\n",
      " 11  New_Price          7253 non-null   float64\n",
      " 12  Price              7253 non-null   float64\n",
      "dtypes: float64(6), int64(2), object(5)\n",
      "memory usage: 736.8+ KB\n"
     ]
    },
    {
     "data": {
      "application/javascript": [
       "\n",
       "            setTimeout(function() {\n",
       "                var nbb_cell_id = 66;\n",
       "                var nbb_unformatted_code = \"df.info()\";\n",
       "                var nbb_formatted_code = \"df.info()\";\n",
       "                var nbb_cells = Jupyter.notebook.get_cells();\n",
       "                for (var i = 0; i < nbb_cells.length; ++i) {\n",
       "                    if (nbb_cells[i].input_prompt_number == nbb_cell_id) {\n",
       "                        if (nbb_cells[i].get_text() == nbb_unformatted_code) {\n",
       "                             nbb_cells[i].set_text(nbb_formatted_code);\n",
       "                        }\n",
       "                        break;\n",
       "                    }\n",
       "                }\n",
       "            }, 500);\n",
       "            "
      ],
      "text/plain": [
       "<IPython.core.display.Javascript object>"
      ]
     },
     "metadata": {},
     "output_type": "display_data"
    }
   ],
   "source": [
    "df.info()"
   ]
  },
  {
   "cell_type": "markdown",
   "id": "dd41809b",
   "metadata": {},
   "source": [
    "<h3 style=\"color:Brown\">Univariate Analysis</h3>"
   ]
  },
  {
   "cell_type": "code",
   "execution_count": null,
   "id": "bb0aa0ca",
   "metadata": {},
   "outputs": [],
   "source": []
  },
  {
   "cell_type": "markdown",
   "id": "75eeb085",
   "metadata": {},
   "source": [
    "**** \n",
    "<h3 style=\"color:Brown\">One-Hot Encoding categorical columns before Building ML Models</h3>"
   ]
  },
  {
   "cell_type": "markdown",
   "id": "c42bf3e0",
   "metadata": {},
   "source": [
    "### <a id='link1'>Summary of EDA</a>"
   ]
  },
  {
   "cell_type": "code",
   "execution_count": null,
   "id": "8200a6f0",
   "metadata": {},
   "outputs": [],
   "source": []
  },
  {
   "cell_type": "markdown",
   "id": "a583bcf3",
   "metadata": {},
   "source": [
    "# **Build a linear regression model to predict the prices of used cars**\n",
    "_______________________________________________________"
   ]
  },
  {
   "cell_type": "markdown",
   "id": "691e2b0e",
   "metadata": {},
   "source": [
    "`@author mirali - Created on Friday Feb 3 - Start your work from the next line`"
   ]
  },
  {
   "cell_type": "code",
   "execution_count": null,
   "id": "b47877d4",
   "metadata": {},
   "outputs": [],
   "source": []
  },
  {
   "cell_type": "markdown",
   "id": "a2ebfaf1",
   "metadata": {},
   "source": [
    "### <a id='link1'>Conclusions</a>"
   ]
  },
  {
   "cell_type": "markdown",
   "id": "16794b64",
   "metadata": {},
   "source": [
    "# **Insights and Recommendations that will help the business**\n",
    "_______________________________________________________"
   ]
  },
  {
   "cell_type": "markdown",
   "id": "8f2104d8",
   "metadata": {},
   "source": [
    "`@author mirali - Created on Friday Feb 3 - Start your work from the next line`"
   ]
  },
  {
   "cell_type": "code",
   "execution_count": null,
   "id": "949bb848",
   "metadata": {},
   "outputs": [],
   "source": []
  }
 ],
 "metadata": {
  "kernelspec": {
   "display_name": "Python 3 (ipykernel)",
   "language": "python",
   "name": "python3"
  },
  "language_info": {
   "codemirror_mode": {
    "name": "ipython",
    "version": 3
   },
   "file_extension": ".py",
   "mimetype": "text/x-python",
   "name": "python",
   "nbconvert_exporter": "python",
   "pygments_lexer": "ipython3",
   "version": "3.8.13"
  }
 },
 "nbformat": 4,
 "nbformat_minor": 5
}
