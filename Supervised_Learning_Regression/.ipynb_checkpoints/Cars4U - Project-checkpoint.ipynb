{
 "cells": [
  {
   "cell_type": "markdown",
   "id": "9a9cd635",
   "metadata": {},
   "source": [
    "**Importing necessary libraries**"
   ]
  },
  {
   "cell_type": "code",
   "execution_count": 2,
   "id": "308bd3c2",
   "metadata": {},
   "outputs": [],
   "source": [
    "# To Suppress warning such as future warnings\n",
    "import warnings \n",
    "warnings.simplefilter(action=\"ignore\", category=FutureWarning)\n",
    "# For reading and manipulating data \n",
    "import pandas as pd\n",
    "import numpy as np\n",
    "# Libraries used for data visualization \n",
    "import seaborn as sns\n",
    "import matplotlib.pyplot as plt\n",
    "# Command to tell Python to actually display the graphs \n",
    "%matplotlib inline\n",
    "# Remove the limit from the number of displayed columns and rows so i can see the entire df when printing\n",
    "pd.set_option('display.max_columns', None)\n",
    "pd.set_option('display.max_rows', 200)\n",
    "\n",
    "#Libraries used in Data Split (to test and train)\n",
    "from sklearn.model_selection import train_test_split\n",
    "#Libraries used for Linear Regression Model Building\n",
    "from sklearn.linear_model import LinearRegression"
   ]
  },
  {
   "cell_type": "markdown",
   "id": "579bf5c4",
   "metadata": {},
   "source": [
    "**Importing Data from GitHub & Making Original Data is safe and only copy is used**"
   ]
  },
  {
   "cell_type": "code",
   "execution_count": null,
   "id": "7efbca3e",
   "metadata": {},
   "outputs": [],
   "source": [
    "data = pd.read_csv(\"\")"
   ]
  }
 ],
 "metadata": {
  "kernelspec": {
   "display_name": "Python 3 (ipykernel)",
   "language": "python",
   "name": "python3"
  },
  "language_info": {
   "codemirror_mode": {
    "name": "ipython",
    "version": 3
   },
   "file_extension": ".py",
   "mimetype": "text/x-python",
   "name": "python",
   "nbconvert_exporter": "python",
   "pygments_lexer": "ipython3",
   "version": "3.8.13"
  }
 },
 "nbformat": 4,
 "nbformat_minor": 5
}
